{
 "cells": [
  {
   "cell_type": "code",
   "execution_count": 1,
   "id": "0f767aa7-6e2f-45ec-88ff-42d96d730651",
   "metadata": {},
   "outputs": [],
   "source": [
    "%store -r l_tot_curr\n",
    "%store -r list_recent_launches\n",
    "%store -r l_succ_country\n",
    "%store -r l_tot_country\n",
    "%store -r curr_year\n",
    "import matplotlib.pyplot as plt"
   ]
  },
  {
   "cell_type": "markdown",
   "id": "242a8c7a-d427-476a-b214-1c0f1158929d",
   "metadata": {
    "tags": []
   },
   "source": [
    "## Rachete, astronauți și sonde interplanetare\n",
    "Siteul de față reprezintă o colecție personală de materiale, articole și notițe (mai mult sau mai puțin structurate) despre explorarea spațiului cosmic, adusă frecvent la zi și mereu extinsă, cu un accent pe rachete și lansări orbitale.\n",
    "\n",
    "Știrile sunt grupate în Buletine Cosmice, distribuit sub formă de [newsletter](https://buletin.parsec.ro/) sau [podcast](https://www.anchor.fm/buletin).\n",
    "\n",
    "## Ultimele lansări orbitale"
   ]
  },
  {
   "cell_type": "code",
   "execution_count": 2,
   "id": "90ced021-1574-46b0-a208-eef0add2326c",
   "metadata": {
    "tags": [
     "remove-input"
    ]
   },
   "outputs": [
    {
     "name": "stdout",
     "output_type": "stream",
     "text": [
      "+----------+-----------------+---------------------+----------------------+------------------------------------------+----+--------------+\n",
      "| ID       | Date            | Rocket              | Series               | Sat * Mission                            | Or | LSite        |\n",
      "+----------+-----------------+---------------------+----------------------+------------------------------------------+----+--------------+\n",
      "| 2022-141 | 2022-10-28 0114 | Falcon 9 / FT5      | 184/B1063.8          | Starlink-67 (Starlink Group 4-31)        | US | VSFBS+SLC4E  |\n",
      "| 2022-140 | 2022-10-26 0020 | Soyuz-2-1A          | S 15000-057          | Progress MS-21 (Progress 7K-TGM No. 451) | RU | GIK-5+LC31   |\n",
      "| 2022-139 | 2022-10-22 1957 | Soyuz-2-1B / Fregat | Kh15000-011/ 142-503 | Skif-D/Gonets                            | RU | VOST+PU1S    |\n",
      "| 2022-138 | 2022-10-22 1837 | GSLV Mk III         | LVM3-M2              | OneWeb India-1 (OneWeb L14)              | IN | SHAR+SLP     |\n",
      "| 2022-137 | 2022-10-21 1900 | Soyuz-2-1V / Volga  | -                    | Kosmos-2561/2562 (14F164/14F172)         | RU | GIK-1+LC43/4 |\n",
      "| 2022-136 | 2022-10-20 1450 | Falcon 9 / FT5      | 183/B1062.10         | Starlink-66 (Starlink Group 4-36)        | US | CC+LC40      |\n",
      "| 2022-135 | 2022-10-15 1955 | Angara-1.2          | 71603?/2L            | Kosmos-2560 (EO MKA-3)                   | RU | GIK-1+LC35/1 |\n",
      "| 2022-134 | 2022-10-15 0522 | Falcon 9 / FT5      | 182/B1069.3          | Hot Bird 13F                             | US | CC+LC40      |\n",
      "| 2022-133 | 2022-10-14 1912 | Chang Zheng 2D      | Y69                  | YG-36 02 (Yaogan 36 02)                  | CN | XSC+LC3      |\n",
      "+----------+-----------------+---------------------+----------------------+------------------------------------------+----+--------------+\n"
     ]
    }
   ],
   "source": [
    "print(list_recent_launches)"
   ]
  },
  {
   "cell_type": "code",
   "execution_count": 3,
   "id": "8ebc7fb7-e506-4289-9c7b-ebbce4eece39",
   "metadata": {},
   "outputs": [
    {
     "data": {
      "image/png": "[encoded data removed]",
      "text/plain": [
       "<Figure size 432x288 with 1 Axes>"
      ]
     },
     "metadata": {
      "needs_background": "light"
     },
     "output_type": "display_data"
    }
   ],
   "source": [
    "%matplotlib inline\n",
    "\n",
    "list_countries = [\"US\", \"CN\", \"RU\", \"EU\", \"JP\", \"IN\", \"IR\", \"IL\", \"KR\", \"KP\"]\n",
    "list_slaunches = [l_succ_country[0], l_succ_country[2], l_succ_country[1], l_succ_country[3], l_succ_country[4], l_succ_country[5], l_succ_country[6], l_succ_country[7], l_succ_country[8], l_succ_country[9]]\n",
    "list_tlaunches = [l_tot_country[0], l_tot_country[2], l_tot_country[1], l_tot_country[3], l_tot_country[4], l_tot_country[5], l_tot_country[6], l_tot_country[7], l_tot_country[8], l_tot_country[9]]\n",
    "\n",
    "\n",
    "plt.bar(list_countries, list_tlaunches, color=\"r\", label=\"Lansări eșuate\")\n",
    "plt.bar(list_countries, list_slaunches, color=\"b\", label=\"Lansări reușite\")\n",
    "plt.title(\"Lansări orbitale %s\" % str(curr_year))\n",
    "plt.legend()\n",
    "plt.show()\n",
    "plt.close()"
   ]
  },
  {
   "cell_type": "markdown",
   "id": "87ce3d27-c316-4892-976b-8c824c7d9d02",
   "metadata": {},
   "source": [
    "Detalii privind rachetele orbitale active:\n",
    "- Statele Unite ale Americii: [Falcon 9](./r/falcon9.ipynb), [Atlas V](./r/atlasv.ipynb)\n",
    "- Europa: [Ariane 5](./r/ariane5.ipynb), [Vega-C](./r/vegac.ipynb)"
   ]
  },
  {
   "cell_type": "code",
   "execution_count": null,
   "id": "5b18d89a-fa17-43e0-ad9d-bbd486f27306",
   "metadata": {},
   "outputs": [],
   "source": []
  },
  {
   "cell_type": "code",
   "execution_count": null,
   "id": "4d6886f8-b06e-4d8e-ac6f-7e5d843f6dd0",
   "metadata": {},
   "outputs": [],
   "source": []
  }
 ],
 "metadata": {
  "kernelspec": {
   "display_name": "Python 3 (ipykernel)",
   "language": "python",
   "name": "python3"
  },
  "language_info": {
   "codemirror_mode": {
    "name": "ipython",
    "version": 3
   },
   "file_extension": ".py",
   "mimetype": "text/x-python",
   "name": "python",
   "nbconvert_exporter": "python",
   "pygments_lexer": "ipython3",
   "version": "3.9.15"
  }
 },
 "nbformat": 4,
 "nbformat_minor": 5
}
