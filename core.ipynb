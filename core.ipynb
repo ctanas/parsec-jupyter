{
 "cells": [
  {
   "cell_type": "code",
   "execution_count": 1,
   "id": "dce414d1-77de-4f3c-9432-24e7604f82c5",
   "metadata": {},
   "outputs": [],
   "source": [
    "#!/usr/bin/python3\n",
    "\n",
    "import requests\n",
    "import hashlib\n",
    "import os.path\n",
    "import datetime\n",
    "import re\n",
    "import numpy\n",
    "import datetime\n",
    "import pandas as pd\n",
    "from prettytable import PrettyTable\n",
    "from dateutil.parser import parse as parsedate\n",
    "\n",
    "FILE_PADS = \"sites.tsv\"\n",
    "FILE_TEMP2 = \"sites.tmp\"\n",
    "FILE_DATA = \"launchdata.tsv\"\n",
    "FILE_TEMP = \"launchdata.tmp\"\n",
    "\n",
    "today = datetime.date.today()\n",
    "year = today.year\n",
    "curr_year = str(year)\n",
    "\n",
    "%run -i pfunc.py"
   ]
  },
  {
   "cell_type": "code",
   "execution_count": 2,
   "id": "705559f6-3181-4730-ab9b-e0a8d357c086",
   "metadata": {},
   "outputs": [],
   "source": [
    "if not os.path.isfile(FILE_DATA): update_GCAT()\n",
    "if not os.path.isfile(FILE_PADS): update_PADS()"
   ]
  },
  {
   "cell_type": "code",
   "execution_count": 3,
   "id": "15f60543-97b4-4a23-9817-6efa2260476f",
   "metadata": {},
   "outputs": [],
   "source": [
    "df = pd.read_csv(FILE_DATA, sep='\\t', header=None, skiprows=lambda x: x<2, names=['Launch_Tag', 'Launch_JD', 'Launch_Date', 'LV_Type', 'Variant', 'Flight_ID', 'Flight', 'Mission', 'FlightCode', 'Platform', 'Launch_Site', 'Launch_Pad', 'Ascent_Site', 'Ascent_Pad', 'Apogee', 'Apoflag', 'Range', 'RangeFlag', 'Dest', 'Agency', 'Launch_Code', 'Group', 'Category', 'LTCite', 'Cite', 'Notes'])\n",
    "pads = pd.read_csv(FILE_PADS, sep='\\t', header=None, skiprows=lambda xx: xx<2, names=['Site', 'Code', 'UCode', 'Type', 'StateCode', 'TStart', 'TStop', 'ShortName', 'Name', 'Location', 'Longitude', 'Latitude', 'Error', 'Parent', 'ShortEName', 'EName', 'Group', 'UName'])\n",
    "\n",
    "## Filtering suborbital launches\n",
    "df = df[df[\"Launch_Tag\"].str.contains(\"-S\") == False]\n",
    "df = df[df[\"Launch_Tag\"].str.contains(\"-A\") == False]\n",
    "df = df[df[\"Launch_Tag\"].str.contains(\"-M\") == False]\n",
    "df = df[df[\"Launch_Tag\"].str.contains(\"-W\") == False]\n",
    "df = df[df[\"Launch_Tag\"].str.contains(\"-Y\") == False]\n",
    "df = df[df[\"Launch_Tag\"].str.contains(\"-U\") == False]\n",
    "df = df[df[\"Launch_Tag\"].str.contains(\"2014-000\") == False]\n",
    "\n",
    "ldata = df.to_numpy()\n",
    "pdata = pads.to_numpy()\n",
    "\n",
    "ldata_rows = len(df.index)\n",
    "pdata_rows = len(pads.index)\n",
    "\n",
    "i = 0\n",
    "j = 0\n",
    "country = []\n",
    "status =[] \n",
    "\n",
    "while i<ldata_rows:\n",
    "\tj = 0\n",
    "\twhile j<pdata_rows:\n",
    "\t\tif ldata[i][10].strip() == pdata[j][0].strip(): \n",
    "\t\t\ttmp_country = pdata[j][4]\n",
    "\t\t\tif tmp_country == \"DZ\": tmp_country = \"EU\"\n",
    "\t\t\tif tmp_country == \"J\": tmp_country = \"JP\"\n",
    "\t\t\tif tmp_country == \"GUF\": tmp_country = \"EU\"\n",
    "\t\t\tif tmp_country == \"AU\": tmp_country = \"EU\"\n",
    "\t\t\tif tmp_country == \"NZ\": tmp_country = \"US\"\n",
    "\t\t\tif tmp_country == \"TTPI\": tmp_country = \"US\"\n",
    "\t\t\tif tmp_country == \"ESCN\": tmp_country = \"US\"\n",
    "\t\t\tif tmp_country == \"KE\": tmp_country = \"US\"\n",
    "\t\t\tif tmp_country == \"KI\": tmp_country = \"RU\"\n",
    "\t\t\tif tmp_country == \"SU\": tmp_country = \"RU\"\n",
    "#\t\t\tif (int(ldata[i][1]) > int(2448615.58) and tmp_country == \"SU\"): tmp_country = \"RU\"\n",
    "\t\t\tcountry.append(tmp_country)\n",
    "\t\tj+=1\n",
    "\t# Catching failed launches\n",
    "\n",
    "\ttmp_status = ldata[i][0]\n",
    "\tif \"-F\" in str(tmp_status): \n",
    "\t\tstatus.append(\"F\")\n",
    "\telse:\n",
    "\t\tstatus.append(\"S\")\n",
    "\ti+=1\n",
    "\n",
    "df['Country'] = country\n",
    "df['Status'] = status\n",
    "ldata = df.to_numpy()\n",
    "\n",
    "i = 0\n",
    "while i<ldata_rows:\n",
    "\tif \" Jan \" in ldata[i][2]: ldata[i][2] = ldata[i][2].replace(\" Jan \",\"-01-\")\n",
    "\tif \" Feb \" in ldata[i][2]: ldata[i][2] = ldata[i][2].replace(\" Feb \",\"-02-\")\n",
    "\tif \" Mar \" in ldata[i][2]: ldata[i][2] = ldata[i][2].replace(\" Mar \",\"-03-\")\n",
    "\tif \" Apr \" in ldata[i][2]: ldata[i][2] = ldata[i][2].replace(\" Apr \",\"-04-\")\n",
    "\tif \" May \" in ldata[i][2]: ldata[i][2] = ldata[i][2].replace(\" May \",\"-05-\")\n",
    "\tif \" Jun \" in ldata[i][2]: ldata[i][2] = ldata[i][2].replace(\" Jun \",\"-06-\")\n",
    "\tif \" Jul \" in ldata[i][2]: ldata[i][2] = ldata[i][2].replace(\" Jul \",\"-07-\")\n",
    "\tif \" Aug \" in ldata[i][2]: ldata[i][2] = ldata[i][2].replace(\" Aug \",\"-08-\")\n",
    "\tif \" Sep \" in ldata[i][2]: ldata[i][2] = ldata[i][2].replace(\" Sep \",\"-09-\")\n",
    "\tif \" Oct \" in ldata[i][2]: ldata[i][2] = ldata[i][2].replace(\" Oct \",\"-10-\")\n",
    "\tif \" Nov \" in ldata[i][2]: ldata[i][2] = ldata[i][2].replace(\" Nov \",\"-11-\")\n",
    "\tif \" Dec \" in ldata[i][2]: ldata[i][2] = ldata[i][2].replace(\" Dec \",\"-12-\") \n",
    "\tif \"- \" in ldata[i][2]: ldata[i][2] = ldata[i][2].replace(\"- \",\"-0\")\n",
    "\ti+=1"
   ]
  },
  {
   "cell_type": "code",
   "execution_count": 4,
   "id": "8d7673c2-a758-4f4e-8a53-fa5ad15908e7",
   "metadata": {},
   "outputs": [],
   "source": [
    "falcon9 = racheta(\"Falcon 9\")\n",
    "ariane5 = racheta(\"Ariane 5\")\n",
    "vegac = racheta(\"Vega\")\n",
    "atlasv = racheta(\"Atlas V\")"
   ]
  },
  {
   "cell_type": "code",
   "execution_count": 5,
   "id": "33d1f9c9-0021-4fe4-bf62-d6f1120d2344",
   "metadata": {},
   "outputs": [
    {
     "name": "stdout",
     "output_type": "stream",
     "text": [
      "Stored 'list_recent_launches' (str)\n",
      "Stored 'curr_year' (str)\n",
      "Stored 'falcon9' (str)\n",
      "Stored 'atlasv' (str)\n",
      "Stored 'ariane5' (str)\n",
      "Stored 'vegac' (str)\n"
     ]
    }
   ],
   "source": [
    "%store list_recent_launches\n",
    "%store curr_year\n",
    "\n",
    "%store falcon9\n",
    "%store atlasv\n",
    "%store ariane5\n",
    "%store vegac"
   ]
  },
  {
   "cell_type": "code",
   "execution_count": null,
   "id": "5ba82c72-f972-4ae5-9fb2-0279c656f3fc",
   "metadata": {},
   "outputs": [],
   "source": []
  }
 ],
 "metadata": {
  "kernelspec": {
   "display_name": "Python 3 (ipykernel)",
   "language": "python",
   "name": "python3"
  },
  "language_info": {
   "codemirror_mode": {
    "name": "ipython",
    "version": 3
   },
   "file_extension": ".py",
   "mimetype": "text/x-python",
   "name": "python",
   "nbconvert_exporter": "python",
   "pygments_lexer": "ipython3",
   "version": "3.10.8"
  }
 },
 "nbformat": 4,
 "nbformat_minor": 5
}
