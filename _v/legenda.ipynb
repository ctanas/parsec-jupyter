{
 "cells": [
  {
   "cell_type": "markdown",
   "id": "afe10935-7e9b-412e-a143-6195cfabbc6c",
   "metadata": {},
   "source": [
    "---\n",
    "permalink: \"/v/legenda\"\n",
    "title: Legendă\n",
    "layout: default\n",
    "---"
   ]
  },
  {
   "cell_type": "code",
   "execution_count": 1,
   "id": "1a1d0634-7809-4d32-990f-32b553478485",
   "metadata": {},
   "outputs": [],
   "source": [
    "%store -r list_legend"
   ]
  },
  {
   "cell_type": "code",
   "execution_count": 2,
   "id": "b379fc66-1d52-4d78-8679-cd86e7c4302f",
   "metadata": {},
   "outputs": [
    {
     "name": "stdout",
     "output_type": "stream",
     "text": [
      "| Centru   | Denumire                                                                       | Țara   |\n",
      "|:---------|:-------------------------------------------------------------------------------|:-------|\n",
      "| ALCA     | CLA, Alcantara Space Center                                                    | BR     |\n",
      "| CC       | Cape Canaveral Air Station, Florida                                            | US     |\n",
      "| CSG      | Centre Spatial Guyanais, Kourou, Guyane Francaise                              | GUF    |\n",
      "| EAFB     | Edwards AFB, California                                                        | US     |\n",
      "| GANC     | Base Aerea de Gando, Gran Canaria                                              | ESCN   |\n",
      "| GIK-1    | 1-y Gosudarstvenniy Ispitatelniy Kosmodrom MO RF                               | RU     |\n",
      "| GIK-2    | GIK-2, Svobodniy, Amurskaya Oblast', Rossiya                                   | RU     |\n",
      "| GIK-5    | GIK-5, Baykonur, Kazakstan                                                     | RU     |\n",
      "| GNIIP    | GNIIP, Plesetsk, Rossiya                                                       | RU     |\n",
      "| GNIIPV   | GNIIP, VKS section, Plesetsk, Rossiya                                          | RU     |\n",
      "| GTsMP-4  | GTsMP-4 MO RF, Znamensk (Kapustin Yar), Rossiya                                | SU     |\n",
      "| GTsP-4   | GTsP-4, Kapustin Yar, Volgograd, Rossiya                                       | SU     |\n",
      "| HHAI     | Huang Hai CZ-11 launch zone                                                    | CN     |\n",
      "| HMG      | Centre Interarmees d'Essais d'Engins Speciaux (CIEES), Algerie                 | DZ     |\n",
      "| JQ       | Jiuquan Space Center, Nei Monggol Zizhiqu, China                               | CN     |\n",
      "| KASC     | Kagoshima Space Center, Kagoshima, Kyushu, Nippon                              | J      |\n",
      "| KAU      | Kauai Test Facility (KTF), Barking Sands, Kauai                                | US     |\n",
      "| KLA      | Sea Launch Kiritimati Launch Area, Pacific Ocean                               | KI     |\n",
      "| KLC      | Kodiak Launch Complex, Kodiak Island, Alaska                                   | US     |\n",
      "| KMR      | US Army Kwajalein Atoll (USAKA), Marshall Islands                              | TTPI   |\n",
      "| KSC      | NASA John F. Kennedy Space Center, Florida                                     | US     |\n",
      "| LROCK    | Little Rock Air Force Base, Arkansas                                           | US     |\n",
      "| MAHIA    | Rocket Lab Launch Complex 1, Onenui Station, Mahia Peninsula                   | NZ     |\n",
      "| MARS     | Mid-Atlantic Regional Spaceport, Wallops Island, Virginia                      | US     |\n",
      "| MHV      | Mojave Spaceport, California                                                   | US     |\n",
      "| NARO     | Naro Space Center (Naro Uju Senteo),Oenaro I,GoHeung, Jeollanam-do,Korea       | KR     |\n",
      "| NIIP-5   | NIIP-5, Baykonur, Kazakstan                                                    | SU     |\n",
      "| NIIP-53  | 53-y Nauchno-Issledovatelskiy Ispitatelniy Poligon,                            | SU     |\n",
      "| NOTS     | Naval Ordnance Test Station, China Lake, California                            | US     |\n",
      "| PA       | Naval Missile Facility, Point Arguello, California                             | US     |\n",
      "| PALB     | Israeli Air Force Test Range, Palmachim Beach, Israel                          | IL     |\n",
      "| PSCA     | Pacific Spaceport Complex Alaska, Kodiak Island, Alaska                        | US     |\n",
      "| SEM      | Semnan missile launch site, Iran                                               | IR     |\n",
      "| SHAHR    | Damghan (Shahroud), Iran (Dasht-E-Kabir?)                                      | IR     |\n",
      "| SHAR     | Satish Dhawan Space Ctr, Sriharikota, Andhra Pradesh, India                    | IN     |\n",
      "| SMLC     | San Marco Launch Complex, Formosa Bay, Kenya                                   | KE     |\n",
      "| SOHAE    | Sohae Launch Site, Tongch'ang-dong, Pyongang-bukdo (N Pyongan Prov), N Korea   | KP     |\n",
      "| SPFL     | Spaceport Florida, Cape Canaveral                                              | US     |\n",
      "| SPFLA    | Space Florida, Cape Canaveral                                                  | US     |\n",
      "| TNSC     | Tanegashima Space Center, Tanegashima, Nippon                                  | J      |\n",
      "| TONGH    | Tonghae SLG, Musudan-ri, Hwadae-gun, Hamgyong Pukdo, Choson                    | KP     |\n",
      "| TYSC     | Taiyuan weixing fashe zhongxin                                                 | CN     |\n",
      "| USC      | Uchinoura Space Center, Kagoshima (formerly Kagoshima)                         | J      |\n",
      "| V        | Vandenberg AFB, California                                                     | US     |\n",
      "| VSFB     | Vandenberg Space Force Base, California                                        | US     |\n",
      "| VOST     | Vostochniy, Svobodniy, Amurskaya Oblast', Rossiya                              | RU     |\n",
      "| VS       | South Vandenberg AFB, California                                               | US     |\n",
      "| VSFBS    | South Base, Vandenberg Space Force Base, California                            | US     |\n",
      "| WEN      | Wenchang Space Center, Hainan                                                  | CN     |\n",
      "| WI       | Wallops Flight Facility, Wallops Island, Virginia                              | US     |\n",
      "| WIMB     | Wallops Island Main Base, NASA Wallops Flight Facility, Chincoteague, Virginia | US     |\n",
      "| WOO      | Woomera Instrumented Range, Woomera, South Australia                           | AU     |\n",
      "| XSC      | Xichang Space Center (Songlin), Sichuan, China                                 | CN     |\n",
      "| YAS      | Yasniy site, Dombarovskiy Air Base, Orensburgskaya Oblast', Rossiya            | RU     |\n",
      "| BLA      | Barents Launch Area, Barentsovo More, Murmansk Oblast'  (Os. Kildin)           | SU     |\n"
     ]
    }
   ],
   "source": [
    "print(list_legend)"
   ]
  }
 ],
 "metadata": {
  "kernelspec": {
   "display_name": "Python 3 (ipykernel)",
   "language": "python",
   "name": "python3"
  },
  "language_info": {
   "codemirror_mode": {
    "name": "ipython",
    "version": 3
   },
   "file_extension": ".py",
   "mimetype": "text/x-python",
   "name": "python",
   "nbconvert_exporter": "python",
   "pygments_lexer": "ipython3",
   "version": "3.9.13"
  }
 },
 "nbformat": 4,
 "nbformat_minor": 5
}
