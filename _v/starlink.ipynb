{
 "cells": [
  {
   "cell_type": "markdown",
   "id": "afe10935-7e9b-412e-a143-6195cfabbc6c",
   "metadata": {},
   "source": [
    "---\n",
    "permalink: \"/v/starlink\"\n",
    "title: Lansări Starlink\n",
    "layout: default\n",
    "---"
   ]
  },
  {
   "cell_type": "code",
   "execution_count": 1,
   "id": "1a1d0634-7809-4d32-990f-32b553478485",
   "metadata": {},
   "outputs": [],
   "source": [
    "%store -r list_starlink"
   ]
  },
  {
   "cell_type": "code",
   "execution_count": 2,
   "id": "b379fc66-1d52-4d78-8679-cd86e7c4302f",
   "metadata": {},
   "outputs": [
    {
     "name": "stdout",
     "output_type": "stream",
     "text": [
      "Până la data 2022-11-08, au ajut loc 65 lansări Starlink\n",
      "\n",
      "| ID       | Dată (UTC)       | Lansator       | Serie        | Satelit (misiune)                      | Centru      |\n",
      "|:---------|:-----------------|:---------------|:-------------|:---------------------------------------|:------------|\n",
      "| 2019-029 | 2019 May 24 0230 | Falcon 9 / FT5 | 072/B1049.3  | Starlink-1 (Starlink V0.9)             | CC+LC40     |\n",
      "| 2019-074 | 2019 Nov 11 1456 | Falcon 9 / FT5 | 076/B1048.4  | Starlink-2 (Starlink V1.0-L1)          | CC+LC40     |\n",
      "| 2020-001 | 2020 Jan  7 0219 | Falcon 9 / FT5 | 079/B1049.4  | Starlink-3 (Starlink V1.0-L2)          | CC+LC40     |\n",
      "| 2020-006 | 2020 Jan 29 1406 | Falcon 9 / FT5 | 081/B1051.3  | Starlink-4 (Starlink V1.0-L3)          | CC+LC40     |\n",
      "| 2020-012 | 2020 Feb 17 1505 | Falcon 9 / FT5 | 082/B1056.4  | Starlink-5 (Starlink V1.0-L4)          | CC+LC40     |\n",
      "| 2020-019 | 2020 Mar 18 1216 | Falcon 9 / FT5 | 084/B1048.5  | Starlink-6 (Starlink V1.0-L5)          | KSC+LC39A   |\n",
      "| 2020-025 | 2020 Apr 22 1930 | Falcon 9 / FT5 | 085/B1051.4  | Starlink-7 (Starlink V1.0-L6)          | KSC+LC39A   |\n",
      "| 2020-035 | 2020 Jun  4 0125 | Falcon 9 / FT5 | 087/B1049.5  | Starlink-8 (Starlink V1.0-L7)          | CC+LC40     |\n",
      "| 2020-038 | 2020 Jun 13 0921 | Falcon 9 / FT5 | 088/B1059.3  | Starlink-9 (Starlink V1.0-L8/SkySat)   | CC+LC40     |\n",
      "| 2020-055 | 2020 Aug  7 0512 | Falcon 9 / FT5 | 091/B1051.5  | Starlink-10 (Starlink V1.0-L9/BSky)    | KSC+LC39A   |\n",
      "| 2020-057 | 2020 Aug 18 1431 | Falcon 9 / FT5 | 092/B1049.6  | Starlink-11 (Starlink V1.0-L10/SkySat) | CC+LC40     |\n",
      "| 2020-062 | 2020 Sep  3 1246 | Falcon 9 / FT5 | 094/B1060.2  | Starlink-12 (Starlink V1.0-L11)        | KSC+LC39A   |\n",
      "| 2020-070 | 2020 Oct  6 1129 | Falcon 9 / FT5 | 095/B1058.3  | Starlink-13 (Starlink V1.0-L12)        | KSC+LC39A   |\n",
      "| 2020-073 | 2020 Oct 18 1225 | Falcon 9 / FT5 | 096/B1051.6  | Starlink-14 (Starlink V1.0-L13)        | KSC+LC39A   |\n",
      "| 2020-074 | 2020 Oct 24 1531 | Falcon 9 / FT5 | 097/B1060.3  | Starlink-15 (Starlink V1.0-L14)        | CC+LC40     |\n",
      "| 2020-088 | 2020 Nov 25 0213 | Falcon 9 / FT5 | 101/B1049.7  | Starlink-16 (Starlink V1.0-L15)        | CC+LC40     |\n",
      "| 2021-005 | 2021 Jan 20 1302 | Falcon 9 / FT5 | 106/B1051.8  | Starlink-17 (Starlink V1.0-L16)        | KSC+LC39A   |\n",
      "| 2021-009 | 2021 Feb  4 0619 | Falcon 9 / FT5 | 108/B1060.5  | Starlink-19 (Starlink V1.0-L18)        | CC+LC40     |\n",
      "| 2021-012 | 2021 Feb 16 0359 | Falcon 9 / FT5 | 109/B1059.6  | Starlink-20 (Starlink V1.0-L19)        | CC+LC40     |\n",
      "| 2021-017 | 2021 Mar  4 0824 | Falcon 9 / FT5 | 110/B1049.8  | Starlink-21 (Starlink V1.0-L17)        | KSC+LC39A   |\n",
      "| 2021-018 | 2021 Mar 11 0813 | Falcon 9 / FT5 | 111/B1058.6  | Starlink-22 (Starlink V1.0-L20)        | CC+LC40     |\n",
      "| 2021-021 | 2021 Mar 14 1001 | Falcon 9 / FT5 | 112/B1051.9  | Starlink-23 (Starlink V1.0-L21)        | KSC+LC39A   |\n",
      "| 2021-024 | 2021 Mar 24 0828 | Falcon 9 / FT5 | 113/B1060.6  | Starlink-24 (Starlink V1.0-L22)        | CC+LC40     |\n",
      "| 2021-027 | 2021 Apr  7 1634 | Falcon 9 / FT5 | 114/B1058.7  | Starlink-25 (Starlink V1.0-L23)        | CC+LC40     |\n",
      "| 2021-036 | 2021 Apr 29 0344 | Falcon 9 / FT5 | 116/B1060.7  | Starlink-26 (Starlink V1.0-L24)        | CC+LC40     |\n",
      "| 2021-038 | 2021 May  4 1901 | Falcon 9 / FT5 | 117/B1049.9  | Starlink-27 (Starlink V1.0-L25)        | KSC+LC39A   |\n",
      "| 2021-040 | 2021 May  9 0642 | Falcon 9 / FT5 | 118/B1051.10 | Starlink-28 (Starlink V1.0-L27)        | CC+LC40     |\n",
      "| 2021-041 | 2021 May 15 2256 | Falcon 9 / FT5 | 119/B1058.8  | Starlink-29 (Starlink V1.0-L26)        | KSC+LC39A   |\n",
      "| 2021-044 | 2021 May 26 1859 | Falcon 9 / FT5 | 120/B1063.2  | Starlink-30 (Starlink V1.0-L28)        | CC+LC40     |\n",
      "| 2021-082 | 2021 Sep 14 0355 | Falcon 9 / FT5 | 126/B1049.10 | Starlink-32 (Starlink Group 2-1)       | VSFBS+SLC4E |\n",
      "| 2021-104 | 2021 Nov 13 1218 | Falcon 9 / FT5 | 129/B1058.9  | Starlink-33 (Starlink Group 4-1)       | CC+LC40     |\n",
      "| 2021-115 | 2021 Dec  2 2312 | Falcon 9 / FT5 | 131/B1060.9  | Starlink-34 (Starlink Group 4-3)       | CC+LC40     |\n",
      "| 2021-125 | 2021 Dec 18 1241 | Falcon 9 / FT5 | 133/B1051.11 | Starlink-35 (Starlink Group 4-4)       | VSFBS+SLC4E |\n",
      "| 2022-001 | 2022 Jan  6 2149 | Falcon 9 / FT5 | 136/B1062.4  | Starlink-36 (Starlink Group 4-5)       | KSC+LC39A   |\n",
      "| 2022-005 | 2022 Jan 19 0202 | Falcon 9 / FT5 | 138/B1060.10 | Starlink-37 (Starlink Group 4-6)       | KSC+LC39A   |\n",
      "| 2022-010 | 2022 Feb  3 1813 | Falcon 9 / FT5 | 141/B1061.6  | Starlink-38 (Starlink Group 4-7)       | KSC+LC39A   |\n",
      "| 2022-016 | 2022 Feb 21 1444 | Falcon 9 / FT5 | 142/B1058.11 | Starlink-39 (Starlink Group 4-8)       | CC+LC40     |\n",
      "| 2022-017 | 2022 Feb 25 1712 | Falcon 9 / FT5 | 143/B1063.4  | Starlink-40 (Starlink Group 4-11)      | VSFBS+SLC4E |\n",
      "| 2022-022 | 2022 Mar  3 1425 | Falcon 9 / FT5 | 144/B1060.11 | Starlink-41 (Starlink Group 4-9)       | KSC+LC39A   |\n",
      "| 2022-025 | 2022 Mar  9 1345 | Falcon 9 / FT5 | 145/B1052.4  | Starlink-42 (Starlink Group 4-10)      | CC+LC40     |\n",
      "| 2022-029 | 2022 Mar 19 0442 | Falcon 9 / FT5 | 146/B1051.12 | Starlink-43 (Starlink Group 4-12)      | CC+LC40     |\n",
      "| 2022-041 | 2022 Apr 21 1751 | Falcon 9 / FT5 | 150/B1060.12 | Starlink-44 (Starlink Group 4-14)      | CC+LC40     |\n",
      "| 2022-045 | 2022 Apr 29 2127 | Falcon 9 / FT5 | 152/B1062.6  | Starlink-45 (Starlink Group 4-16)      | CC+LC40     |\n",
      "| 2022-049 | 2022 May  6 0942 | Falcon 9 / FT5 | 153/B1058.12 | Starlink-46 (Starlink Group 4-17)      | KSC+LC39A   |\n",
      "| 2022-051 | 2022 May 13 2207 | Falcon 9 / FT5 | 154/B1063.5  | Starlink-47 (Starlink Group 4-13)      | VSFBS+SLC4E |\n",
      "| 2022-052 | 2022 May 14 2040 | Falcon 9 / FT5 | 155/B1073.1  | Starlink-48 (Starlink Group 4-15)      | CC+LC40     |\n",
      "| 2022-053 | 2022 May 18 1059 | Falcon 9 / FT5 | 156/B1052.5  | Starlink-49 (Starlink Group 4-18)      | KSC+LC39A   |\n",
      "| 2022-062 | 2022 Jun 17 1608 | Falcon 9 / FT5 | 159/B1060.13 | Starlink-50 (Starlink Group 4-19)      | KSC+LC39A   |\n",
      "| 2022-076 | 2022 Jul  7 1311 | Falcon 9 / FT5 | 163/B1058.13 | Starlink-51 (Starlink Group 4-21)      | CC+LC40     |\n",
      "| 2022-077 | 2022 Jul 11 0139 | Falcon 9 / FT5 | 164/B1063.6  | Starlink-52 (Starlink Group 3-1)       | VSFBS+SLC4E |\n",
      "| 2022-083 | 2022 Jul 17 1420 | Falcon 9 / FT5 | 166/B1051.13 | Starlink-53 (Starlink Group 4-22)      | CC+LC40     |\n",
      "| 2022-084 | 2022 Jul 22 1349 | Falcon 9 / FT5 | 167/B1071.4  | Starlink-54 (Starlink Group 3-2)       | VSFBS+SLC4E |\n",
      "| 2022-086 | 2022 Jul 24 1338 | Falcon 9 / FT5 | 168/B1062.8  | Starlink-55 (Starlink Group 4-25)      | KSC+LC39A   |\n",
      "| 2022-097 | 2022 Aug 10 0214 | Falcon 9 / FT5 | 170/B1073.3  | Starlink-56 (Starlink Group 4-26)      | KSC+LC39A   |\n",
      "| 2022-099 | 2022 Aug 12 2140 | Falcon 9 / FT5 | 171/B1061.10 | Starlink-57 (Starlink Group 3-3)       | VSFBS+SLC4E |\n",
      "| 2022-101 | 2022 Aug 19 1921 | Falcon 9 / FT5 | 172/B1062.9  | Starlink-58 (Starlink Group 4-27)      | CC+LC40     |\n",
      "| 2022-104 | 2022 Aug 28 0341 | Falcon 9 / FT5 | 173/B1069.2  | Starlink-59 (Starlink Group 4-23)      | CC+LC40     |\n",
      "| 2022-105 | 2022 Aug 31 0540 | Falcon 9 / FT5 | 174/B1063.7  | Starlink-60 (Starlink Group 3-4)       | VSFBS+SLC4E |\n",
      "| 2022-107 | 2022 Sep  5 0209 | Falcon 9 / FT5 | 175/B1052.7  | Starlink-61 (Starlink Group 4-20/SLTC) | CC+LC40     |\n",
      "| 2022-111 | 2022 Sep 11 0120 | Falcon 9 / FT5 | 176/B1058.14 | Starlink-62 (Starlink Group 4-2/BW3)   | KSC+LC39A   |\n",
      "| 2022-114 | 2022 Sep 19 0018 | Falcon 9 / FT5 | 177/B1067.6  | Starlink-63 (Starlink Group 4-34)      | CC+LC40     |\n",
      "| 2022-119 | 2022 Sep 24 2332 | Falcon 9 / FT5 | 178/B1073.4  | Starlink-64 (Starlink Group 4-35)      | CC+LC40     |\n",
      "| 2022-125 | 2022 Oct  5 2310 | Falcon 9 / FT5 | 180/B1071.5  | Starlink-65 (Starlink Group 4-29)      | VSFBS+SLC4E |\n",
      "| 2022-136 | 2022 Oct 20 1450 | Falcon 9 / FT5 | 183/B1062.10 | Starlink-66 (Starlink Group 4-36)      | CC+LC40     |\n",
      "| 2022-141 | 2022 Oct 28 0114 | Falcon 9 / FT5 | 184/B1063.8  | Starlink-67 (Starlink Group 4-31)      | VSFBS+SLC4E |\n"
     ]
    }
   ],
   "source": [
    "print(list_starlink[0])\n",
    "print(list_starlink[1])"
   ]
  },
  {
   "cell_type": "code",
   "execution_count": null,
   "id": "ada476b2-912e-4307-bdc6-4f969e19a2f0",
   "metadata": {},
   "outputs": [],
   "source": []
  }
 ],
 "metadata": {
  "kernelspec": {
   "display_name": "Python 3 (ipykernel)",
   "language": "python",
   "name": "python3"
  },
  "language_info": {
   "codemirror_mode": {
    "name": "ipython",
    "version": 3
   },
   "file_extension": ".py",
   "mimetype": "text/x-python",
   "name": "python",
   "nbconvert_exporter": "python",
   "pygments_lexer": "ipython3",
   "version": "3.10.8"
  }
 },
 "nbformat": 4,
 "nbformat_minor": 5
}
