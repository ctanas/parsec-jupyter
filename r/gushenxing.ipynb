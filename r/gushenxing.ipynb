{
 "cells": [
  {
   "cell_type": "code",
   "execution_count": 2,
   "id": "633af11a-448a-4f76-9402-aa7a76506ac4",
   "metadata": {},
   "outputs": [
    {
     "name": "stdout",
     "output_type": "stream",
     "text": [
      "Număr total de lansări Gushenxing: 3\n",
      "Număr de eșecuri Gushenxing: 0\n",
      "Rată de succes Gushenxing: 100.00%\n",
      "\n",
      "Lista lansărilor orbitale pentru racheta Gushenxing\n",
      "+----------+-----------------+--------------+--------+------------------------------------------+----+-------------+---+\n",
      "| ID       | Date            | Rocket       | Series | Sat * Mission                            | Or | LSite       | R |\n",
      "+----------+-----------------+--------------+--------+------------------------------------------+----+-------------+---+\n",
      "| 2020-080 | 2020-11-07 0712 | Gushenxing 1 | Y1     | Tianqi-11 (-)                            | CN | JQ*-        | S |\n",
      "| 2021-117 | 2021-12-07 0412 | Gushenxing 1 | Y2     | Tianjin Daxue 1 (TD-1/LZ-1/JZJ1-03/JZJ5) | CN | JQ*LC43/95? | S |\n",
      "| 2022-095 | 2022-08-09 0411 | Gushenxing 1 | Y3     | Taijing-1 01/02 (-)                      | CN | JQ*LC43/95? | S |\n",
      "+----------+-----------------+--------------+--------+------------------------------------------+----+-------------+---+\n",
      "\n"
     ]
    }
   ],
   "source": [
    "%store -r gushenxing\n",
    "print(gushenxing)"
   ]
  }
 ],
 "metadata": {
  "kernelspec": {
   "display_name": "Python 3 (ipykernel)",
   "language": "python",
   "name": "python3"
  },
  "language_info": {
   "codemirror_mode": {
    "name": "ipython",
    "version": 3
   },
   "file_extension": ".py",
   "mimetype": "text/x-python",
   "name": "python",
   "nbconvert_exporter": "python",
   "pygments_lexer": "ipython3",
   "version": "3.9.13"
  }
 },
 "nbformat": 4,
 "nbformat_minor": 5
}
