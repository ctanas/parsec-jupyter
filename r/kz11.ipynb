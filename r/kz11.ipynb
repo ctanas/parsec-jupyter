{
 "cells": [
  {
   "cell_type": "markdown",
   "id": "e06afc1a-38ad-4a9e-81e5-68f2f589cf0d",
   "metadata": {},
   "source": [
    "## Kuaizhou-11"
   ]
  },
  {
   "cell_type": "code",
   "execution_count": 1,
   "id": "633af11a-448a-4f76-9402-aa7a76506ac4",
   "metadata": {},
   "outputs": [
    {
     "name": "stdout",
     "output_type": "stream",
     "text": [
      "Număr total de lansări Kuaizhou-11: 1\n",
      "Număr de eșecuri Kuaizhou-11: 1\n",
      "Rată de succes Kuaizhou-11: 0.00%\n",
      "Număr de lansări reușite de la ultimul eșec: 1\n",
      "\n",
      "Lista lansărilor orbitale pentru racheta Kuaizhou-11\n",
      "+----------+-----------------+-------------+--------+----------------------+----+------------+---+\n",
      "| ID       | Date            | Rocket      | Series | Sat * Mission        | Or | LSite      | R |\n",
      "+----------+-----------------+-------------+--------+----------------------+----+------------+---+\n",
      "| 2020-F06 | 2020-07-10 0417 | Kuaizhou-11 | Y1     | Jilin Gaofen 02E (-) | CN | JQ*LC43/95 | F |\n",
      "+----------+-----------------+-------------+--------+----------------------+----+------------+---+\n",
      "\n"
     ]
    }
   ],
   "source": [
    "%store -r kz11\n",
    "print(kz11)"
   ]
  },
  {
   "cell_type": "code",
   "execution_count": null,
   "id": "7704403a-32b9-4a03-b724-f1b44f0210fa",
   "metadata": {},
   "outputs": [],
   "source": []
  }
 ],
 "metadata": {
  "kernelspec": {
   "display_name": "Python 3 (ipykernel)",
   "language": "python",
   "name": "python3"
  },
  "language_info": {
   "codemirror_mode": {
    "name": "ipython",
    "version": 3
   },
   "file_extension": ".py",
   "mimetype": "text/x-python",
   "name": "python",
   "nbconvert_exporter": "python",
   "pygments_lexer": "ipython3",
   "version": "3.10.8"
  }
 },
 "nbformat": 4,
 "nbformat_minor": 5
}
