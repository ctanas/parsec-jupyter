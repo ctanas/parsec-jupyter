{
 "cells": [
  {
   "cell_type": "markdown",
   "id": "e06afc1a-38ad-4a9e-81e5-68f2f589cf0d",
   "metadata": {},
   "source": [
    "## Delta 4 Heavy"
   ]
  },
  {
   "cell_type": "code",
   "execution_count": 1,
   "id": "633af11a-448a-4f76-9402-aa7a76506ac4",
   "metadata": {},
   "outputs": [
    {
     "name": "stdout",
     "output_type": "stream",
     "text": [
      "Număr total de lansări Delta 4 Heavy: 14\n",
      "Număr de eșecuri Delta 4 Heavy: 0\n",
      "Rată de succes Delta 4 Heavy: 100.00%\n",
      "\n",
      "Lista lansărilor orbitale pentru racheta Delta 4 Heavy\n",
      "+----------+-----------------+-------------------------+------------+--------------------------------------------+----+-----------+---+\n",
      "| ID       | Date            | Rocket                  | Series     | Sat * Mission                              | Or | LSite     | R |\n",
      "+----------+-----------------+-------------------------+------------+--------------------------------------------+----+-----------+---+\n",
      "| 2004-050 | 2004-12-21 2150 | Delta 4 Heavy           | D4-4/D310  | Demosat (HLV-OLDSP)                        | US | CC*SLC37B | S |\n",
      "| 2007-054 | 2007-11-11 0150 | Delta 4 Heavy           | D4-8/D329  | USA 197 (DSP 23) (DSP F23)                 | US | CC*SLC37B | S |\n",
      "| 2009-001 | 2009-01-18 0247 | Delta 4 Heavy           | D4-9/D337  | USA 202       [RH10] (ORION 6)             | US | CC*SLC37B | S |\n",
      "| 2010-063 | 2010-11-21 2258 | Delta 4 Heavy           | D4-14/D351 | USA 223      [RH11] (ORION 7)              | US | CC*SLC37B | S |\n",
      "| 2011-002 | 2011-01-20 2110 | Delta 4 Heavy           | D4-15/D352 | USA 224      [IC] (Improved CRYSTAL 2109?) | US | VS*SLC6   | S |\n",
      "| 2012-034 | 2012-06-29 1315 | Delta 4 Heavy           | D4-20/D360 | USA 237      [RH12] (ORION 8)              | US | CC*SLC37B | S |\n",
      "| 2013-043 | 2013-08-28 1803 | Delta 4 Heavy           | D4-24/D364 | USA 245      [IC] (EIS CRYSTAL)            | US | VS*SLC6   | S |\n",
      "| 2014-077 | 2014-12-05 1205 | Delta 4 Heavy           | D4-28/D369 | Orion EFT-1                                | US | CC*SLC37B | S |\n",
      "| 2016-036 | 2016-06-11 1751 | Delta 4 Heavy           | D4-32/D374 | USA 268 (ORION 9)                          | US | CC*SLC37B | S |\n",
      "| 2018-065 | 2018-08-12 0731 | Delta 4 Heavy/Star 48BV | D4-37/D380 | Parker Solar Probe (Solar Probe Plus)      | US | CC*SLC37B | S |\n",
      "| 2019-004 | 2019-01-19 1910 | Delta 4 Heavy           | D4-38/D382 | USA 290 (Improved CRYSTAL?)                | US | VS*SLC6   | S |\n",
      "| 2020-095 | 2020-12-11 0109 | Delta 4 Heavy           | D4-41/D385 | USA 311 (ORION 10?)                        | US | CC*SLC37B | S |\n",
      "| 2021-032 | 2021-04-26 2047 | Delta 4 Heavy           | D4-42/D386 | USA 314 (Improved CRYSTAL?)                | US | VS*SLC6   | S |\n",
      "| 2022-117 | 2022-09-24 2225 | Delta 4 Heavy           | D4-43/D387 | USA 338 (Improved CRYSTAL?)                | US | VS*SLC6   | S |\n",
      "+----------+-----------------+-------------------------+------------+--------------------------------------------+----+-----------+---+\n",
      "\n"
     ]
    }
   ],
   "source": [
    "%store -r delta4h\n",
    "print(delta4h)"
   ]
  }
 ],
 "metadata": {
  "kernelspec": {
   "display_name": "Python 3 (ipykernel)",
   "language": "python",
   "name": "python3"
  },
  "language_info": {
   "codemirror_mode": {
    "name": "ipython",
    "version": 3
   },
   "file_extension": ".py",
   "mimetype": "text/x-python",
   "name": "python",
   "nbconvert_exporter": "python",
   "pygments_lexer": "ipython3",
   "version": "3.9.13"
  }
 },
 "nbformat": 4,
 "nbformat_minor": 5
}
