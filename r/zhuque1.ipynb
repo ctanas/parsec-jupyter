{
 "cells": [
  {
   "cell_type": "code",
   "execution_count": 2,
   "id": "633af11a-448a-4f76-9402-aa7a76506ac4",
   "metadata": {},
   "outputs": [
    {
     "name": "stdout",
     "output_type": "stream",
     "text": [
      "Număr total de lansări Zhuque-1: 1\n",
      "Număr de eșecuri Zhuque-1: 1\n",
      "Rată de succes Zhuque-1: 0.00%\n",
      "Număr de lansări reușite de la ultimul eșec: 1\n",
      "\n",
      "Lista lansărilor orbitale pentru racheta Zhuque-1\n",
      "+----------+-----------------+----------+--------+---------------+----+-------------+---+\n",
      "| ID       | Date            | Rocket   | Series | Sat * Mission | Or | LSite       | R |\n",
      "+----------+-----------------+----------+--------+---------------+----+-------------+---+\n",
      "| 2018-F02 | 2018-10-27 0800 | Zhuque-1 | -      | Weilai        | CN | JQ*LC43/95? | F |\n",
      "+----------+-----------------+----------+--------+---------------+----+-------------+---+\n",
      "\n"
     ]
    }
   ],
   "source": [
    "%store -r zhuque1\n",
    "print(zhuque1)"
   ]
  },
  {
   "cell_type": "code",
   "execution_count": null,
   "id": "c1adf7a3-da9b-4c08-b439-23b8b2fe0824",
   "metadata": {},
   "outputs": [],
   "source": []
  },
  {
   "cell_type": "code",
   "execution_count": null,
   "id": "e8d50d07-f8ca-457b-88e1-9a06b4b209b6",
   "metadata": {},
   "outputs": [],
   "source": []
  }
 ],
 "metadata": {
  "kernelspec": {
   "display_name": "Python 3 (ipykernel)",
   "language": "python",
   "name": "python3"
  },
  "language_info": {
   "codemirror_mode": {
    "name": "ipython",
    "version": 3
   },
   "file_extension": ".py",
   "mimetype": "text/x-python",
   "name": "python",
   "nbconvert_exporter": "python",
   "pygments_lexer": "ipython3",
   "version": "3.9.13"
  }
 },
 "nbformat": 4,
 "nbformat_minor": 5
}
