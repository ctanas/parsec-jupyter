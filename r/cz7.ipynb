{
 "cells": [
  {
   "cell_type": "markdown",
   "id": "e06afc1a-38ad-4a9e-81e5-68f2f589cf0d",
   "metadata": {},
   "source": [
    "## Chang Zheng 7"
   ]
  },
  {
   "cell_type": "code",
   "execution_count": 1,
   "id": "633af11a-448a-4f76-9402-aa7a76506ac4",
   "metadata": {},
   "outputs": [
    {
     "name": "stdout",
     "output_type": "stream",
     "text": [
      "Număr total de lansări Chang Zheng 7: 9\n",
      "Număr de eșecuri Chang Zheng 7: 1\n",
      "Rată de succes Chang Zheng 7: 88.89%\n",
      "Număr de lansări reușite de la ultimul eșec: 7\n",
      "\n",
      "Lista lansărilor orbitale pentru racheta Chang Zheng 7\n",
      "+----------+-----------------+---------------------+--------+-------------------------------+----+-----------+---+\n",
      "| ID       | Date            | Rocket              | Series | Sat * Mission                 | Or | LSite     | R |\n",
      "+----------+-----------------+---------------------+--------+-------------------------------+----+-----------+---+\n",
      "| 2016-042 | 2016-06-25 1200 | Chang Zheng 7/YZ-1A | Y1     | Fanhui Cang (FC/Aoxiang)      | CN | WEN*LC201 | S |\n",
      "| 2017-021 | 2017-04-20 1141 | Chang Zheng 7       | Y2     | Tianzhou 1                    | CN | WEN*LC201 | S |\n",
      "| 2020-F02 | 2020-03-16 1334 | Chang Zheng 7A      | Y1     | XYZ-6                         | CN | WEN*LC201 | F |\n",
      "| 2021-019 | 2021-03-11 1751 | Chang Zheng 7A      | Y2     | Shiyan 9                      | CN | WEN*LC201 | S |\n",
      "| 2021-046 | 2021-05-29 1255 | Chang Zheng 7       | Y3     | Tianzhou 2                    | CN | WEN*LC201 | S |\n",
      "| 2021-085 | 2021-09-20 0710 | Chang Zheng 7       | Y4     | Tianzhou 3                    | CN | WEN*LC201 | S |\n",
      "| 2021-129 | 2021-12-23 1012 | Chang Zheng 7A      | Y3     | SY-12 01/02 (Shiyan 12 01/02) | CN | WEN*LC201 | S |\n",
      "| 2022-050 | 2022-05-09 1756 | Chang Zheng 7       | Y5     | Tianzhou-4                    | CN | WEN*LC201 | S |\n",
      "| 2022-112 | 2022-09-13 1318 | Chang Zheng 7A      | Y5     | Zhongxing-1E (ZX-1E)          | CN | WEN*LC201 | S |\n",
      "+----------+-----------------+---------------------+--------+-------------------------------+----+-----------+---+\n",
      "\n"
     ]
    }
   ],
   "source": [
    "%store -r cz7\n",
    "print(cz7)"
   ]
  },
  {
   "cell_type": "code",
   "execution_count": null,
   "id": "c1adf7a3-da9b-4c08-b439-23b8b2fe0824",
   "metadata": {},
   "outputs": [],
   "source": []
  },
  {
   "cell_type": "code",
   "execution_count": null,
   "id": "e8d50d07-f8ca-457b-88e1-9a06b4b209b6",
   "metadata": {},
   "outputs": [],
   "source": []
  }
 ],
 "metadata": {
  "kernelspec": {
   "display_name": "Python 3 (ipykernel)",
   "language": "python",
   "name": "python3"
  },
  "language_info": {
   "codemirror_mode": {
    "name": "ipython",
    "version": 3
   },
   "file_extension": ".py",
   "mimetype": "text/x-python",
   "name": "python",
   "nbconvert_exporter": "python",
   "pygments_lexer": "ipython3",
   "version": "3.10.8"
  }
 },
 "nbformat": 4,
 "nbformat_minor": 5
}
