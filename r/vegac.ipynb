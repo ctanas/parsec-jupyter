{
 "cells": [
  {
   "cell_type": "markdown",
   "id": "e06afc1a-38ad-4a9e-81e5-68f2f589cf0d",
   "metadata": {},
   "source": [
    "## Vega"
   ]
  },
  {
   "cell_type": "code",
   "execution_count": 1,
   "id": "633af11a-448a-4f76-9402-aa7a76506ac4",
   "metadata": {},
   "outputs": [
    {
     "name": "stdout",
     "output_type": "stream",
     "text": [
      "Număr total de lansări Vega: 19\n",
      "Număr de eșecuri Vega: 1\n",
      "Rată de succes Vega: 94.74%\n",
      "\n",
      "Lista lansărilor orbitale pentru racheta Vega\n",
      "+----------+------------------+--------+--------+-------------------------------------------+----+---------+---+\n",
      "| ID       | Date             | Rocket | Series | Sat * Mission                             | Or | LSite   | R |\n",
      "+----------+------------------+--------+--------+-------------------------------------------+----+---------+---+\n",
      "| 2012-006 | 2012 Feb 13 1000 | Vega   | VV01   | LARES/AlmaSat * LARES                     | EU | CSG*ZLV | S |\n",
      "| 2013-021 | 2013 May  7 0206 | Vega   | VV02   | PROBA-V/VRNREDSAT * PROBA-V               | EU | CSG*ZLV | S |\n",
      "| 2014-024 | 2014 Apr 30 0135 | Vega   | VV03   | DZZ-HR * KazEOSat-1                       | EU | CSG*ZLV | S |\n",
      "| 2015-028 | 2015 Jun 23 0151 | Vega   | VV05   | Sentinel-2A * Sentinel-2A                 | EU | CSG*ZLV | S |\n",
      "| 2015-070 | 2015 Dec  3 0404 | Vega   | VV06   | LISA Pathfinder * LPF                     | EU | CSG*ZLV | S |\n",
      "| 2016-058 | 2016 Sep 16 0143 | Vega   | VV07   | Skysat 4-7/PeruSat * PeruSAT-1/Skysat 4-7 | EU | CSG*ZLV | S |\n",
      "| 2016-073 | 2016 Dec  5 1351 | Vega   | VV08   | Gokturk-1 * Gokturk-1                     | EU | CSG*ZLV | S |\n",
      "| 2017-013 | 2017 Mar  7 0149 | Vega   | VV09   | Sentinel-2B * Sentinel-2B                 | EU | CSG*ZLV | S |\n",
      "| 2017-044 | 2017 Aug  2 0158 | Vega   | VV10   | Optsat-3000/Venmus * Optsat-3000/Venmus   | EU | CSG*ZLV | S |\n",
      "| 2017-070 | 2017 Nov  8 0142 | Vega   | VV11   | Mohammed VI-A * Mohammed VI-A             | EU | CSG*ZLV | S |\n",
      "| 2018-066 | 2018 Aug 22 2120 | Vega   | VV12   | Aeolus * ADM-Aeolus                       | EU | CSG*ZLV | S |\n",
      "| 2018-095 | 2018 Nov 21 0142 | Vega   | VV13   | Mohammed VI-B * Mohammed VI-B             | EU | CSG*ZLV | S |\n",
      "| 2019-015 | 2019 Mar 22 0150 | Vega   | VV14   | PRISMA * PRISMA                           | EU | CSG*ZLV | S |\n",
      "| 2019-F05 | 2019 Jul 11 0153 | Vega   | VV15   | FalconEye 1 * FalconEye 1                 | EU | CSG*ZLV | F |\n",
      "| 2020-061 | 2020 Sep  3 0151 | Vega   | VV16   | SSMS * SSMS                               | EU | CSG*ZLV | S |\n",
      "| 2021-034 | 2021 Apr 29 0150 | Vega   | VV18   | Pleiades Neo 3 * Pleiades-Neo 3           | EU | CSG*ZLV | S |\n",
      "| 2021-073 | 2021 Aug 17 0147 | Vega   | VV19   | Pleiades Neo 4 * Pleiades-Neo 4           | EU | CSG*ZLV | S |\n",
      "| 2021-105 | 2021 Nov 16 0927 | Vega   | VV20   | CERES 1-3 * CERES 1-3                     | EU | CSG*ZLV | S |\n",
      "| 2022-080 | 2022 Jul 13 1313 | Vega C | VV21   | LARES 2 * LARES 2                         | EU | CSG*ZLV | S |\n",
      "+----------+------------------+--------+--------+-------------------------------------------+----+---------+---+\n",
      "\n"
     ]
    }
   ],
   "source": [
    "%store -r vegac\n",
    "print(vegac)"
   ]
  },
  {
   "cell_type": "code",
   "execution_count": null,
   "id": "80f0a674-15e4-4cf5-8df3-2244d6507e09",
   "metadata": {},
   "outputs": [],
   "source": []
  },
  {
   "cell_type": "code",
   "execution_count": null,
   "id": "1e007d6d-944e-4b32-b9a6-8b32cbf6f60e",
   "metadata": {},
   "outputs": [],
   "source": []
  },
  {
   "cell_type": "code",
   "execution_count": null,
   "id": "03b0119a-fc1f-48f9-aaeb-4e3209ac9f49",
   "metadata": {},
   "outputs": [],
   "source": []
  }
 ],
 "metadata": {
  "kernelspec": {
   "display_name": "Python 3 (ipykernel)",
   "language": "python",
   "name": "python3"
  },
  "language_info": {
   "codemirror_mode": {
    "name": "ipython",
    "version": 3
   },
   "file_extension": ".py",
   "mimetype": "text/x-python",
   "name": "python",
   "nbconvert_exporter": "python",
   "pygments_lexer": "ipython3",
   "version": "3.9.13"
  }
 },
 "nbformat": 4,
 "nbformat_minor": 5
}
