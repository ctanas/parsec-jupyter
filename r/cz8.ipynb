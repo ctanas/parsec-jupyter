{
 "cells": [
  {
   "cell_type": "code",
   "execution_count": 1,
   "id": "633af11a-448a-4f76-9402-aa7a76506ac4",
   "metadata": {},
   "outputs": [
    {
     "name": "stdout",
     "output_type": "stream",
     "text": [
      "Număr total de lansări Chang Zheng 8: 2\n",
      "Număr de eșecuri Chang Zheng 8: 0\n",
      "Rată de succes Chang Zheng 8: 100.00%\n",
      "\n",
      "Lista lansărilor orbitale pentru racheta Chang Zheng 8\n",
      "+----------+-----------------+---------------+--------+----------------------+----+-----------+---+\n",
      "| ID       | Date            | Rocket        | Series | Sat * Mission        | Or | LSite     | R |\n",
      "+----------+-----------------+---------------+--------+----------------------+----+-----------+---+\n",
      "| 2020-102 | 2020-12-22 0437 | Chang Zheng 8 | Y1     | XJY 7                | CN | WEN*LC201 | S |\n",
      "| 2022-019 | 2022-02-27 0306 | Chang Zheng 8 | Y2     | Taijing 3/4, Jilin-1 | CN | WEN*LC201 | S |\n",
      "+----------+-----------------+---------------+--------+----------------------+----+-----------+---+\n",
      "\n"
     ]
    }
   ],
   "source": [
    "%store -r cz8\n",
    "print(cz8)"
   ]
  },
  {
   "cell_type": "code",
   "execution_count": null,
   "id": "c1adf7a3-da9b-4c08-b439-23b8b2fe0824",
   "metadata": {},
   "outputs": [],
   "source": []
  },
  {
   "cell_type": "code",
   "execution_count": null,
   "id": "e8d50d07-f8ca-457b-88e1-9a06b4b209b6",
   "metadata": {},
   "outputs": [],
   "source": []
  }
 ],
 "metadata": {
  "kernelspec": {
   "display_name": "Python 3 (ipykernel)",
   "language": "python",
   "name": "python3"
  },
  "language_info": {
   "codemirror_mode": {
    "name": "ipython",
    "version": 3
   },
   "file_extension": ".py",
   "mimetype": "text/x-python",
   "name": "python",
   "nbconvert_exporter": "python",
   "pygments_lexer": "ipython3",
   "version": "3.9.13"
  }
 },
 "nbformat": 4,
 "nbformat_minor": 5
}
