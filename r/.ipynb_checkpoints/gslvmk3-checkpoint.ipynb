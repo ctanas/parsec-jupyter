{
 "cells": [
  {
   "cell_type": "markdown",
   "id": "e06afc1a-38ad-4a9e-81e5-68f2f589cf0d",
   "metadata": {},
   "source": [
    "## GSLV Mk. 3"
   ]
  },
  {
   "cell_type": "code",
   "execution_count": 1,
   "id": "633af11a-448a-4f76-9402-aa7a76506ac4",
   "metadata": {},
   "outputs": [
    {
     "name": "stdout",
     "output_type": "stream",
     "text": [
      "Număr total de lansări Nuri: 2\n",
      "Număr de eșecuri Nuri: 1\n",
      "Rată de succes Nuri: 50.00%\n",
      "Număr de lansări reușite de la ultimul eșec: 1\n",
      "\n",
      "Lista lansărilor orbitale pentru racheta Nuri\n",
      "+----------+-----------------+--------+--------+---------------------+----+----------+---+\n",
      "| ID       | Date            | Rocket | Series | Sat * Mission       | Or | LSite    | R |\n",
      "+----------+-----------------+--------+--------+---------------------+----+----------+---+\n",
      "| 2021-F09 | 2021-10-21 0800 | Nuri   | 1      | Dummy satellite (-) | KR | NARO*LC2 | F |\n",
      "| 2022-065 | 2022-06-21 0700 | Nuri   | 2      | PVSAT (-)           | KR | NARO*LC2 | S |\n",
      "+----------+-----------------+--------+--------+---------------------+----+----------+---+\n",
      "\n"
     ]
    }
   ],
   "source": [
    "%store -r gslvmk3\n",
    "print(gslvmk3)"
   ]
  },
  {
   "cell_type": "code",
   "execution_count": null,
   "id": "c1adf7a3-da9b-4c08-b439-23b8b2fe0824",
   "metadata": {},
   "outputs": [],
   "source": []
  },
  {
   "cell_type": "code",
   "execution_count": null,
   "id": "e8d50d07-f8ca-457b-88e1-9a06b4b209b6",
   "metadata": {},
   "outputs": [],
   "source": []
  }
 ],
 "metadata": {
  "kernelspec": {
   "display_name": "Python 3 (ipykernel)",
   "language": "python",
   "name": "python3"
  },
  "language_info": {
   "codemirror_mode": {
    "name": "ipython",
    "version": 3
   },
   "file_extension": ".py",
   "mimetype": "text/x-python",
   "name": "python",
   "nbconvert_exporter": "python",
   "pygments_lexer": "ipython3",
   "version": "3.10.8"
  }
 },
 "nbformat": 4,
 "nbformat_minor": 5
}
