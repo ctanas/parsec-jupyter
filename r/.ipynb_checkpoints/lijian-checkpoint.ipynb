{
 "cells": [
  {
   "cell_type": "markdown",
   "id": "e06afc1a-38ad-4a9e-81e5-68f2f589cf0d",
   "metadata": {},
   "source": [
    "## Lijian-1"
   ]
  },
  {
   "cell_type": "code",
   "execution_count": 1,
   "id": "633af11a-448a-4f76-9402-aa7a76506ac4",
   "metadata": {},
   "outputs": [
    {
     "name": "stdout",
     "output_type": "stream",
     "text": [
      "Număr total de lansări Lijian-1: 1\n",
      "Număr de eșecuri Lijian-1: 0\n",
      "Rată de succes Lijian-1: 100.00%\n",
      "\n",
      "Lista lansărilor orbitale pentru racheta Lijian-1\n",
      "+----------+------------+----------+--------+---------------+----+----------+---+\n",
      "| ID       | Date       | Rocket   | Series | Sat * Mission | Or | LSite    | R |\n",
      "+----------+------------+----------+--------+---------------+----+----------+---+\n",
      "| 2022-087 | 2022-07-27 | Lijian-1 | Y1     | XJS (-)       | CN | JQ*LC130 | S |\n",
      "+----------+------------+----------+--------+---------------+----+----------+---+\n",
      "\n"
     ]
    }
   ],
   "source": [
    "%store -r lijian\n",
    "print(lijian)"
   ]
  },
  {
   "cell_type": "code",
   "execution_count": null,
   "id": "c1adf7a3-da9b-4c08-b439-23b8b2fe0824",
   "metadata": {},
   "outputs": [],
   "source": []
  },
  {
   "cell_type": "code",
   "execution_count": null,
   "id": "e8d50d07-f8ca-457b-88e1-9a06b4b209b6",
   "metadata": {},
   "outputs": [],
   "source": []
  }
 ],
 "metadata": {
  "kernelspec": {
   "display_name": "Python 3 (ipykernel)",
   "language": "python",
   "name": "python3"
  },
  "language_info": {
   "codemirror_mode": {
    "name": "ipython",
    "version": 3
   },
   "file_extension": ".py",
   "mimetype": "text/x-python",
   "name": "python",
   "nbconvert_exporter": "python",
   "pygments_lexer": "ipython3",
   "version": "3.10.8"
  }
 },
 "nbformat": 4,
 "nbformat_minor": 5
}
