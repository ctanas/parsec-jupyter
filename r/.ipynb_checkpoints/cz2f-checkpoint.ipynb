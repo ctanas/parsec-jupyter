{
 "cells": [
  {
   "cell_type": "markdown",
   "id": "e06afc1a-38ad-4a9e-81e5-68f2f589cf0d",
   "metadata": {},
   "source": [
    "## Chang Zheng 2F"
   ]
  },
  {
   "cell_type": "code",
   "execution_count": 1,
   "id": "633af11a-448a-4f76-9402-aa7a76506ac4",
   "metadata": {},
   "outputs": [
    {
     "name": "stdout",
     "output_type": "stream",
     "text": [
      "Număr total de lansări Chang Zheng 2F: 18\n",
      "Număr de eșecuri Chang Zheng 2F: 0\n",
      "Rată de succes Chang Zheng 2F: 100.00%\n",
      "\n",
      "Lista lansărilor orbitale pentru racheta Chang Zheng 2F\n",
      "+----------+------------------+------------------+--------+---------------------------------------+----+------------+---+\n",
      "| ID       | Date             | Rocket           | Series | Sat * Mission                         | Or | LSite      | R |\n",
      "+----------+------------------+------------------+--------+---------------------------------------+----+------------+---+\n",
      "| 1999-061 | 1999-11-19 2230  | Chang Zheng 2F   | Y1     | Shenzhou (Shenzhou 1 Fanhui Cang)     | CN | JQ*LC921   | S |\n",
      "| 2001-001 | 2001-01-09 1700  | Chang Zheng 2F   | Y2     | Shenzhou 2 (Shenzhou 2 Fanhui Cang)   | CN | JQ*LC921   | S |\n",
      "| 2002-014 | 2002-03-25 1415  | Chang Zheng 2F   | Y3     | Shenzhou 3 (Shenzhou 3 Fanhui Cang)   | CN | JQ*LC921   | S |\n",
      "| 2002-061 | 2002-12-29 1640  | Chang Zheng 2F   | Y4     | Shenzhou 4 (Shenzhou 4 Fanhui Cang)   | CN | JQ*LC921   | S |\n",
      "| 2003-045 | 2003-10-15 0100  | Chang Zheng 2F   | Y5     | Shenzhou 5 (Shenzhou 5 Fanhui Cang)   | CN | JQ*LC921   | S |\n",
      "| 2005-040 | 2005-10-12 0100  | Chang Zheng 2F   | Y6     | Shenzhou 6 (Shenzhou 6 Fanhui Cang)   | CN | JQ*LC921   | S |\n",
      "| 2008-047 | 2008-09-25 1310  | Chang Zheng 2F   | Y7     | Shenzhou 7 (shenzhou qihao fanhui ca) | CN | JQ*LC921   | S |\n",
      "| 2011-053 | 2011-09-29 1316  | Chang Zheng 2FT1 | Y1?    | Tiangong 1                            | CN | JQ*LC921   | S |\n",
      "| 2011-063 | 2011-10-31 2158  | Chang Zheng 2F   | Y8     | Shenzhou 8 (shenzhou ba fanhui cang)  | CN | JQ*LC921   | S |\n",
      "| 2012-032 | 2012-06-16 1037  | Chang Zheng 2F   | Y9     | Shenzhou 9 (shenzhou jiu fanhui cang) | CN | JQ*LC921   | S |\n",
      "| 2013-029 | 2013-06-11 0938  | Chang Zheng 2F   | Y10    | Shenzhou 10 (-)                       | CN | JQ*LC921   | S |\n",
      "| 2016-057 | 2016-09-15 1404  | Chang Zheng 2F   | T2     | Tiangong 2                            | CN | JQ*LC921   | S |\n",
      "| 2016-061 | 2016-10-16 2330  | Chang Zheng 2F   | Y11    | Shenzhou 11                           | CN | JQ*LC921   | S |\n",
      "| 2020-063 | 2020-09-04 0730? | Chang Zheng 2F   | T3     | CSSHQ                                 | CN | JQ*LC43/91 | S |\n",
      "| 2021-053 | 2021-06-17 0122  | Chang Zheng 2F   | Y12    | Shenzhou 12                           | CN | JQ*LC43/91 | S |\n",
      "| 2021-092 | 2021-10-15 1623  | Chang Zheng 2F   | Y13    | Shenzhou 13                           | CN | JQ*LC43/91 | S |\n",
      "| 2022-060 | 2022-06-05 0244  | Chang Zheng 2F   | Y14    | Shenzhou 14                           | CN | JQ*LC43/91 | S |\n",
      "| 2022-093 | 2022-08-04 1600? | Chang Zheng 2F   | Y13    | CSSHQ                                 | CN | JQ*LC43/91 | S |\n",
      "+----------+------------------+------------------+--------+---------------------------------------+----+------------+---+\n",
      "\n"
     ]
    }
   ],
   "source": [
    "%store -r cz2f\n",
    "print(cz2f)"
   ]
  },
  {
   "cell_type": "code",
   "execution_count": null,
   "id": "c1adf7a3-da9b-4c08-b439-23b8b2fe0824",
   "metadata": {},
   "outputs": [],
   "source": []
  },
  {
   "cell_type": "code",
   "execution_count": null,
   "id": "e8d50d07-f8ca-457b-88e1-9a06b4b209b6",
   "metadata": {},
   "outputs": [],
   "source": []
  }
 ],
 "metadata": {
  "kernelspec": {
   "display_name": "Python 3 (ipykernel)",
   "language": "python",
   "name": "python3"
  },
  "language_info": {
   "codemirror_mode": {
    "name": "ipython",
    "version": 3
   },
   "file_extension": ".py",
   "mimetype": "text/x-python",
   "name": "python",
   "nbconvert_exporter": "python",
   "pygments_lexer": "ipython3",
   "version": "3.10.8"
  }
 },
 "nbformat": 4,
 "nbformat_minor": 5
}
