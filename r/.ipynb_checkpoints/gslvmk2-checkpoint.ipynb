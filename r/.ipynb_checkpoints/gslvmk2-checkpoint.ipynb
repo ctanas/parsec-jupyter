{
 "cells": [
  {
   "cell_type": "markdown",
   "id": "e06afc1a-38ad-4a9e-81e5-68f2f589cf0d",
   "metadata": {},
   "source": [
    "## GSLV Mk. II"
   ]
  },
  {
   "cell_type": "code",
   "execution_count": 2,
   "id": "633af11a-448a-4f76-9402-aa7a76506ac4",
   "metadata": {},
   "outputs": [
    {
     "name": "stdout",
     "output_type": "stream",
     "text": [
      "Număr total de lansări GSLV Mk. 2: 8\n",
      "Număr de eșecuri GSLV Mk. 2: 2\n",
      "Rată de succes GSLV Mk. 2: 75.00%\n",
      "Număr de lansări reușite de la ultimul eșec: 0\n",
      "\n",
      "Lista lansărilor orbitale pentru racheta GSLV Mk. 2\n",
      "+----------+-----------------+------------+----------+------------------+----+----------+---+\n",
      "| ID       | Date            | Rocket     | Series   | Sat * Mission    | Or | LSite    | R |\n",
      "+----------+-----------------+------------+----------+------------------+----+----------+---+\n",
      "| 2010-F01 | 2010-04-15 1057 | GSLV Mk. 2 | GSLV-D3  | GSAT-4           | IN | SHAR*SLP | F |\n",
      "| 2014-001 | 2014-01-05 1048 | GSLV Mk. 2 | GSLV-D5  | GSAT-14          | IN | SHAR*SLP | S |\n",
      "| 2015-041 | 2015-08-27 1122 | GSLV Mk. 2 | GSLV-D6  | GSAT-6           | IN | SHAR*SLP | S |\n",
      "| 2016-054 | 2016-09-08 1120 | GSLV Mk. 2 | GSLV-F05 | Insat-3DR        | IN | SHAR*SLP | S |\n",
      "| 2017-024 | 2017-05-05 1127 | GSLV Mk. 2 | GSLV-F09 | GSAT-9           | IN | SHAR*SLP | S |\n",
      "| 2018-027 | 2018-03-29 1126 | GSLV Mk. 2 | GSLV-F08 | GSAT-6A          | IN | SHAR*SLP | S |\n",
      "| 2018-105 | 2018-12-19 1040 | GSLV Mk. 2 | GSLV-F11 | GSAT-7A          | IN | SHAR*SLP | S |\n",
      "| 2021-F06 | 2021-08-12 0013 | GSLV Mk. 2 | GLSV-F10 | EOS-03 (GISAT-1) | IN | SHAR*SLP | F |\n",
      "+----------+-----------------+------------+----------+------------------+----+----------+---+\n",
      "\n"
     ]
    }
   ],
   "source": [
    "%store -r gslvmk2\n",
    "print(gslvmk2)"
   ]
  },
  {
   "cell_type": "code",
   "execution_count": null,
   "id": "c1adf7a3-da9b-4c08-b439-23b8b2fe0824",
   "metadata": {},
   "outputs": [],
   "source": []
  },
  {
   "cell_type": "code",
   "execution_count": null,
   "id": "e8d50d07-f8ca-457b-88e1-9a06b4b209b6",
   "metadata": {},
   "outputs": [],
   "source": []
  }
 ],
 "metadata": {
  "kernelspec": {
   "display_name": "Python 3 (ipykernel)",
   "language": "python",
   "name": "python3"
  },
  "language_info": {
   "codemirror_mode": {
    "name": "ipython",
    "version": 3
   },
   "file_extension": ".py",
   "mimetype": "text/x-python",
   "name": "python",
   "nbconvert_exporter": "python",
   "pygments_lexer": "ipython3",
   "version": "3.10.8"
  }
 },
 "nbformat": 4,
 "nbformat_minor": 5
}
