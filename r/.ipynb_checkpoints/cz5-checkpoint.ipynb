{
 "cells": [
  {
   "cell_type": "markdown",
   "id": "e06afc1a-38ad-4a9e-81e5-68f2f589cf0d",
   "metadata": {},
   "source": [
    "## Chang Zheng 5"
   ]
  },
  {
   "cell_type": "code",
   "execution_count": 1,
   "id": "633af11a-448a-4f76-9402-aa7a76506ac4",
   "metadata": {},
   "outputs": [
    {
     "name": "stdout",
     "output_type": "stream",
     "text": [
      "Număr total de lansări Chang Zheng 5: 9\n",
      "Număr de eșecuri Chang Zheng 5: 1\n",
      "Rată de succes Chang Zheng 5: 88.89%\n",
      "Număr de lansări reușite de la ultimul eșec: 8\n",
      "\n",
      "Lista lansărilor orbitale pentru racheta Chang Zheng 5\n",
      "+----------+-----------------+--------------------+--------+-------------------------------------+----+-----------+---+\n",
      "| ID       | Date            | Rocket             | Series | Sat * Mission                       | Or | LSite     | R |\n",
      "+----------+-----------------+--------------------+--------+-------------------------------------+----+-----------+---+\n",
      "| 2016-065 | 2016-11-03 1243 | Chang Zheng 5/YZ-2 | Y1     | Shi Jian 17 (SJ-17)                 | CN | WEN*LC101 | S |\n",
      "| 2017-F03 | 2017-07-02 1123 | Chang Zheng 5      | Y2     | Shi Jian 18 (SJ-18)                 | CN | WEN*LC101 | F |\n",
      "| 2019-097 | 2019-12-27 1245 | Chang Zheng 5      | Y3     | Shi Jian 20 (SJ-20)                 | CN | WEN*LC101 | S |\n",
      "| 2020-027 | 2020-05-05 1000 | Chang Zheng 5B     | Y1     | XZF-SC/RCS-FC-SC (XZF-FC/RCS-FC-SC) | CN | WEN*LC101 | S |\n",
      "| 2020-049 | 2020-07-23 0441 | Chang Zheng 5      | Y4     | Tianwen-1                           | CN | WEN*LC101 | S |\n",
      "| 2020-087 | 2020-11-23 2030 | Chang Zheng 5      | Y5     | Chang'e-5 (Change'e-5)              | CN | WEN*LC101 | S |\n",
      "| 2021-035 | 2021-04-29 0323 | Chang Zheng 5B     | Y2     | Tianhe                              | CN | WEN*LC101 | S |\n",
      "| 2022-085 | 2022-07-24 0622 | Chang Zheng 5B     | Y3     | Wentian                             | CN | WEN*LC101 | S |\n",
      "| 2022-143 | 2022-10-31 0737 | Chang Zheng 5B     | Y4     | Mengtian                            | CN | WEN*LC101 | S |\n",
      "+----------+-----------------+--------------------+--------+-------------------------------------+----+-----------+---+\n",
      "\n"
     ]
    }
   ],
   "source": [
    "%store -r cz5\n",
    "print(cz5)"
   ]
  },
  {
   "cell_type": "code",
   "execution_count": null,
   "id": "c1adf7a3-da9b-4c08-b439-23b8b2fe0824",
   "metadata": {},
   "outputs": [],
   "source": []
  },
  {
   "cell_type": "code",
   "execution_count": null,
   "id": "e8d50d07-f8ca-457b-88e1-9a06b4b209b6",
   "metadata": {},
   "outputs": [],
   "source": []
  }
 ],
 "metadata": {
  "kernelspec": {
   "display_name": "Python 3 (ipykernel)",
   "language": "python",
   "name": "python3"
  },
  "language_info": {
   "codemirror_mode": {
    "name": "ipython",
    "version": 3
   },
   "file_extension": ".py",
   "mimetype": "text/x-python",
   "name": "python",
   "nbconvert_exporter": "python",
   "pygments_lexer": "ipython3",
   "version": "3.10.8"
  }
 },
 "nbformat": 4,
 "nbformat_minor": 5
}
