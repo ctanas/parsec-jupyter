{
 "cells": [
  {
   "cell_type": "markdown",
   "id": "e06afc1a-38ad-4a9e-81e5-68f2f589cf0d",
   "metadata": {},
   "source": [
    "## Chang Zheng 11"
   ]
  },
  {
   "cell_type": "code",
   "execution_count": 1,
   "id": "633af11a-448a-4f76-9402-aa7a76506ac4",
   "metadata": {},
   "outputs": [
    {
     "name": "stdout",
     "output_type": "stream",
     "text": [
      "Număr total de lansări Chang Zheng 11: 14\n",
      "Număr de eșecuri Chang Zheng 11: 0\n",
      "Rată de succes Chang Zheng 11: 100.00%\n",
      "\n",
      "Lista lansărilor orbitale pentru racheta Chang Zheng 11\n",
      "+----------+-----------------+----------------+--------+--------------------------------------+----+------------+---+\n",
      "| ID       | Date            | Rocket         | Series | Sat * Mission                        | Or | LSite      | R |\n",
      "+----------+-----------------+----------------+--------+--------------------------------------+----+------------+---+\n",
      "| 2015-051 | 2015-09-25 0141 | Chang Zheng 11 | Y1     | TW-1?                                | CN | JQ*LC43/95 | S |\n",
      "| 2016-066 | 2016-11-09 2342 | Chang Zheng 11 | Y2     | MXSW                                 | CN | JQ*LC43/95 | S |\n",
      "| 2018-008 | 2018-01-19 0412 | Chang Zheng 11 | Y3     | Jilin-1 07,08 (Jilin-1 Shipin 07-08) | CN | JQ*LC43/95 | S |\n",
      "| 2018-040 | 2018-04-26 0442 | Chang Zheng 11 | Y4     | Zhuhai-1 02 zu (OVS-2, OHS-1A/B/C/D) | CN | JQ*LC43/95 | S |\n",
      "| 2018-108 | 2018-12-21 2351 | Chang Zheng 11 | Y5     | Hongyun Gongcheng (Hongyun GJYW)     | CN | JQ*LC43/95 | S |\n",
      "| 2019-005 | 2019-01-21 0542 | Chang Zheng 11 | Y6     | Jilin Guanpu 1,2                     | CN | JQ*LC43/95 | S |\n",
      "| 2019-032 | 2019-06-05 0406 | Chang Zheng 11 | Y1     | Jilin/JSW                            | CN | HHAI*LP1   | S |\n",
      "| 2019-060 | 2019-09-19 0642 | Chang Zheng 11 | Y7     | Zhuhai-1 03 zu (-)                   | CN | JQ*LC43/95 | S |\n",
      "| 2020-032 | 2020-05-29 2013 | Chang Zheng 11 | Y8     | XJS G, H (-)                         | CN | XSC*LC4    | S |\n",
      "| 2020-065 | 2020-09-15 0123 | Chang Zheng 11 | Y2     | Jilin-1 03B/03C (-)                  | CN | HHAI*LP2   | S |\n",
      "| 2020-094 | 2020-12-09 2014 | Chang Zheng 11 | Y9     | GECAM A/B (-)                        | CN | XSC*LC4    | S |\n",
      "| 2022-032 | 2022-03-30 0229 | Chang Zheng 11 | Y10    | Tianping-2A/2B/2C (-)                | CN | JQ*LC43/95 | S |\n",
      "| 2022-046 | 2022-04-30 0330 | Chang Zheng 11 | Y3     | Jilin-1 03D-04-07/04A (-)            | CN | HHAI*LP3   | S |\n",
      "| 2022-126 | 2022-10-07 1310 | Chang Zheng 11 | Y4?    | Centispace S5/S6 (-)                 | CN | HHAI*LP4   | S |\n",
      "+----------+-----------------+----------------+--------+--------------------------------------+----+------------+---+\n",
      "\n"
     ]
    }
   ],
   "source": [
    "%store -r cz11\n",
    "print(cz11)"
   ]
  },
  {
   "cell_type": "code",
   "execution_count": null,
   "id": "c1adf7a3-da9b-4c08-b439-23b8b2fe0824",
   "metadata": {},
   "outputs": [],
   "source": []
  },
  {
   "cell_type": "code",
   "execution_count": null,
   "id": "e8d50d07-f8ca-457b-88e1-9a06b4b209b6",
   "metadata": {},
   "outputs": [],
   "source": []
  }
 ],
 "metadata": {
  "kernelspec": {
   "display_name": "Python 3 (ipykernel)",
   "language": "python",
   "name": "python3"
  },
  "language_info": {
   "codemirror_mode": {
    "name": "ipython",
    "version": 3
   },
   "file_extension": ".py",
   "mimetype": "text/x-python",
   "name": "python",
   "nbconvert_exporter": "python",
   "pygments_lexer": "ipython3",
   "version": "3.10.8"
  }
 },
 "nbformat": 4,
 "nbformat_minor": 5
}
