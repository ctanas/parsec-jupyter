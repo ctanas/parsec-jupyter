{
 "cells": [
  {
   "cell_type": "markdown",
   "id": "e06afc1a-38ad-4a9e-81e5-68f2f589cf0d",
   "metadata": {},
   "source": [
    "## Shavit"
   ]
  },
  {
   "cell_type": "code",
   "execution_count": 2,
   "id": "633af11a-448a-4f76-9402-aa7a76506ac4",
   "metadata": {},
   "outputs": [
    {
     "name": "stdout",
     "output_type": "stream",
     "text": [
      "Număr total de lansări Shavit: 11\n",
      "Număr de eșecuri Shavit: 2\n",
      "Rată de succes Shavit: 81.82%\n",
      "Număr de lansări reușite de la ultimul eșec: 5\n",
      "\n",
      "Lista lansărilor orbitale pentru racheta Shavit\n",
      "+----------+------------------+----------+--------+------------------+----+--------+---+\n",
      "| ID       | Date             | Rocket   | Series | Sat * Mission    | Or | LSite  | R |\n",
      "+----------+------------------+----------+--------+------------------+----+--------+---+\n",
      "| 1988-087 | 1988-09-19 0931  | Shavit   | 1      | 'Ofeq-1          | IL | PALB*- | S |\n",
      "| 1990-027 | 1990-04-03 1202  | Shavit   | 2      | 'Ofeq-2          | IL | PALB*- | S |\n",
      "| 1995-018 | 1995-04-05 1116  | Shavit 1 | 3      | 'Ofeq-3          | IL | PALB*- | S |\n",
      "| 1998-F01 | 1998-01-22 1256  | Shavit 1 | 4      | 'Ofeq-4 (EROS A) | IL | PALB*- | F |\n",
      "| 2002-025 | 2002-05-28 1525  | Shavit 1 | 5      | 'Ofeq-5          | IL | PALB*- | S |\n",
      "| 2004-F01 | 2004-09-06 1053  | Shavit 1 | 6      | 'Ofeq-6          | IL | PALB*- | F |\n",
      "| 2007-025 | 2007-06-10 2340  | Shavit 2 | 7      | 'Ofeq-7          | IL | PALB*- | S |\n",
      "| 2010-031 | 2010-06-22 1900? | Shavit 2 | 8      | 'Ofeq-9          | IL | PALB*- | S |\n",
      "| 2014-019 | 2014-04-09 1906: | Shavit 2 | 9      | 'Ofeq-10         | IL | PALB*- | S |\n",
      "| 2016-056 | 2016-09-13 1438  | Shavit 2 | 10     | 'Ofeq-11         | IL | PALB*- | S |\n",
      "| 2020-044 | 2020-07-06 0100  | Shavit 2 | 11     | 'Ofeq-16         | IL | PALB*- | S |\n",
      "+----------+------------------+----------+--------+------------------+----+--------+---+\n",
      "\n"
     ]
    }
   ],
   "source": [
    "%store -r shavit\n",
    "print(shavit)"
   ]
  },
  {
   "cell_type": "code",
   "execution_count": null,
   "id": "c1adf7a3-da9b-4c08-b439-23b8b2fe0824",
   "metadata": {},
   "outputs": [],
   "source": []
  },
  {
   "cell_type": "code",
   "execution_count": null,
   "id": "e8d50d07-f8ca-457b-88e1-9a06b4b209b6",
   "metadata": {},
   "outputs": [],
   "source": []
  }
 ],
 "metadata": {
  "kernelspec": {
   "display_name": "Python 3 (ipykernel)",
   "language": "python",
   "name": "python3"
  },
  "language_info": {
   "codemirror_mode": {
    "name": "ipython",
    "version": 3
   },
   "file_extension": ".py",
   "mimetype": "text/x-python",
   "name": "python",
   "nbconvert_exporter": "python",
   "pygments_lexer": "ipython3",
   "version": "3.10.8"
  }
 },
 "nbformat": 4,
 "nbformat_minor": 5
}
