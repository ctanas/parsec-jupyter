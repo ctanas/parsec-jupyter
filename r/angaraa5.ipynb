{
 "cells": [
  {
   "cell_type": "markdown",
   "id": "e06afc1a-38ad-4a9e-81e5-68f2f589cf0d",
   "metadata": {},
   "source": [
    "## Angara-A5"
   ]
  },
  {
   "cell_type": "code",
   "execution_count": 2,
   "id": "633af11a-448a-4f76-9402-aa7a76506ac4",
   "metadata": {},
   "outputs": [
    {
     "name": "stdout",
     "output_type": "stream",
     "text": [
      "Număr total de lansări Angara A5: 3\n",
      "Număr de eșecuri Angara A5: 0\n",
      "Rată de succes Angara A5: 100.00%\n",
      "\n",
      "Lista lansărilor orbitale pentru racheta Angara A5\n",
      "+----------+-----------------+------------------+-------------------+---------------+----+--------------+---+\n",
      "| ID       | Date            | Rocket           | Series            | Sat * Mission | Or | LSite        | R |\n",
      "+----------+-----------------+------------------+-------------------+---------------+----+--------------+---+\n",
      "| 2014-085 | 2014-12-23 0557 | Angara A5        | 71751 (1LM)/88801 | IPM (5A4PP)   | RU | GIK-1*LC35/1 | S |\n",
      "| 2020-097 | 2020-12-14 0550 | Angara A5        | 71752 (2LM)/88802 | IPM (5A4PP?)  | RU | GIK-1*LC35/1 | S |\n",
      "| 2021-133 | 2021-12-27 1900 | Angara A5/Persei | 71753 (3L)/1L     | IPN (-)       | RU | GIK-1*LC35/1 | S |\n",
      "+----------+-----------------+------------------+-------------------+---------------+----+--------------+---+\n",
      "\n"
     ]
    }
   ],
   "source": [
    "%store -r angaraa5\n",
    "print(angaraa5)"
   ]
  },
  {
   "cell_type": "code",
   "execution_count": null,
   "id": "78fdd2bd-0e81-482f-bdb5-223145873be6",
   "metadata": {},
   "outputs": [],
   "source": []
  }
 ],
 "metadata": {
  "kernelspec": {
   "display_name": "Python 3 (ipykernel)",
   "language": "python",
   "name": "python3"
  },
  "language_info": {
   "codemirror_mode": {
    "name": "ipython",
    "version": 3
   },
   "file_extension": ".py",
   "mimetype": "text/x-python",
   "name": "python",
   "nbconvert_exporter": "python",
   "pygments_lexer": "ipython3",
   "version": "3.10.8"
  }
 },
 "nbformat": 4,
 "nbformat_minor": 5
}
