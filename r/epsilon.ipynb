{
 "cells": [
  {
   "cell_type": "markdown",
   "id": "e06afc1a-38ad-4a9e-81e5-68f2f589cf0d",
   "metadata": {},
   "source": [
    "## Epsilon"
   ]
  },
  {
   "cell_type": "code",
   "execution_count": 1,
   "id": "633af11a-448a-4f76-9402-aa7a76506ac4",
   "metadata": {},
   "outputs": [
    {
     "name": "stdout",
     "output_type": "stream",
     "text": [
      "Număr total de lansări Epsilon: 6\n",
      "Număr de eșecuri Epsilon: 1\n",
      "Rată de succes Epsilon: 83.33%\n",
      "Număr de lansări reușite de la ultimul eșec: 0\n",
      "\n",
      "Lista lansărilor orbitale pentru racheta Epsilon\n",
      "+----------+-----------------+---------+--------+---------------+----+--------+---+\n",
      "| ID       | Date            | Rocket  | Series | Sat * Mission | Or | LSite  | R |\n",
      "+----------+-----------------+---------+--------+---------------+----+--------+---+\n",
      "| 2013-049 | 2013-09-14 0500 | Epsilon | E-1    | SPRINT-A (-)  | JP | USC*EP | S |\n",
      "| 2016-080 | 2016-12-20 1100 | Epsilon | E-2    | ERG (-)       | JP | USC*EP | S |\n",
      "| 2018-007 | 2018-01-17 2106 | Epsilon | E-3    | ASNARO 2 (-)  | JP | USC*EP | S |\n",
      "| 2019-003 | 2019-01-18 0050 | Epsilon | E-4    | RAPIS (-)     | JP | USC*EP | S |\n",
      "| 2021-102 | 2021-11-09 0055 | Epsilon | E-5    | RAISE-2 (-)   | JP | USC*EP | S |\n",
      "| 2022-F04 | 2022-10-12 0050 | Epsilon | E-6    | RAISE-3 (-)   | JP | USC*EP | F |\n",
      "+----------+-----------------+---------+--------+---------------+----+--------+---+\n",
      "\n"
     ]
    }
   ],
   "source": [
    "%store -r epsilon\n",
    "print(epsilon)"
   ]
  },
  {
   "cell_type": "code",
   "execution_count": null,
   "id": "c1adf7a3-da9b-4c08-b439-23b8b2fe0824",
   "metadata": {},
   "outputs": [],
   "source": []
  },
  {
   "cell_type": "code",
   "execution_count": null,
   "id": "e8d50d07-f8ca-457b-88e1-9a06b4b209b6",
   "metadata": {},
   "outputs": [],
   "source": []
  }
 ],
 "metadata": {
  "kernelspec": {
   "display_name": "Python 3 (ipykernel)",
   "language": "python",
   "name": "python3"
  },
  "language_info": {
   "codemirror_mode": {
    "name": "ipython",
    "version": 3
   },
   "file_extension": ".py",
   "mimetype": "text/x-python",
   "name": "python",
   "nbconvert_exporter": "python",
   "pygments_lexer": "ipython3",
   "version": "3.10.8"
  }
 },
 "nbformat": 4,
 "nbformat_minor": 5
}
