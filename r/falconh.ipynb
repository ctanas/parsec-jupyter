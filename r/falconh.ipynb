{
 "cells": [
  {
   "cell_type": "code",
   "execution_count": 1,
   "id": "633af11a-448a-4f76-9402-aa7a76506ac4",
   "metadata": {},
   "outputs": [
    {
     "name": "stdout",
     "output_type": "stream",
     "text": [
      "Număr total de lansări Falcon Heavy: 4\n",
      "Număr de eșecuri Falcon Heavy: 0\n",
      "Rată de succes Falcon Heavy: 100.00%\n",
      "\n",
      "Lista lansărilor orbitale pentru racheta Falcon Heavy\n",
      "+----------+-----------------+--------------+--------+------------------+----+-----------+---+\n",
      "| ID       | Date            | Rocket       | Series | Sat * Mission    | Or | LSite     | R |\n",
      "+----------+-----------------+--------------+--------+------------------+----+-----------+---+\n",
      "| 2018-017 | 2018-02-06 2045 | Falcon Heavy | 001    | Tesla Roadster   | US | KSC*LC39A | S |\n",
      "| 2019-021 | 2019-04-11 2235 | Falcon Heavy | 002    | Arabsat 6A       | US | KSC*LC39A | S |\n",
      "| 2019-036 | 2019-06-25 0630 | Falcon Heavy | 003    | STP-2            | US | KSC*LC39A | S |\n",
      "| 2022-144 | 2022-11-01 1341 | Falcon Heavy | 004    | USSF-44 (LDPE-2) | US | KSC*LC39A | S |\n",
      "+----------+-----------------+--------------+--------+------------------+----+-----------+---+\n",
      "\n"
     ]
    }
   ],
   "source": [
    "%store -r falconh\n",
    "\n",
    "print(falconh)"
   ]
  }
 ],
 "metadata": {
  "kernelspec": {
   "display_name": "Python 3 (ipykernel)",
   "language": "python",
   "name": "python3"
  },
  "language_info": {
   "codemirror_mode": {
    "name": "ipython",
    "version": 3
   },
   "file_extension": ".py",
   "mimetype": "text/x-python",
   "name": "python",
   "nbconvert_exporter": "python",
   "pygments_lexer": "ipython3",
   "version": "3.9.13"
  }
 },
 "nbformat": 4,
 "nbformat_minor": 5
}
