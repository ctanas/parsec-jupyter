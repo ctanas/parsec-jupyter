{
 "cells": [
  {
   "cell_type": "code",
   "execution_count": 1,
   "id": "633af11a-448a-4f76-9402-aa7a76506ac4",
   "metadata": {},
   "outputs": [
    {
     "name": "stdout",
     "output_type": "stream",
     "text": [
      "Număr total de lansări Firefly: 2\n",
      "Număr de eșecuri Firefly: 1\n",
      "Rată de succes Firefly: 50.00%\n",
      "Număr de lansări reușite de la ultimul eșec: 2\n",
      "\n",
      "Lista lansărilor orbitale pentru racheta Firefly\n",
      "+----------+-----------------+---------------+---------+------------------+----+---------+---+\n",
      "| ID       | Date            | Rocket        | Series  | Sat * Mission    | Or | LSite   | R |\n",
      "+----------+-----------------+---------------+---------+------------------+----+---------+---+\n",
      "| 2021-F08 | 2021-09-03 0159 | Firefly Alpha | FLTA001 | Dream (-)        | US | V*SLC2W | F |\n",
      "| 2022-122 | 2022-10-01 0701 | Firefly Alpha | FLTA002 | To The Black (-) | US | V*SLC2W | S |\n",
      "+----------+-----------------+---------------+---------+------------------+----+---------+---+\n",
      "\n"
     ]
    }
   ],
   "source": [
    "%store -r fireflya\n",
    "print(fireflya)"
   ]
  }
 ],
 "metadata": {
  "kernelspec": {
   "display_name": "Python 3 (ipykernel)",
   "language": "python",
   "name": "python3"
  },
  "language_info": {
   "codemirror_mode": {
    "name": "ipython",
    "version": 3
   },
   "file_extension": ".py",
   "mimetype": "text/x-python",
   "name": "python",
   "nbconvert_exporter": "python",
   "pygments_lexer": "ipython3",
   "version": "3.9.13"
  }
 },
 "nbformat": 4,
 "nbformat_minor": 5
}
