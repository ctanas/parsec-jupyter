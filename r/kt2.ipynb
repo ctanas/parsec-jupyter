{
 "cells": [
  {
   "cell_type": "markdown",
   "id": "e06afc1a-38ad-4a9e-81e5-68f2f589cf0d",
   "metadata": {},
   "source": [
    "## KT-2"
   ]
  },
  {
   "cell_type": "code",
   "execution_count": 2,
   "id": "633af11a-448a-4f76-9402-aa7a76506ac4",
   "metadata": {},
   "outputs": [
    {
     "name": "stdout",
     "output_type": "stream",
     "text": [
      "Număr total de lansări KT-2: 1\n",
      "Număr de eșecuri KT-2: 0\n",
      "Rată de succes KT-2: 100.00%\n",
      "\n",
      "Lista lansărilor orbitale pentru racheta KT-2\n",
      "+----------+-----------------+--------+--------+---------------+----+-------+---+\n",
      "| ID       | Date            | Rocket | Series | Sat * Mission | Or | LSite | R |\n",
      "+----------+-----------------+--------+--------+---------------+----+-------+---+\n",
      "| 2017-012 | 2017-03-02 2353 | KT-2   | Y1     | Tiankun-1     | CN | JQ*-  | S |\n",
      "+----------+-----------------+--------+--------+---------------+----+-------+---+\n",
      "\n"
     ]
    }
   ],
   "source": [
    "%store -r kt2\n",
    "print(kt2)"
   ]
  }
 ],
 "metadata": {
  "kernelspec": {
   "display_name": "Python 3 (ipykernel)",
   "language": "python",
   "name": "python3"
  },
  "language_info": {
   "codemirror_mode": {
    "name": "ipython",
    "version": 3
   },
   "file_extension": ".py",
   "mimetype": "text/x-python",
   "name": "python",
   "nbconvert_exporter": "python",
   "pygments_lexer": "ipython3",
   "version": "3.10.8"
  }
 },
 "nbformat": 4,
 "nbformat_minor": 5
}
