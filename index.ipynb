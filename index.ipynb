{
 "cells": [
  {
   "cell_type": "code",
   "execution_count": 1,
   "id": "0f767aa7-6e2f-45ec-88ff-42d96d730651",
   "metadata": {
    "tags": [
     "hide-input"
    ]
   },
   "outputs": [],
   "source": [
    "%store -r most_recent_launches"
   ]
  },
  {
   "cell_type": "markdown",
   "id": "242a8c7a-d427-476a-b214-1c0f1158929d",
   "metadata": {
    "tags": []
   },
   "source": [
    "## Rachete, astronauți și sonde interplanetare\n",
    "Siteul de față reprezintă o colecție personală de materiale, articole și notițe (mai mult sau mai puțin structurate) despre explorarea spațiului cosmic, adusă frecvent la zi și mereu extinsă, cu un accent pe rachete și lansări orbitale.\n",
    "\n",
    "Știrile sunt grupate în Buletine Cosmice, distribuit sub formă de [newsletter](https://buletin.parsec.ro/) sau [podcast](https://www.anchor.fm/buletin).\n",
    "\n",
    "## Ultimele lansări orbitale"
   ]
  },
  {
   "cell_type": "code",
   "execution_count": 2,
   "id": "90ced021-1574-46b0-a208-eef0add2326c",
   "metadata": {
    "tags": [
     "hide-input"
    ]
   },
   "outputs": [
    {
     "name": "stdout",
     "output_type": "stream",
     "text": [
      "+----------+-----------------+---------------------+----------------------+------------------------------------------+----+--------------+\n",
      "| ID       | Date            | Rocket              | Series               | Sat * Mission                            | Or | LSite        |\n",
      "+----------+-----------------+---------------------+----------------------+------------------------------------------+----+--------------+\n",
      "| 2022-144 | 2022-11-01 1341 | Falcon Heavy        | 004                  | USSF-44 (LDPE-2)                         | US | KSC+LC39A    |\n",
      "| 2022-143 | 2022-10-31 0737 | Chang Zheng 5B      | Y4                   | Mengtian                                 | CN | WEN+LC101    |\n",
      "| 2022-142 | 2022-10-29 0101 | Chang Zheng 2D      | Y72                  | Shiyan 20C                               | CN | JQ+LC43/94   |\n",
      "| 2022-141 | 2022-10-28 0114 | Falcon 9 / FT5      | 184/B1063.8          | Starlink-67 (Starlink Group 4-31)        | US | VSFBS+SLC4E  |\n",
      "| 2022-140 | 2022-10-26 0020 | Soyuz-2.1a          | S 15000-057          | Progress MS-21 (Progress 7K-TGM No. 451) | RU | GIK-5+LC31   |\n",
      "| 2022-139 | 2022-10-22 1957 | Soyuz-2.1b / Fregat | Kh15000-011/ 142-503 | Skif-D/Gonets                            | RU | VOST+PU1S    |\n",
      "| 2022-138 | 2022-10-22 1837 | GSLV Mk III         | LVM3-M2              | OneWeb India-1 (OneWeb L14)              | IN | SHAR+SLP     |\n",
      "| 2022-137 | 2022-10-21 1900 | Soyuz-2.1v / Volga  | -                    | Kosmos-2561/2562 (14F164/14F172)         | RU | GIK-1+LC43/4 |\n",
      "| 2022-136 | 2022-10-20 1450 | Falcon 9 / FT5      | 183/B1062.10         | Starlink-66 (Starlink Group 4-36)        | US | CC+LC40      |\n",
      "+----------+-----------------+---------------------+----------------------+------------------------------------------+----+--------------+\n"
     ]
    }
   ],
   "source": [
    "print(most_recent_launches)"
   ]
  },
  {
   "cell_type": "markdown",
   "id": "87ce3d27-c316-4892-976b-8c824c7d9d02",
   "metadata": {},
   "source": [
    "## Rachete orbitale active:\n",
    "- Statele Unite ale Americii: [Falcon 9](/r/falcon9.md), [Falcon Heavy](/r/falconh.md), [Atlas V](/r/atlasv.md), [Delta IV](/r/delta4.md), [Delta IV Heavy](/r/delta4h.md), [Electron](/r/electron.md), [Firefly Alhpa](/r/fireflya.md), [LauncherOne](/launcherone.md), [Astra](/r/astra.md), [Antares](/r/antares.md), [Minotaur](/r/minotaur.md), [Pegasus](/r/pegasus.md);\n",
    "- China: [CZ-2C](/r/cz2c.md), [CZ-2D](/r/cz2d.md), [CZ-2F](/r/cz2f.md), [CZ-3B](/r/cz3b.md), [CZ-3C](/r/cz3c.md), [CZ-4B](/r/cz4b.md), [CZ-4C](/r/cz4c.md), [CZ-11](/r/cz11.md), [CZ-5](/r/cz5.md), [CZ-6](/r/cz6.md), [CZ-7](/r/cz7.md), [CZ-8](/r/cz8.md), [KZ-1A](/r/kz1a.md), [KZ-11](/r/kz11.md), [Gushenxing-1](/r/gushenxing.md), [Lijian-1](/r/lijian.md), [Shuang Quxian 1](/r/sq1.md), [Jielong-1](/r/jielong.md), [OS-M1](/r/osm1.md), [Zhuque-1](/r/zhuque1.md), [KT-2](/r/kt2.md)\n",
    "- Rusia: [Soyuz-2.1](/r/soyuz21.md), [Soyuz-2.1v](/r/soyuz21v.md), [Angara-1.2](/r/angara12.md), [Proton-M](/r/protonm.md), [Angara-A5](/r/angaraa5.md)\n",
    "- Europa: [Ariane 5](/r/ariane5.md), [Vega-C](/r/vegac.md)\n",
    "- Japonia: [H-II](/r/hii.md), [Epsilon](/r/epsilon.md)\n",
    "- India: [GSLV Mk. III](/r/gslvmk3.md), [GSLV Mk. II](/r/gslvmk2.md), [PSLV](/r/md)\n",
    "- Iran: [Safir](/r/safir.md), [Simorgh](/r/simorgh.md), [Qased](/r/qased.md)\n",
    "- Israel: [Shavit](/r/shavit.md)\n",
    "- Coreea de Sud: [Nuri](/r/nuri.md)\n",
    "- Coreea de Nord: [Kwangmyongsong](/r/kwangmyongsong.md)"
   ]
  },
  {
   "cell_type": "code",
   "execution_count": null,
   "id": "d9c3b40f-1336-4bf8-832e-5ff46c3c4c7e",
   "metadata": {},
   "outputs": [],
   "source": []
  }
 ],
 "metadata": {
  "kernelspec": {
   "display_name": "Python 3 (ipykernel)",
   "language": "python",
   "name": "python3"
  },
  "language_info": {
   "codemirror_mode": {
    "name": "ipython",
    "version": 3
   },
   "file_extension": ".py",
   "mimetype": "text/x-python",
   "name": "python",
   "nbconvert_exporter": "python",
   "pygments_lexer": "ipython3",
   "version": "3.10.8"
  }
 },
 "nbformat": 4,
 "nbformat_minor": 5
}
