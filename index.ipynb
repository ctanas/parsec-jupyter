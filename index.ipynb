{
 "cells": [
  {
   "cell_type": "code",
   "execution_count": 5,
   "id": "0f767aa7-6e2f-45ec-88ff-42d96d730651",
   "metadata": {
    "tags": [
     "hide-input"
    ]
   },
   "outputs": [],
   "source": [
    "%store -r most_recent_launches\n",
    "%store -r l_curr\n",
    "\n",
    "\n",
    "from IPython.display import Markdown as md"
   ]
  },
  {
   "cell_type": "markdown",
   "id": "e4c04450-750c-44ec-86e9-3f2a9d469043",
   "metadata": {},
   "source": [
    "---\n",
    "layout: default\n",
    "title: Home\n",
    "---"
   ]
  },
  {
   "cell_type": "markdown",
   "id": "242a8c7a-d427-476a-b214-1c0f1158929d",
   "metadata": {
    "tags": []
   },
   "source": [
    "## Rachete, astronauți și sonde interplanetare\n",
    "Siteul de față reprezintă o colecție personală de materiale, articole și notițe (mai mult sau mai puțin structurate) despre explorarea spațiului cosmic, adusă frecvent la zi și mereu extinsă, cu un accent pe rachete și lansări orbitale.\n",
    "\n",
    "Știrile sunt grupate în Buletine Cosmice, distribuit sub formă de [newsletter](https://buletin.parsec.ro/) sau [podcast](https://www.anchor.fm/buletin).\n",
    "\n",
    "## Cele mai recente lansări orbitale"
   ]
  },
  {
   "cell_type": "code",
   "execution_count": 7,
   "id": "90ced021-1574-46b0-a208-eef0add2326c",
   "metadata": {
    "tags": [
     "hide-input"
    ]
   },
   "outputs": [
    {
     "data": {
      "text/html": [
       "<div>\n",
       "<style scoped>\n",
       "    .dataframe tbody tr th:only-of-type {\n",
       "        vertical-align: middle;\n",
       "    }\n",
       "\n",
       "    .dataframe tbody tr th {\n",
       "        vertical-align: top;\n",
       "    }\n",
       "\n",
       "    .dataframe thead th {\n",
       "        text-align: right;\n",
       "    }\n",
       "</style>\n",
       "<table border=\"1\" class=\"dataframe\">\n",
       "  <thead>\n",
       "    <tr style=\"text-align: right;\">\n",
       "      <th></th>\n",
       "      <th>ID</th>\n",
       "      <th>Dată (UTC)</th>\n",
       "      <th>Lansator</th>\n",
       "      <th>Serie</th>\n",
       "      <th>Satelit (misiune)</th>\n",
       "      <th>Or</th>\n",
       "      <th>Centru</th>\n",
       "    </tr>\n",
       "  </thead>\n",
       "  <tbody>\n",
       "    <tr>\n",
       "      <th>0</th>\n",
       "      <td>2022-147</td>\n",
       "      <td>2022-11-04 1727</td>\n",
       "      <td>Electron</td>\n",
       "      <td>32</td>\n",
       "      <td>Catch Me If You Can (MATS)</td>\n",
       "      <td>US</td>\n",
       "      <td>MAHIA+LC1B</td>\n",
       "    </tr>\n",
       "    <tr>\n",
       "      <th>1</th>\n",
       "      <td>2022-146</td>\n",
       "      <td>2022-11-03 0522</td>\n",
       "      <td>Falcon 9 / FT5</td>\n",
       "      <td>185/B1067.7</td>\n",
       "      <td>Hot Bird 13G</td>\n",
       "      <td>US</td>\n",
       "      <td>CC+LC40</td>\n",
       "    </tr>\n",
       "    <tr>\n",
       "      <th>2</th>\n",
       "      <td>2022-145</td>\n",
       "      <td>2022-11-02 0647</td>\n",
       "      <td>Soyuz 2-1B / Fregat</td>\n",
       "      <td>-            111-30x</td>\n",
       "      <td>Kosmos-2563 (Kupol No. 6)</td>\n",
       "      <td>RU</td>\n",
       "      <td>GIK-1+LC43/4</td>\n",
       "    </tr>\n",
       "    <tr>\n",
       "      <th>3</th>\n",
       "      <td>2022-144</td>\n",
       "      <td>2022-11-01 1341</td>\n",
       "      <td>Falcon Heavy</td>\n",
       "      <td>004</td>\n",
       "      <td>USSF-44 (LDPE-2)</td>\n",
       "      <td>US</td>\n",
       "      <td>KSC+LC39A</td>\n",
       "    </tr>\n",
       "    <tr>\n",
       "      <th>4</th>\n",
       "      <td>2022-143</td>\n",
       "      <td>2022-10-31 0737</td>\n",
       "      <td>Chang Zheng 5B</td>\n",
       "      <td>Y4</td>\n",
       "      <td>Mengtian</td>\n",
       "      <td>CN</td>\n",
       "      <td>WEN+LC101</td>\n",
       "    </tr>\n",
       "    <tr>\n",
       "      <th>5</th>\n",
       "      <td>2022-142</td>\n",
       "      <td>2022-10-29 0101</td>\n",
       "      <td>Chang Zheng 2D</td>\n",
       "      <td>Y72</td>\n",
       "      <td>Shiyan 20C</td>\n",
       "      <td>CN</td>\n",
       "      <td>JQ+LC43/94</td>\n",
       "    </tr>\n",
       "    <tr>\n",
       "      <th>6</th>\n",
       "      <td>2022-141</td>\n",
       "      <td>2022-10-28 0114</td>\n",
       "      <td>Falcon 9 / FT5</td>\n",
       "      <td>184/B1063.8</td>\n",
       "      <td>Starlink-67 (Starlink Group 4-31)</td>\n",
       "      <td>US</td>\n",
       "      <td>VSFBS+SLC4E</td>\n",
       "    </tr>\n",
       "    <tr>\n",
       "      <th>7</th>\n",
       "      <td>2022-140</td>\n",
       "      <td>2022-10-26 0020</td>\n",
       "      <td>Soyuz-2.1a</td>\n",
       "      <td>S 15000-057</td>\n",
       "      <td>Progress MS-21 (Progress 7K-TGM No. 451)</td>\n",
       "      <td>RU</td>\n",
       "      <td>GIK-5+LC31</td>\n",
       "    </tr>\n",
       "    <tr>\n",
       "      <th>8</th>\n",
       "      <td>2022-139</td>\n",
       "      <td>2022-10-22 1957</td>\n",
       "      <td>Soyuz-2.1b / Fregat</td>\n",
       "      <td>Kh15000-011/ 142-503</td>\n",
       "      <td>Skif-D/Gonets</td>\n",
       "      <td>RU</td>\n",
       "      <td>VOST+PU1S</td>\n",
       "    </tr>\n",
       "    <tr>\n",
       "      <th>9</th>\n",
       "      <td>2022-138</td>\n",
       "      <td>2022-10-22 1837</td>\n",
       "      <td>GSLV Mk. 3</td>\n",
       "      <td>LVM3-M2</td>\n",
       "      <td>OneWeb India-1 (OneWeb L14)</td>\n",
       "      <td>IN</td>\n",
       "      <td>SHAR+SLP</td>\n",
       "    </tr>\n",
       "    <tr>\n",
       "      <th>10</th>\n",
       "      <td>2022-137</td>\n",
       "      <td>2022-10-21 1900</td>\n",
       "      <td>Soyuz-2.1v / Volga</td>\n",
       "      <td>-</td>\n",
       "      <td>Kosmos-2561/2562 (14F164/14F172)</td>\n",
       "      <td>RU</td>\n",
       "      <td>GIK-1+LC43/4</td>\n",
       "    </tr>\n",
       "  </tbody>\n",
       "</table>\n",
       "</div>"
      ],
      "text/plain": [
       "          ID       Dată (UTC)             Lansator                 Serie  \\\n",
       "0   2022-147  2022-11-04 1727             Electron                    32   \n",
       "1   2022-146  2022-11-03 0522       Falcon 9 / FT5           185/B1067.7   \n",
       "2   2022-145  2022-11-02 0647  Soyuz 2-1B / Fregat  -            111-30x   \n",
       "3   2022-144  2022-11-01 1341         Falcon Heavy                   004   \n",
       "4   2022-143  2022-10-31 0737       Chang Zheng 5B                    Y4   \n",
       "5   2022-142  2022-10-29 0101       Chang Zheng 2D                   Y72   \n",
       "6   2022-141  2022-10-28 0114       Falcon 9 / FT5           184/B1063.8   \n",
       "7   2022-140  2022-10-26 0020           Soyuz-2.1a           S 15000-057   \n",
       "8   2022-139  2022-10-22 1957  Soyuz-2.1b / Fregat  Kh15000-011/ 142-503   \n",
       "9   2022-138  2022-10-22 1837           GSLV Mk. 3               LVM3-M2   \n",
       "10  2022-137  2022-10-21 1900   Soyuz-2.1v / Volga                     -   \n",
       "\n",
       "                           Satelit (misiune)  Or        Centru  \n",
       "0                 Catch Me If You Can (MATS)  US    MAHIA+LC1B  \n",
       "1                               Hot Bird 13G  US       CC+LC40  \n",
       "2                  Kosmos-2563 (Kupol No. 6)  RU  GIK-1+LC43/4  \n",
       "3                           USSF-44 (LDPE-2)  US     KSC+LC39A  \n",
       "4                                   Mengtian  CN     WEN+LC101  \n",
       "5                                 Shiyan 20C  CN    JQ+LC43/94  \n",
       "6          Starlink-67 (Starlink Group 4-31)  US   VSFBS+SLC4E  \n",
       "7   Progress MS-21 (Progress 7K-TGM No. 451)  RU    GIK-5+LC31  \n",
       "8                              Skif-D/Gonets  RU     VOST+PU1S  \n",
       "9                OneWeb India-1 (OneWeb L14)  IN      SHAR+SLP  \n",
       "10          Kosmos-2561/2562 (14F164/14F172)  RU  GIK-1+LC43/4  "
      ]
     },
     "execution_count": 7,
     "metadata": {},
     "output_type": "execute_result"
    }
   ],
   "source": [
    "most_recent_launches"
   ]
  },
  {
   "cell_type": "markdown",
   "id": "47dd21e8-25d6-4c7c-b968-8c6d2021b525",
   "metadata": {},
   "source": [
    "## Lansări orbitale:\n",
    "- Lansări orbitale din [anul curent](y/2022);\n",
    "- [Statistici generale](y/totalorbital);\n",
    "- Statistici anuale: [2022](y/2022), [2021](y/2021), [2020](y/2020), [2019](y/2019) ,[2018](y/2018), [2017](y/2017), [2016](y/2016), [2015](y/2015), [2014](y/2014), [2013](y/2013), [2012](y/2012), [2011](y/2011), [2010](y/2010), [2009](y/2009), [2008](y/2008), [2007](y/2007), [2006](y/2006), [2005](y/2005), [2004](y/2004), [2003](y/2003), [2002](y/2002), [2001](y/2001), [2000](y/2000), [1999](y/1999), [1998](y/1998), [1997](y/1997), [1996](y/1996), [1995](y/1995), [1994](y/1994), [1993](y/1993), [1992](y/1992), [1991](y/1991), [1990](y/1990), [1989](y/1989), [1988](y/1988), [1987](y/1987), [1986](y/1986), [1985](y/1985), [1984](y/1984), [1983](y/1983), [1982](y/1982), [1981](y/1981), [1980](y/1980), [1979](y/1979), [1978](y/1978), [1977](y/1977), [1976](y/1976), [1975](y/1975), [1974](y/1974), [1973](y/1973), [1972](y/1972), [1971](y/1971), [1970](y/1970), [1969](y/1969), [1968](y/1968), [1967](y/1967), [1966](y/1966), [1965](y/1965), [1964](y/1964), [1963](y/1963), [1962](y/1962), [1961](y/1961), [1960](y/1960), [1959](y/1959), [1958](y/1958), [1957](y/1957)."
   ]
  },
  {
   "cell_type": "markdown",
   "id": "87ce3d27-c316-4892-976b-8c824c7d9d02",
   "metadata": {},
   "source": [
    "## Rachete orbitale active:\n",
    "- SUA: [Falcon 9](r/falcon9), [Falcon Heavy](r/falconh), [Atlas V](r/atlasv), [Delta IV](r/delta4), [Delta IV Heavy](r/delta4h), [Electron](r/electron), [Firefly Alpha](r/fireflya), [LauncherOne](r/launcherone), [Astra](r/astra), [Antares](r/antares), [Minotaur](r/minotaur), [Pegasus](r/pegasus);\n",
    "- China: [CZ-2C](r/cz2c), [CZ-2D](r/cz2d), [CZ-2F](r/cz2f), [CZ-3B](r/cz3b), [CZ-3C](r/cz3c), [CZ-4B](r/cz4b), [CZ-4C](r/cz4c), [CZ-11](r/cz11), [CZ-5](r/cz5), [CZ-6](r/cz6), [CZ-7](r/cz7), [CZ-8](r/cz8), [KZ-1A](r/kz1a), [KZ-11](r/kz11), [Gushenxing-1](r/gushenxing), [Lijian-1](r/lijian), [Shuang Quxian 1](r/sq1), [Jielong-1](r/jielong), [OS-M1](r/osm1), [Zhuque-1](r/zhuque1), [KT-2](r/kt2)\n",
    "- Rusia: [Soyuz-2.1](r/soyuz21), [Soyuz-2.1v](r/soyuz21v), [Angara-1.2](r/angara12), [Proton-M](r/protonm), [Angara-A5](r/angaraa5)\n",
    "- Europa: [Ariane 5](r/ariane5), [Vega-C](r/vegac)\n",
    "- Japonia: [H-II](r/hii), [Epsilon](r/epsilon)\n",
    "- India: [SSLV](r/sslv), [PSLV](r/pslv), [GSLV Mk. 2](r/gslvmk2), [GSLV Mk. 3](r/gslvmk3)\n",
    "- Iran: [Safir](r/safir), [Simorgh](r/simorgh), [Qased](r/qased)\n",
    "- Israel: [Shavit](r/shavit)\n",
    "- Coreea de Sud: [Nuri](r/nuri)\n",
    "- Coreea de Nord: [Kwangmyongsong](r/kwangmyongsong)"
   ]
  },
  {
   "cell_type": "markdown",
   "id": "840d8533-8fc3-4cba-b7ce-c6f02c812cc7",
   "metadata": {},
   "source": [
    "## Secțiuni speciale\n",
    " - [Lista centrelor spațiale](v/legenda) de unde au loc lansări orbitale (*coloana 7* din tabelul de mai sus)\n",
    " - [Notiție cu privire la misiunea Artemis-1](v/artemis1)\n",
    " - [Lista lansări Starlink](v/starlink)"
   ]
  },
  {
   "cell_type": "code",
   "execution_count": null,
   "id": "012a0c5c-605b-4da5-b4bf-68d5e3675d53",
   "metadata": {},
   "outputs": [],
   "source": []
  }
 ],
 "metadata": {
  "kernelspec": {
   "display_name": "Python 3 (ipykernel)",
   "language": "python",
   "name": "python3"
  },
  "language_info": {
   "codemirror_mode": {
    "name": "ipython",
    "version": 3
   },
   "file_extension": ".py",
   "mimetype": "text/x-python",
   "name": "python",
   "nbconvert_exporter": "python",
   "pygments_lexer": "ipython3",
   "version": "3.10.8"
  }
 },
 "nbformat": 4,
 "nbformat_minor": 5
}
