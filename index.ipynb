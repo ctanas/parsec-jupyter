{
 "cells": [
  {
   "cell_type": "code",
   "execution_count": 4,
   "id": "0f767aa7-6e2f-45ec-88ff-42d96d730651",
   "metadata": {},
   "outputs": [],
   "source": [
    "%run -i recent_launches.py\n",
    "import matplotlib.pyplot as plt"
   ]
  },
  {
   "cell_type": "markdown",
   "id": "242a8c7a-d427-476a-b214-1c0f1158929d",
   "metadata": {
    "tags": []
   },
   "source": [
    "## Rachete, astronauți și sonde interplanetare\n",
    "Siteul de față reprezintă o colecție personală de materiale, articole și notițe (mai mult sau mai puțin structurate) despre explorarea spațiului cosmic, adusă frecvent la zi și mereu extinsă, cu un accent pe rachete și lansări orbitale.\n",
    "\n",
    "Știrile sunt grupate în Buletine Cosmice, distribuit sub formă de [newsletter](https://buletin.parsec.ro/) sau [podcast](https://www.anchor.fm/buletin).\n",
    "\n",
    "## Ultimele lansări orbitale"
   ]
  },
  {
   "cell_type": "code",
   "execution_count": 5,
   "id": "90ced021-1574-46b0-a208-eef0add2326c",
   "metadata": {
    "tags": [
     "remove-input"
    ]
   },
   "outputs": [
    {
     "ename": "NameError",
     "evalue": "name 'recent_launches' is not defined",
     "output_type": "error",
     "traceback": [
      "\u001b[0;31m---------------------------------------------------------------------------\u001b[0m",
      "\u001b[0;31mNameError\u001b[0m                                 Traceback (most recent call last)",
      "Cell \u001b[0;32mIn [5], line 1\u001b[0m\n\u001b[0;32m----> 1\u001b[0m \u001b[43mrecent_launches\u001b[49m(\u001b[38;5;241m10\u001b[39m)\n",
      "\u001b[0;31mNameError\u001b[0m: name 'recent_launches' is not defined"
     ]
    }
   ],
   "source": [
    "recent_launches(10)"
   ]
  },
  {
   "cell_type": "code",
   "execution_count": 6,
   "id": "8ebc7fb7-e506-4289-9c7b-ebbce4eece39",
   "metadata": {},
   "outputs": [
    {
     "ename": "NameError",
     "evalue": "name 'l_succ_country' is not defined",
     "output_type": "error",
     "traceback": [
      "\u001b[0;31m---------------------------------------------------------------------------\u001b[0m",
      "\u001b[0;31mNameError\u001b[0m                                 Traceback (most recent call last)",
      "Cell \u001b[0;32mIn [6], line 4\u001b[0m\n\u001b[1;32m      1\u001b[0m get_ipython()\u001b[38;5;241m.\u001b[39mrun_line_magic(\u001b[38;5;124m'\u001b[39m\u001b[38;5;124mmatplotlib\u001b[39m\u001b[38;5;124m'\u001b[39m, \u001b[38;5;124m'\u001b[39m\u001b[38;5;124minline\u001b[39m\u001b[38;5;124m'\u001b[39m)\n\u001b[1;32m      3\u001b[0m list_countries \u001b[38;5;241m=\u001b[39m [\u001b[38;5;124m\"\u001b[39m\u001b[38;5;124mUS\u001b[39m\u001b[38;5;124m\"\u001b[39m, \u001b[38;5;124m\"\u001b[39m\u001b[38;5;124mCN\u001b[39m\u001b[38;5;124m\"\u001b[39m, \u001b[38;5;124m\"\u001b[39m\u001b[38;5;124mRU\u001b[39m\u001b[38;5;124m\"\u001b[39m, \u001b[38;5;124m\"\u001b[39m\u001b[38;5;124mEU\u001b[39m\u001b[38;5;124m\"\u001b[39m, \u001b[38;5;124m\"\u001b[39m\u001b[38;5;124mJP\u001b[39m\u001b[38;5;124m\"\u001b[39m, \u001b[38;5;124m\"\u001b[39m\u001b[38;5;124mIN\u001b[39m\u001b[38;5;124m\"\u001b[39m, \u001b[38;5;124m\"\u001b[39m\u001b[38;5;124mIR\u001b[39m\u001b[38;5;124m\"\u001b[39m, \u001b[38;5;124m\"\u001b[39m\u001b[38;5;124mIL\u001b[39m\u001b[38;5;124m\"\u001b[39m, \u001b[38;5;124m\"\u001b[39m\u001b[38;5;124mKR\u001b[39m\u001b[38;5;124m\"\u001b[39m, \u001b[38;5;124m\"\u001b[39m\u001b[38;5;124mKP\u001b[39m\u001b[38;5;124m\"\u001b[39m]\n\u001b[0;32m----> 4\u001b[0m list_slaunches \u001b[38;5;241m=\u001b[39m [\u001b[43ml_succ_country\u001b[49m[\u001b[38;5;241m0\u001b[39m], l_succ_country[\u001b[38;5;241m2\u001b[39m], l_succ_country[\u001b[38;5;241m1\u001b[39m], l_succ_country[\u001b[38;5;241m3\u001b[39m], l_succ_country[\u001b[38;5;241m4\u001b[39m], l_succ_country[\u001b[38;5;241m5\u001b[39m], l_succ_country[\u001b[38;5;241m6\u001b[39m], l_succ_country[\u001b[38;5;241m7\u001b[39m], l_succ_country[\u001b[38;5;241m8\u001b[39m], l_succ_country[\u001b[38;5;241m9\u001b[39m]]\n\u001b[1;32m      5\u001b[0m list_tlaunches \u001b[38;5;241m=\u001b[39m [l_tot_country[\u001b[38;5;241m0\u001b[39m], l_tot_country[\u001b[38;5;241m2\u001b[39m], l_tot_country[\u001b[38;5;241m1\u001b[39m], l_tot_country[\u001b[38;5;241m3\u001b[39m], l_tot_country[\u001b[38;5;241m4\u001b[39m], l_tot_country[\u001b[38;5;241m5\u001b[39m], l_tot_country[\u001b[38;5;241m6\u001b[39m], l_tot_country[\u001b[38;5;241m7\u001b[39m], l_tot_country[\u001b[38;5;241m8\u001b[39m], l_tot_country[\u001b[38;5;241m9\u001b[39m]]\n\u001b[1;32m      8\u001b[0m plt\u001b[38;5;241m.\u001b[39mbar(list_countries, list_tlaunches, color\u001b[38;5;241m=\u001b[39m\u001b[38;5;124m\"\u001b[39m\u001b[38;5;124mr\u001b[39m\u001b[38;5;124m\"\u001b[39m, label\u001b[38;5;241m=\u001b[39m\u001b[38;5;124m\"\u001b[39m\u001b[38;5;124mLansări eșuate\u001b[39m\u001b[38;5;124m\"\u001b[39m)\n",
      "\u001b[0;31mNameError\u001b[0m: name 'l_succ_country' is not defined"
     ]
    }
   ],
   "source": [
    "%matplotlib inline\n",
    "\n",
    "list_countries = [\"US\", \"CN\", \"RU\", \"EU\", \"JP\", \"IN\", \"IR\", \"IL\", \"KR\", \"KP\"]\n",
    "list_slaunches = [l_succ_country[0], l_succ_country[2], l_succ_country[1], l_succ_country[3], l_succ_country[4], l_succ_country[5], l_succ_country[6], l_succ_country[7], l_succ_country[8], l_succ_country[9]]\n",
    "list_tlaunches = [l_tot_country[0], l_tot_country[2], l_tot_country[1], l_tot_country[3], l_tot_country[4], l_tot_country[5], l_tot_country[6], l_tot_country[7], l_tot_country[8], l_tot_country[9]]\n",
    "\n",
    "\n",
    "plt.bar(list_countries, list_tlaunches, color=\"r\", label=\"Lansări eșuate\")\n",
    "plt.bar(list_countries, list_slaunches, color=\"b\", label=\"Lansări reușite\")\n",
    "plt.title(\"Lansări orbitale %s\" % str(curr_year))\n",
    "plt.legend()\n",
    "plt.show()\n",
    "plt.close()"
   ]
  },
  {
   "cell_type": "markdown",
   "id": "87ce3d27-c316-4892-976b-8c824c7d9d02",
   "metadata": {},
   "source": [
    "Detalii privind rachetele orbitale active:\n",
    "- Statele Unite ale Americii: [Falcon 9](./r/falcon9.ipynb), [Falcon Heavy](./r/falconh.ipynb), [Atlas V](./r/atlasv.ipynb), Delta IV, Delta IV Heavy, Electron, Firefly Alhpa, LauncherOne, Astra, Antares, Minotaur, Pegasus\n",
    "- China: CZ-2C, CZ-2D, CZ-2F, CZ-3B, CZ-3C, CZ-4B, CZ-4C, CZ-11, CZ-5, CZ-6, CZ-7, CZ-8, KZ-1A, KZ-11, Gushenxing-1, Lijian-1, Shuang Quxian 1, Jielong-1, OS-M1, Zhuque-1, KT-2\n",
    "- Rusia: [Soyuz-2.1](./r/soyuz21.ipynb), [Soyuz-2.1v](./r/soyuz21v.ipynb), [Angara-1.2](./r/angara12.ipynb), [Proton-M](./r/protonm.ipynb), [Angara-A5](./r/angaraa5.ipynb)\n",
    "- Europa: [Ariane 5](./r/ariane5.ipynb), [Vega-C](./r/vegac.ipynb)\n",
    "- Japonia: [H-II], [Epsilon]\n",
    "- India: [GSLV Mk. III](./r/gslvmk3.ipynb), [GSLV Mk. II](./r/gslvmk2.ipynb), [PSLV](./r/pslv.ipynb)\n",
    "- Iran: Safir, Simorgh, Qased\n",
    "- Israel: Shavit\n",
    "- Coreea de Sud: Nuri\n",
    "- Coreea de Nord: Kwangmyongsong"
   ]
  }
 ],
 "metadata": {
  "kernelspec": {
   "display_name": "Python 3 (ipykernel)",
   "language": "python",
   "name": "python3"
  },
  "language_info": {
   "codemirror_mode": {
    "name": "ipython",
    "version": 3
   },
   "file_extension": ".py",
   "mimetype": "text/x-python",
   "name": "python",
   "nbconvert_exporter": "python",
   "pygments_lexer": "ipython3",
   "version": "3.10.8"
  }
 },
 "nbformat": 4,
 "nbformat_minor": 5
}
