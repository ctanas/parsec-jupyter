{
 "cells": [
  {
   "cell_type": "markdown",
   "id": "b8c328ce-2ea8-4d86-8958-abc275a81886",
   "metadata": {},
   "source": [
    "---\n",
    "permalink: \"/r/kwangmyongsong\"\n",
    "title: Kwangmyongsong\n",
    "layout: default\n",
    "---"
   ]
  },
  {
   "cell_type": "code",
   "execution_count": 1,
   "id": "633af11a-448a-4f76-9402-aa7a76506ac4",
   "metadata": {},
   "outputs": [
    {
     "name": "stdout",
     "output_type": "stream",
     "text": [
      "Număr total de lansări Kwangmyongsong: 1\n",
      "Număr de eșecuri Kwangmyongsong: 0\n",
      "Rată de succes Kwangmyongsong: 100.00%\n",
      "\n",
      "Lista lansărilor orbitale pentru racheta Kwangmyongsong\n",
      "+----------+-----------------+----------------+--------+---------------------------------+----+-----------+---+\n",
      "| ID       | Date            | Rocket         | Series | Sat * Mission                   | Or | LSite     | R |\n",
      "+----------+-----------------+----------------+--------+---------------------------------+----+-----------+---+\n",
      "| 2016-009 | 2016-02-07 0030 | Kwangmyongsong | 5      | Kwangmyongsong-4 (KMS-4 Unit 1) | KP | SOHAE*LC1 | S |\n",
      "+----------+-----------------+----------------+--------+---------------------------------+----+-----------+---+\n",
      "\n"
     ]
    }
   ],
   "source": [
    "%store -r kwangmyongsong\n",
    "print(kwangmyongsong[0])\n",
    "print(kwangmyongsong[1])"
   ]
  }
 ],
 "metadata": {
  "kernelspec": {
   "display_name": "Python 3 (ipykernel)",
   "language": "python",
   "name": "python3"
  },
  "language_info": {
   "codemirror_mode": {
    "name": "ipython",
    "version": 3
   },
   "file_extension": ".py",
   "mimetype": "text/x-python",
   "name": "python",
   "nbconvert_exporter": "python",
   "pygments_lexer": "ipython3",
   "version": "3.9.13"
  }
 },
 "nbformat": 4,
 "nbformat_minor": 5
}
