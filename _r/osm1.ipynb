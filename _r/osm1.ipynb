{
 "cells": [
  {
   "cell_type": "markdown",
   "id": "eb38ccf1-92ae-4434-b38a-eb442d8847fe",
   "metadata": {},
   "source": [
    "---\n",
    "permalink: \"/r/osm1\"\n",
    "title: OS-M1\n",
    "layout: default\n",
    "---"
   ]
  },
  {
   "cell_type": "code",
   "execution_count": 1,
   "id": "633af11a-448a-4f76-9402-aa7a76506ac4",
   "metadata": {},
   "outputs": [
    {
     "name": "stdout",
     "output_type": "stream",
     "text": [
      "Număr total de lansări OS-M1: 1\n",
      "Număr de eșecuri OS-M1: 1\n",
      "Rată de succes OS-M1: 0.00%\n",
      "Număr de lansări reușite de la ultimul eșec: 1\n",
      "\n",
      "Lista lansărilor orbitale pentru racheta OS-M1\n",
      "+----------+-----------------+--------+--------+---------------+----+-------+---+\n",
      "| ID       | Date            | Rocket | Series | Sat * Mission | Or | LSite | R |\n",
      "+----------+-----------------+--------+--------+---------------+----+-------+---+\n",
      "| 2019-F03 | 2019-03-27 0939 | OS-M1  | OS-M1  | -             | CN | JQ*-  | F |\n",
      "+----------+-----------------+--------+--------+---------------+----+-------+---+\n",
      "\n"
     ]
    }
   ],
   "source": [
    "%store -r osm1\n",
    "print(osm1)"
   ]
  },
  {
   "cell_type": "code",
   "execution_count": null,
   "id": "c1adf7a3-da9b-4c08-b439-23b8b2fe0824",
   "metadata": {},
   "outputs": [],
   "source": []
  },
  {
   "cell_type": "code",
   "execution_count": null,
   "id": "e8d50d07-f8ca-457b-88e1-9a06b4b209b6",
   "metadata": {},
   "outputs": [],
   "source": []
  }
 ],
 "metadata": {
  "kernelspec": {
   "display_name": "Python 3 (ipykernel)",
   "language": "python",
   "name": "python3"
  },
  "language_info": {
   "codemirror_mode": {
    "name": "ipython",
    "version": 3
   },
   "file_extension": ".py",
   "mimetype": "text/x-python",
   "name": "python",
   "nbconvert_exporter": "python",
   "pygments_lexer": "ipython3",
   "version": "3.10.8"
  }
 },
 "nbformat": 4,
 "nbformat_minor": 5
}
