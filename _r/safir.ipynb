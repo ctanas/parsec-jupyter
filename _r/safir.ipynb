{
 "cells": [
  {
   "cell_type": "markdown",
   "id": "b2c54439-6ca9-4af4-80ef-43ebac2227e0",
   "metadata": {},
   "source": [
    "---\n",
    "permalink: \"/r/safir\"\n",
    "title: Safir\n",
    "layout: default\n",
    "---"
   ]
  },
  {
   "cell_type": "code",
   "execution_count": 1,
   "id": "633af11a-448a-4f76-9402-aa7a76506ac4",
   "metadata": {},
   "outputs": [
    {
     "name": "stdout",
     "output_type": "stream",
     "text": [
      "Număr total de lansări Safir: 9\n",
      "Număr de eșecuri Safir: 4\n",
      "Rată de succes Safir: 55.56%\n",
      "Număr de lansări reușite de la ultimul eșec: 1\n",
      "\n",
      "Lista lansărilor orbitale pentru racheta Safir\n",
      "+----------+------------------+--------+----------+------------------+----+---------+---+\n",
      "| ID       | Date             | Rocket | Series   | Sat * Mission    | Or | LSite   | R |\n",
      "+----------+------------------+--------+----------+------------------+----+---------+---+\n",
      "| 2008-F02 | 2008-08-16 1932  | Safir  | OES.0001 | Omid? (-)        | IR | SEM*SAF | F |\n",
      "| 2009-004 | 2009-02-02 1834? | Safir  | GBS.0092 | Omid/Safir-2 (-) | IR | SEM*SAF | S |\n",
      "| 2011-025 | 2011-06-15 0915  | Safir  | UIS.0001 | Rasad  ? (-)     | IR | SEM*SAF | S |\n",
      "| 2012-005 | 2012-02-03 0004? | Safir  | ERS.2002 | Navid            | IR | SEM*SAF | S |\n",
      "| 2012-F02 | 2012-05-23?      | Safir  | -        | Fajr             | IR | SEM*SAF | F |\n",
      "| 2012-F03 | 2012-09-22?      | Safir  | -        | Fajr             | IR | SEM*SAF | F |\n",
      "| 2015-006 | 2015-02-02 0852  | Safir  | LBS.2001 | Fajr             | IR | SEM*SAF | S |\n",
      "| 2019-F02 | 2019-02-05       | Safir  | -        | Dousti           | IR | SEM*SAF | F |\n",
      "| 2019-E01 | 2019-08-29 0658  | Safir  | -        | -                | IR | SEM*-   | S |\n",
      "+----------+------------------+--------+----------+------------------+----+---------+---+\n",
      "\n"
     ]
    }
   ],
   "source": [
    "%store -r safir\n",
    "print(safir)"
   ]
  },
  {
   "cell_type": "code",
   "execution_count": null,
   "id": "c1adf7a3-da9b-4c08-b439-23b8b2fe0824",
   "metadata": {},
   "outputs": [],
   "source": []
  },
  {
   "cell_type": "code",
   "execution_count": null,
   "id": "e8d50d07-f8ca-457b-88e1-9a06b4b209b6",
   "metadata": {},
   "outputs": [],
   "source": []
  }
 ],
 "metadata": {
  "kernelspec": {
   "display_name": "Python 3 (ipykernel)",
   "language": "python",
   "name": "python3"
  },
  "language_info": {
   "codemirror_mode": {
    "name": "ipython",
    "version": 3
   },
   "file_extension": ".py",
   "mimetype": "text/x-python",
   "name": "python",
   "nbconvert_exporter": "python",
   "pygments_lexer": "ipython3",
   "version": "3.10.8"
  }
 },
 "nbformat": 4,
 "nbformat_minor": 5
}
