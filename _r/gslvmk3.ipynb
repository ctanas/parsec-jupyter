{
 "cells": [
  {
   "cell_type": "markdown",
   "id": "3e885fed-45a3-48ff-85d9-d1666da83790",
   "metadata": {},
   "source": [
    "---\n",
    "permalink: \"/r/gslvmk3\"\n",
    "title: GLSV Mk. 3\n",
    "layout: default\n",
    "---"
   ]
  },
  {
   "cell_type": "code",
   "execution_count": 1,
   "id": "633af11a-448a-4f76-9402-aa7a76506ac4",
   "metadata": {},
   "outputs": [
    {
     "name": "stdout",
     "output_type": "stream",
     "text": [
      "Număr total de lansări GSLV Mk. 3: 4\n",
      "Număr de eșecuri GSLV Mk. 3: 0\n",
      "Rată de succes GSLV Mk. 3: 100.00%\n",
      "\n",
      "Lista lansărilor orbitale pentru racheta GSLV Mk. 3\n",
      "+----------+-----------------+------------+---------+-----------------------------+----+----------+---+\n",
      "| ID       | Date            | Rocket     | Series  | Sat * Mission               | Or | LSite    | R |\n",
      "+----------+-----------------+------------+---------+-----------------------------+----+----------+---+\n",
      "| 2017-031 | 2017-06-05 1158 | GSLV Mk. 3 | LVM3-D1 | GSAT-19                     | IN | SHAR*SLP | S |\n",
      "| 2018-089 | 2018-11-14 1138 | GSLV Mk. 3 | LVM3-D2 | GSAT-29                     | IN | SHAR*SLP | S |\n",
      "| 2019-042 | 2019-07-22 0913 | GSLV Mk. 3 | LVM3-M1 | Chandrayaan-2               | IN | SHAR*SLP | S |\n",
      "| 2022-138 | 2022-10-22 1837 | GSLV Mk. 3 | LVM3-M2 | OneWeb India-1 (OneWeb L14) | IN | SHAR*SLP | S |\n",
      "+----------+-----------------+------------+---------+-----------------------------+----+----------+---+\n",
      "\n"
     ]
    }
   ],
   "source": [
    "%store -r gslvmk3\n",
    "print(gslvmk3[0])\n",
    "print(gslvmk3[1])"
   ]
  }
 ],
 "metadata": {
  "kernelspec": {
   "display_name": "Python 3 (ipykernel)",
   "language": "python",
   "name": "python3"
  },
  "language_info": {
   "codemirror_mode": {
    "name": "ipython",
    "version": 3
   },
   "file_extension": ".py",
   "mimetype": "text/x-python",
   "name": "python",
   "nbconvert_exporter": "python",
   "pygments_lexer": "ipython3",
   "version": "3.9.13"
  }
 },
 "nbformat": 4,
 "nbformat_minor": 5
}
