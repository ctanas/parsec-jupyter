{
 "cells": [
  {
   "cell_type": "markdown",
   "id": "3e885fed-45a3-48ff-85d9-d1666da83790",
   "metadata": {},
   "source": [
    "---\n",
    "permalink: \"/r/gslvmk3\"\n",
    "title: GLSV Mk. 3\n",
    "layout: default\n",
    "---"
   ]
  },
  {
   "cell_type": "code",
   "execution_count": 4,
   "id": "633af11a-448a-4f76-9402-aa7a76506ac4",
   "metadata": {},
   "outputs": [
    {
     "name": "stdout",
     "output_type": "stream",
     "text": [
      "Număr total de lansări GSLV Mk. III: 0\n",
      "Număr de eșecuri GSLV Mk. III: 0\n",
      "Rată de succes GSLV Mk. III: 100.00%\n",
      "\n",
      "Lista lansărilor orbitale pentru racheta GSLV Mk. III\n",
      "\n",
      "\n",
      "| ID   | Dată (UTC)   | Lansator   | Serie   | Satelit (misiune)   | Or   | Centru   | R   |\n",
      "|------|--------------|------------|---------|---------------------|------|----------|-----|\n"
     ]
    }
   ],
   "source": [
    "%store -r gslvmk3\n",
    "print(gslvmk3[0])\n",
    "print(gslvmk3[1])"
   ]
  },
  {
   "cell_type": "code",
   "execution_count": null,
   "id": "edbd0158-ad43-42ec-bc3e-18f3134e8f15",
   "metadata": {},
   "outputs": [],
   "source": []
  }
 ],
 "metadata": {
  "kernelspec": {
   "display_name": "Python 3 (ipykernel)",
   "language": "python",
   "name": "python3"
  },
  "language_info": {
   "codemirror_mode": {
    "name": "ipython",
    "version": 3
   },
   "file_extension": ".py",
   "mimetype": "text/x-python",
   "name": "python",
   "nbconvert_exporter": "python",
   "pygments_lexer": "ipython3",
   "version": "3.10.8"
  }
 },
 "nbformat": 4,
 "nbformat_minor": 5
}
