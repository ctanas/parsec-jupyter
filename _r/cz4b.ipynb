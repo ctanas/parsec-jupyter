{
 "cells": [
  {
   "cell_type": "markdown",
   "id": "78585a35-fed7-41e7-9e2d-abc3d48ccd21",
   "metadata": {},
   "source": [
    "---\n",
    "permalink: \"/r/cz4b\"\n",
    "title: Chang Zheng 4B\n",
    "layout: default\n",
    "---"
   ]
  },
  {
   "cell_type": "code",
   "execution_count": 1,
   "id": "633af11a-448a-4f76-9402-aa7a76506ac4",
   "metadata": {},
   "outputs": [
    {
     "name": "stdout",
     "output_type": "stream",
     "text": [
      "Număr total de lansări Chang Zheng 4B: 46\n",
      "Număr de eșecuri Chang Zheng 4B: 1\n",
      "Rată de succes Chang Zheng 4B: 97.83%\n",
      "Număr de lansări reușite de la ultimul eșec: 27\n",
      "\n",
      "Lista lansărilor orbitale pentru racheta Chang Zheng 4B\n",
      "+----------+-----------------+----------------+--------+--------------------------------------------+----+------------+---+\n",
      "| ID       | Date            | Rocket         | Series | Sat * Mission                              | Or | LSite      | R |\n",
      "+----------+-----------------+----------------+--------+--------------------------------------------+----+------------+---+\n",
      "| 1999-025 | 1999-05-10 0133 | Chang Zheng 4B | Y2     | FY-1C/SJ-5 (Feng Yun Yi Beng)              | CN | TYSC*LC7   | S |\n",
      "| 1999-057 | 1999-10-14 0315 | Chang Zheng 4B | Y1     | ZY-1/SACI-1 (ZY-1/CBERS 1)                 | CN | TYSC*LC7   | S |\n",
      "| 2000-050 | 2000-09-01 0325 | Chang Zheng 4B | Y3     | ZY-2 (ziyuan erhao 01 xing)                | CN | TYSC*LC7   | S |\n",
      "| 2002-024 | 2002-05-15 0150 | Chang Zheng 4B | Y5     | FY-1D/HY-1 (haiyang yihao A)               | CN | TYSC*LC7   | S |\n",
      "| 2002-049 | 2002-10-27 0317 | Chang Zheng 4B | Y6     | ZY-2 (ziyuan erhao 02 xing)                | CN | TYSC*LC7   | S |\n",
      "| 2003-049 | 2003-10-21 0316 | Chang Zheng 4B | Y4     | CBERS-2 (ZY-1-2)                           | CN | TYSC*LC7   | S |\n",
      "| 2004-035 | 2004-09-08 2314 | Chang Zheng 4B | Y7     | SJ-6A/SJ-6B (shijian liuhao B xing)        | CN | TYSC*LC7   | S |\n",
      "| 2004-044 | 2004-11-06 0310 | Chang Zheng 4B | Y8     | ZY-2C (ziyuan erhao 03 xing)               | CN | TYSC*LC7   | S |\n",
      "| 2006-046 | 2006-10-23 2334 | Chang Zheng 4B | Y16    | SJ-6-2A/SJ-6-2B (shijian liuhao er zu B x) | CN | TYSC*LC7   | S |\n",
      "| 2007-042 | 2007-09-19 0326 | Chang Zheng 4B | Y17    | CBERS-2B (ziyuan yihao 02B weixing)        | CN | TYSC*LC7   | S |\n",
      "| 2008-053 | 2008-10-25 0115 | Chang Zheng 4B | Y22    | SJ-6-3A/SJ-6-3B (shijian liuhao san zu B)  | CN | TYSC*LC9   | S |\n",
      "| 2008-064 | 2008-12-15 0322 | Chang Zheng 4B | Y20    | Yaogan 5 (yaogan weixing wuhao)            | CN | TYSC*LC9   | S |\n",
      "| 2010-051 | 2010-10-06 0049 | Chang Zheng 4B | Y23    | SJ-6-4A/B (shijian liuhao 4 zu B xi)       | CN | TYSC*LC9   | S |\n",
      "| 2011-043 | 2011-08-15 2257 | Chang Zheng 4B | Y14    | Haiyang-2 (Haiyang er hao)                 | CN | TYSC*LC9   | S |\n",
      "| 2011-066 | 2011-11-09 0321 | Chang Zheng 4B | Y21    | Yaogan 12 (tianxun yihao)                  | CN | TYSC*LC9   | S |\n",
      "| 2011-079 | 2011-12-22 0326 | Chang Zheng 4B | Y15    | ZY-1 02C (ziyuan yihao 02C weixing)        | CN | TYSC*LC9   | S |\n",
      "| 2012-001 | 2012-01-09 0317 | Chang Zheng 4B | Y26    | ZY-3 (ziyuan san hao)                      | CN | TYSC*LC9   | S |\n",
      "| 2012-021 | 2012-05-10 0706 | Chang Zheng 4B | Y12    | Yaogan 14 (yaogan weixing shisi hao)       | CN | TYSC*LC9   | S |\n",
      "| 2013-057 | 2013-10-25 0350 | Chang Zheng 4B | Y25    | SJ-16                                      | CN | JQ*LC603   | S |\n",
      "| 2013-F03 | 2013-12-09 0326 | Chang Zheng 4B | Y10    | CBERS 3                                    | CN | TYSC*LC9   | F |\n",
      "| 2014-049 | 2014-08-19 0315 | Chang Zheng 4B | Y27    | Gaofen 2 (GF-2)                            | CN | TYSC*LC9   | S |\n",
      "| 2014-053 | 2014-09-08 0322 | Chang Zheng 4B | Y28    | Yaogan 21 (YG-21/TT-1 No. 2)               | CN | TYSC*LC9   | S |\n",
      "| 2014-079 | 2014-12-07 0326 | Chang Zheng 4B | Y32    | CBERS 4 (ZY1-4)                            | CN | TYSC*LC9   | S |\n",
      "| 2014-088 | 2014-12-27 0322 | Chang Zheng 4B | Y29    | Yaogan 26 (YG-26)                          | CN | TYSC*LC9   | S |\n",
      "| 2015-030 | 2015-06-26 0622 | Chang Zheng 4B | Y30    | Gaofen 8 (GF-8)                            | CN | TYSC*LC9   | S |\n",
      "| 2015-064 | 2015-11-08 0706 | Chang Zheng 4B | Y24    | Yaogan 28 (YG-28)                          | CN | TYSC*LC9   | S |\n",
      "| 2016-033 | 2016-05-30 0317 | Chang Zheng 4B | Y33    | Ziyuan-3 02 (ZY-3-02/Nusat-1,2)            | CN | TYSC*LC9   | S |\n",
      "| 2016-043 | 2016-06-29 0321 | Chang Zheng 4B | Y35    | SJ-16-02                                   | CN | JQ*LC603   | S |\n",
      "| 2017-034 | 2017-06-15 0300 | Chang Zheng 4B | Y31    | Huiyan (HXMT)                              | CN | JQ*LC603   | S |\n",
      "| 2018-063 | 2018-07-31 0300 | Chang Zheng 4B | Y37    | Gao Fen 11                                 | CN | TYSC*LC9   | S |\n",
      "| 2018-081 | 2018-10-24 2257 | Chang Zheng 4B | Y34    | Haiyang 2B                                 | CN | TYSC*LC9   | S |\n",
      "| 2019-024 | 2019-04-29 2252 | Chang Zheng 4B | Y36    | Tianhui-2 01 zu                            | CN | TYSC*LC9   | S |\n",
      "| 2019-059 | 2019-09-12 0326 | Chang Zheng 4B | Y39    | ZY1-02D                                    | CN | TYSC*LC9   | S |\n",
      "| 2019-072 | 2019-11-03 0322 | Chang Zheng 4B | Y38    | GaoFen 7 (GaoFen  7)                       | CN | TYSC*LC9   | S |\n",
      "| 2019-093 | 2019-12-20 0322 | Chang Zheng 4B | Y44    | CBERS-4A                                   | CN | TYSC*LC9   | S |\n",
      "| 2020-042 | 2020-07-03 0310 | Chang Zheng 4B | Y43    | Gao Fen Duomo                              | CN | TYSC*LC9   | S |\n",
      "| 2020-051 | 2020-07-25 0313 | Chang Zheng 4B | Y45    | ZY3-3                                      | CN | TYSC*LC9   | S |\n",
      "| 2020-064 | 2020-09-07 0557 | Chang Zheng 4B | Y46    | Gao Fen 11-02                              | CN | TYSC*LC9   | S |\n",
      "| 2020-066 | 2020-09-21 0540 | Chang Zheng 4B | Y41    | Hai Yang 2-03 (HY-2C)                      | CN | JQ*LC43/94 | S |\n",
      "| 2020-067 | 2020-09-27 0323 | Chang Zheng 4B | Y42    | Huanjing Jianzai 02A/B (HJ-2A/B)           | CN | TYSC*LC9   | S |\n",
      "| 2021-028 | 2021-04-08 2301 | Chang Zheng 4B | Y49    | Shiyan 6 03 (SW6-03)                       | CN | TYSC*LC9   | S |\n",
      "| 2021-043 | 2021-05-19 0403 | Chang Zheng 4B | Y48    | Hai Yang 2-04 (HY-2D)                      | CN | JQ*LC43/94 | S |\n",
      "| 2021-074 | 2021-08-18 2232 | Chang Zheng 4B | Y50    | Tianhui-2 02 zu (Tianhui 2-02)             | CN | TYSC*LC9   | S |\n",
      "| 2021-107 | 2021-11-20 0151 | Chang Zheng 4B | Y52    | Gao Fen 11-03                              | CN | TYSC*LC9   | S |\n",
      "| 2021-122 | 2021-12-10 0011 | Chang Zheng 4B | Y47    | SJ6 05 zu (SJ6-05)                         | CN | JQ*LC43/94 | S |\n",
      "| 2022-090 | 2022-08-04 0308 | Chang Zheng 4B | Y40    | Guomang                                    | CN | TYSC*LC9   | S |\n",
      "+----------+-----------------+----------------+--------+--------------------------------------------+----+------------+---+\n",
      "\n"
     ]
    }
   ],
   "source": [
    "%store -r cz4b\n",
    "print(cz4b)"
   ]
  },
  {
   "cell_type": "code",
   "execution_count": null,
   "id": "c1adf7a3-da9b-4c08-b439-23b8b2fe0824",
   "metadata": {},
   "outputs": [],
   "source": []
  },
  {
   "cell_type": "code",
   "execution_count": null,
   "id": "e8d50d07-f8ca-457b-88e1-9a06b4b209b6",
   "metadata": {},
   "outputs": [],
   "source": []
  }
 ],
 "metadata": {
  "kernelspec": {
   "display_name": "Python 3 (ipykernel)",
   "language": "python",
   "name": "python3"
  },
  "language_info": {
   "codemirror_mode": {
    "name": "ipython",
    "version": 3
   },
   "file_extension": ".py",
   "mimetype": "text/x-python",
   "name": "python",
   "nbconvert_exporter": "python",
   "pygments_lexer": "ipython3",
   "version": "3.10.8"
  }
 },
 "nbformat": 4,
 "nbformat_minor": 5
}
