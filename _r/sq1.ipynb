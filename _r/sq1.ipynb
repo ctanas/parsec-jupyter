{
 "cells": [
  {
   "cell_type": "markdown",
   "id": "c657a140-f776-4e0a-b68d-a968ab5b2fc2",
   "metadata": {},
   "source": [
    "---\n",
    "permalink: \"/r/sq1\"\n",
    "title: Shuang Quxian 1 (Hyperbola-1)\n",
    "layout: default\n",
    "---"
   ]
  },
  {
   "cell_type": "code",
   "execution_count": 1,
   "id": "633af11a-448a-4f76-9402-aa7a76506ac4",
   "metadata": {},
   "outputs": [
    {
     "name": "stdout",
     "output_type": "stream",
     "text": [
      "Număr total de lansări Shuang Quxian: 4\n",
      "Număr de eșecuri Shuang Quxian: 3\n",
      "Rată de succes Shuang Quxian: 25.00%\n",
      "Număr de lansări reușite de la ultimul eșec: 1\n",
      "\n",
      "Lista lansărilor orbitale pentru racheta Shuang Quxian\n",
      "+----------+-----------------+-----------------+--------+-------------------------+----+-------------+---+\n",
      "| ID       | Date            | Rocket          | Series | Sat * Mission           | Or | LSite       | R |\n",
      "+----------+-----------------+-----------------+--------+-------------------------+----+-------------+---+\n",
      "| 2019-043 | 2019-07-25 0500 | Shuang Quxian 1 | Y1     | CAS-7B (-)              | CN | JQ*-        | S |\n",
      "| 2021-F01 | 2021-02-01 0815 | Shuang Quxian 1 | Y2     | Tianshu (-)             | CN | JQ*LC43/95  | F |\n",
      "| 2021-F05 | 2021-08-03 0739 | Shuang Quxian 1 | Y5     | Jilin-1 Mofang 1A (-)   | CN | JQ*LC43/95B | F |\n",
      "| 2022-F02 | 2022-05-13 0709 | Shuang Quxian 1 | Y4     | Jilin-1 Mofang 1A/R (-) | CN | JQ*LC43/95B | F |\n",
      "+----------+-----------------+-----------------+--------+-------------------------+----+-------------+---+\n",
      "\n"
     ]
    }
   ],
   "source": [
    "%store -r sq1\n",
    "print(sq1[0])\n",
    "print(sq1[1])"
   ]
  },
  {
   "cell_type": "code",
   "execution_count": null,
   "id": "c1adf7a3-da9b-4c08-b439-23b8b2fe0824",
   "metadata": {},
   "outputs": [],
   "source": []
  },
  {
   "cell_type": "code",
   "execution_count": null,
   "id": "e8d50d07-f8ca-457b-88e1-9a06b4b209b6",
   "metadata": {},
   "outputs": [],
   "source": []
  }
 ],
 "metadata": {
  "kernelspec": {
   "display_name": "Python 3 (ipykernel)",
   "language": "python",
   "name": "python3"
  },
  "language_info": {
   "codemirror_mode": {
    "name": "ipython",
    "version": 3
   },
   "file_extension": ".py",
   "mimetype": "text/x-python",
   "name": "python",
   "nbconvert_exporter": "python",
   "pygments_lexer": "ipython3",
   "version": "3.9.13"
  }
 },
 "nbformat": 4,
 "nbformat_minor": 5
}
