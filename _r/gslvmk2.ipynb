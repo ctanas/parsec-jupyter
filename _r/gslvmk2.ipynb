{
 "cells": [
  {
   "cell_type": "markdown",
   "id": "512dff2b-ffee-4e73-9636-d6aeae6d18cc",
   "metadata": {},
   "source": [
    "---\n",
    "permalink: \"/r/gslvmk2\"\n",
    "title: GSLV Mk. 2\n",
    "layout: default\n",
    "---"
   ]
  },
  {
   "cell_type": "code",
   "execution_count": 5,
   "id": "633af11a-448a-4f76-9402-aa7a76506ac4",
   "metadata": {},
   "outputs": [
    {
     "name": "stdout",
     "output_type": "stream",
     "text": [
      "Până în prezent, racheta GSLV Mk. 2 a fost lansată de 8 ori.\n",
      "Dintre acestea, racheta GSLV Mk. 2 a avut parte de 2 eșecuri.\n",
      "Rată de succes a rachetei GSLV Mk. 2 este de 75.00%.\n",
      "Număr de lansări reușite de la ultimul eșec: 0\n",
      "\n",
      "Lista lansărilor orbitale pentru racheta GSLV Mk. 2:\n",
      "\n",
      "\n",
      "| ID       | Dată (UTC)      | Lansator   | Serie    | Satelit (misiune)   | Or   | Centru   | R   |\n",
      "|:---------|:----------------|:-----------|:---------|:--------------------|:-----|:---------|:----|\n",
      "| 2010-F01 | 2010-04-15 1057 | GSLV Mk. 2 | GSLV-D3  | GSAT-4              | IN   | SHAR+SLP | F   |\n",
      "| 2014-001 | 2014-01-05 1048 | GSLV Mk. 2 | GSLV-D5  | GSAT-14             | IN   | SHAR+SLP | S   |\n",
      "| 2015-041 | 2015-08-27 1122 | GSLV Mk. 2 | GSLV-D6  | GSAT-6              | IN   | SHAR+SLP | S   |\n",
      "| 2016-054 | 2016-09-08 1120 | GSLV Mk. 2 | GSLV-F05 | Insat-3DR           | IN   | SHAR+SLP | S   |\n",
      "| 2017-024 | 2017-05-05 1127 | GSLV Mk. 2 | GSLV-F09 | GSAT-9              | IN   | SHAR+SLP | S   |\n",
      "| 2018-027 | 2018-03-29 1126 | GSLV Mk. 2 | GSLV-F08 | GSAT-6A             | IN   | SHAR+SLP | S   |\n",
      "| 2018-105 | 2018-12-19 1040 | GSLV Mk. 2 | GSLV-F11 | GSAT-7A             | IN   | SHAR+SLP | S   |\n",
      "| 2021-F06 | 2021-08-12 0013 | GSLV Mk. 2 | GLSV-F10 | EOS-03 (GISAT-1)    | IN   | SHAR+SLP | F   |\n"
     ]
    }
   ],
   "source": [
    "%store -r gslvmk2\n",
    "print(gslvmk2[0])\n",
    "print(gslvmk2[1])"
   ]
  },
  {
   "cell_type": "code",
   "execution_count": null,
   "id": "c1adf7a3-da9b-4c08-b439-23b8b2fe0824",
   "metadata": {},
   "outputs": [],
   "source": []
  },
  {
   "cell_type": "code",
   "execution_count": null,
   "id": "e8d50d07-f8ca-457b-88e1-9a06b4b209b6",
   "metadata": {},
   "outputs": [],
   "source": []
  }
 ],
 "metadata": {
  "kernelspec": {
   "display_name": "Python 3 (ipykernel)",
   "language": "python",
   "name": "python3"
  },
  "language_info": {
   "codemirror_mode": {
    "name": "ipython",
    "version": 3
   },
   "file_extension": ".py",
   "mimetype": "text/x-python",
   "name": "python",
   "nbconvert_exporter": "python",
   "pygments_lexer": "ipython3",
   "version": "3.10.8"
  }
 },
 "nbformat": 4,
 "nbformat_minor": 5
}
