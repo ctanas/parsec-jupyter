{
 "cells": [
  {
   "cell_type": "markdown",
   "id": "1bd24eaa-2074-498b-99d2-d1d796fd0eb8",
   "metadata": {},
   "source": [
    "---\n",
    "permalink: \"/r/kz1a\"\n",
    "title: Kuaizhou-1A\n",
    "layout: default\n",
    "---"
   ]
  },
  {
   "cell_type": "code",
   "execution_count": 1,
   "id": "633af11a-448a-4f76-9402-aa7a76506ac4",
   "metadata": {},
   "outputs": [
    {
     "name": "stdout",
     "output_type": "stream",
     "text": [
      "Număr total de lansări Kuaizhou-1A: 18\n",
      "Număr de eșecuri Kuaizhou-1A: 2\n",
      "Rată de succes Kuaizhou-1A: 88.89%\n",
      "Număr de lansări reușite de la ultimul eșec: 5\n",
      "\n",
      "Lista lansărilor orbitale pentru racheta Kuaizhou-1A\n",
      "+----------+-----------------+-------------+--------+-----------------------------+----+--------------+---+\n",
      "| ID       | Date            | Rocket      | Series | Sat * Mission               | Or | LSite        | R |\n",
      "+----------+-----------------+-------------+--------+-----------------------------+----+--------------+---+\n",
      "| 2017-002 | 2017-01-09 0411 | Kuaizhou-1A | Y1     | Jilin-1 Shipin 03 (Jilin-1) | CN | JQ*LC43/95   | S |\n",
      "| 2018-075 | 2018-09-29 0413 | Kuaizhou-1A | Y8     | Centispace-1-1S             | CN | JQ*LC43/95   | S |\n",
      "| 2019-058 | 2019-08-30 2341 | Kuaizhou-1A | Y10    | KX-09 (-)                   | CN | JQ*LC43/95   | S |\n",
      "| 2019-075 | 2019-11-13 0340 | Kuaizhou-1A | Y11    | Jilin-1 Gaofen 02A (-)      | CN | JQ*LC43/95   | S |\n",
      "| 2019-077 | 2019-11-17 1000 | Kuaizhou-1A | Y7     | KL-Alpha-A/B (-)            | CN | JQ*LC43/95   | S |\n",
      "| 2019-086 | 2019-12-07 0255 | Kuaizhou-1A | Y2     | Jilin-1 Gaofen 02B (-)      | CN | TYSC*-       | S |\n",
      "| 2019-087 | 2019-12-07 0852 | Kuaizhou-1A | Y12    | HEAD/Tianqi (-)             | CN | TYSC*-       | S |\n",
      "| 2020-004 | 2020-01-16 0302 | Kuaizhou-1A | Y9     | Yinhe 1 (-)                 | CN | JQ*LC43/95   | S |\n",
      "| 2020-028 | 2020-05-12 0116 | Kuaizhou-1A | Y6     | Xingyun 2-01,02 (-)         | CN | JQ*LC43/95   | S |\n",
      "| 2020-F08 | 2020-09-12 0502 | Kuaizhou-1A | Y3     | Jilin-1 Gaofen 02C (-)      | CN | JQ*LC43/95   | F |\n",
      "| 2021-086 | 2021-09-27 0619 | Kuaizhou-1A | Y4     | Jilin-1 Gaofen 02D (-)      | CN | JQ*LC43/95A? | S |\n",
      "| 2021-097 | 2021-10-27 0619 | Kuaizhou-1A | Y5     | Jilin-1 Gaofen 02F (-)      | CN | JQ*LC43/95?  | S |\n",
      "| 2021-112 | 2021-11-24 2341 | Kuaizhou-1A | Y13    | Shiyan 11 (-)               | CN | JQ*LC43/95?  | S |\n",
      "| 2021-F10 | 2021-12-15 0200 | Kuaizhou-1A | Y17    | GeeSat-1A/1B (-)            | CN | JQ*LC43/95   | F |\n",
      "| 2022-066 | 2022-06-22 0208 | Kuaizhou-1A | Y23    | Tianxing-1 (-)              | CN | JQ*LC43/95   | S |\n",
      "| 2022-102 | 2022-08-23 0236 | Kuaizhou-1A | Y15    | Chuangxin-16A/B (-)         | CN | XSC*-        | S |\n",
      "| 2022-108 | 2022-09-06 0224 | Kuaizhou-1A | Y16    | Centispace S3/S4 (-)        | CN | JQ*-         | S |\n",
      "| 2022-118 | 2022-09-24 2255 | Kuaizhou-1A | Y14    | Shiyan 14/15 (-)            | CN | TYSC*-       | S |\n",
      "+----------+-----------------+-------------+--------+-----------------------------+----+--------------+---+\n",
      "\n"
     ]
    }
   ],
   "source": [
    "%store -r kz1a\n",
    "print(kz1a)"
   ]
  },
  {
   "cell_type": "code",
   "execution_count": null,
   "id": "4bda4443-8e37-4fa4-8b22-5917585c2c54",
   "metadata": {},
   "outputs": [],
   "source": []
  }
 ],
 "metadata": {
  "kernelspec": {
   "display_name": "Python 3 (ipykernel)",
   "language": "python",
   "name": "python3"
  },
  "language_info": {
   "codemirror_mode": {
    "name": "ipython",
    "version": 3
   },
   "file_extension": ".py",
   "mimetype": "text/x-python",
   "name": "python",
   "nbconvert_exporter": "python",
   "pygments_lexer": "ipython3",
   "version": "3.10.8"
  }
 },
 "nbformat": 4,
 "nbformat_minor": 5
}
