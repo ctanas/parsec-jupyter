{
 "cells": [
  {
   "cell_type": "code",
   "execution_count": 1,
   "id": "633af11a-448a-4f76-9402-aa7a76506ac4",
   "metadata": {},
   "outputs": [
    {
     "name": "stdout",
     "output_type": "stream",
     "text": [
      "Număr total de lansări Chang Zheng 6: 11\n",
      "Număr de eșecuri Chang Zheng 6: 0\n",
      "Rată de succes Chang Zheng 6: 100.00%\n",
      "\n",
      "Lista lansărilor orbitale pentru racheta Chang Zheng 6\n",
      "+----------+-----------------+----------------+--------+-----------------------------------+----+-----------+---+\n",
      "| ID       | Date            | Rocket         | Series | Sat * Mission                     | Or | LSite     | R |\n",
      "+----------+-----------------+----------------+--------+-----------------------------------+----+-----------+---+\n",
      "| 2015-049 | 2015-09-19 2301 | Chang Zheng 6  | Y1     | Cluster (-)                       | CN | TYSC*LC16 | S |\n",
      "| 2017-074 | 2017-11-21 0450 | Chang Zheng 6  | Y2     | Jilin-1 04-06 (-)                 | CN | TYSC*LC16 | S |\n",
      "| 2019-076 | 2019-11-13 0635 | Chang Zheng 6  | Y4     | Ningxia-1                         | CN | TYSC*LC16 | S |\n",
      "| 2020-079 | 2020-11-06 0319 | Chang Zheng 6  | Y3     | Nusat 9-18                        | CN | TYSC*LC16 | S |\n",
      "| 2021-033 | 2021-04-27 0320 | Chang Zheng 6  | Y5     | Qilu-1/4                          | CN | TYSC*LC16 | S |\n",
      "| 2021-064 | 2021-07-09 1159 | Chang Zheng 6  | Y6     | Zhongzi xinguo 02 zu (Zhongzi 02) | CN | TYSC*LC16 | S |\n",
      "| 2021-070 | 2021-08-04 1101 | Chang Zheng 6  | Y7     | KL-Beta A,B (KL-Beta)             | CN | TYSC*LC16 | S |\n",
      "| 2021-100 | 2021-11-05 0219 | Chang Zheng 6  | Y8     | Guangmu (CASEarth) (SDGSAT-1)     | CN | TYSC*LC16 | S |\n",
      "| 2022-031 | 2022-03-29 0950 | Chang Zheng 6A | Y1     | TK-2/PJ-2                         | CN | TYSC*LC9A | S |\n",
      "| 2022-098 | 2022-08-10 0450 | Chang Zheng 6  | Y10    | Jilin-1                           | CN | TYSC*LC9  | S |\n",
      "| 2022-121 | 2022-09-26 2350 | Chang Zheng 6  | Y9     | Shiyan 16AB/17                    | CN | TYSC*LC16 | S |\n",
      "+----------+-----------------+----------------+--------+-----------------------------------+----+-----------+---+\n",
      "\n"
     ]
    }
   ],
   "source": [
    "%store -r cz6\n",
    "print(cz6)"
   ]
  },
  {
   "cell_type": "code",
   "execution_count": null,
   "id": "c1adf7a3-da9b-4c08-b439-23b8b2fe0824",
   "metadata": {},
   "outputs": [],
   "source": []
  },
  {
   "cell_type": "code",
   "execution_count": null,
   "id": "e8d50d07-f8ca-457b-88e1-9a06b4b209b6",
   "metadata": {},
   "outputs": [],
   "source": []
  }
 ],
 "metadata": {
  "kernelspec": {
   "display_name": "Python 3 (ipykernel)",
   "language": "python",
   "name": "python3"
  },
  "language_info": {
   "codemirror_mode": {
    "name": "ipython",
    "version": 3
   },
   "file_extension": ".py",
   "mimetype": "text/x-python",
   "name": "python",
   "nbconvert_exporter": "python",
   "pygments_lexer": "ipython3",
   "version": "3.9.13"
  }
 },
 "nbformat": 4,
 "nbformat_minor": 5
}
