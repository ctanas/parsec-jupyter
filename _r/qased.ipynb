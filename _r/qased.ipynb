{
 "cells": [
  {
   "cell_type": "markdown",
   "id": "10755192-4021-4052-9b85-f884312cbcd7",
   "metadata": {},
   "source": [
    "---\n",
    "permalink: \"/r/qased\"\n",
    "title: Qased\n",
    "layout: default\n",
    "---"
   ]
  },
  {
   "cell_type": "code",
   "execution_count": 1,
   "id": "633af11a-448a-4f76-9402-aa7a76506ac4",
   "metadata": {},
   "outputs": [
    {
     "name": "stdout",
     "output_type": "stream",
     "text": [
      "Număr total de lansări Qased: 2\n",
      "Număr de eșecuri Qased: 0\n",
      "Rată de succes Qased: 100.00%\n",
      "\n",
      "Lista lansărilor orbitale pentru racheta Qased\n",
      "+----------+------------------+--------+--------+---------------+----+-----------+---+\n",
      "| ID       | Date             | Rocket | Series | Sat * Mission | Or | LSite     | R |\n",
      "+----------+------------------+--------+--------+---------------+----+-----------+---+\n",
      "| 2020-024 | 2020-04-22 0358  | Qased  | FTM-C2 | Noor 1 (-)    | IR | SHAHR*LP1 | S |\n",
      "| 2022-024 | 2022-03-08 0506? | Qased  | OM-C2  | Noor 2 (-)    | IR | SHAHR*LP1 | S |\n",
      "+----------+------------------+--------+--------+---------------+----+-----------+---+\n",
      "\n"
     ]
    }
   ],
   "source": [
    "%store -r qased\n",
    "print(qased[0])\n",
    "print(qased[1])"
   ]
  }
 ],
 "metadata": {
  "kernelspec": {
   "display_name": "Python 3 (ipykernel)",
   "language": "python",
   "name": "python3"
  },
  "language_info": {
   "codemirror_mode": {
    "name": "ipython",
    "version": 3
   },
   "file_extension": ".py",
   "mimetype": "text/x-python",
   "name": "python",
   "nbconvert_exporter": "python",
   "pygments_lexer": "ipython3",
   "version": "3.9.13"
  }
 },
 "nbformat": 4,
 "nbformat_minor": 5
}
