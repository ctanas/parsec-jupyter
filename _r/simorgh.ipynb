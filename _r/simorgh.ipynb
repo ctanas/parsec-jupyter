{
 "cells": [
  {
   "cell_type": "code",
   "execution_count": 2,
   "id": "633af11a-448a-4f76-9402-aa7a76506ac4",
   "metadata": {},
   "outputs": [
    {
     "name": "stdout",
     "output_type": "stream",
     "text": [
      "Număr total de lansări Simorgh: 4\n",
      "Număr de eșecuri Simorgh: 4\n",
      "Rată de succes Simorgh: 0.00%\n",
      "Număr de lansări reușite de la ultimul eșec: 0\n",
      "\n",
      "Lista lansărilor orbitale pentru racheta Simorgh\n",
      "+----------+-----------------+---------+------------+---------------------+----+----------+---+\n",
      "| ID       | Date            | Rocket  | Series     | Sat * Mission       | Or | LSite    | R |\n",
      "+----------+-----------------+---------+------------+---------------------+----+----------+---+\n",
      "| 2019-F01 | 2019-01-15 0030 | Simorgh | 3          | Payam (-)           | IR | SEM*IKSC | F |\n",
      "| 2020-F01 | 2020-02-09 1548 | Simorgh | 4 MRS.C001 | Zafar (-)           | IR | SEM*IKSC | F |\n",
      "| 2021-F03 | 2021-06-12      | Simorgh | 5          | Tolou-2? (-)        | IR | SEM*IKSC | F |\n",
      "| 2021-F11 | 2021-12-30 0330 | Simorgh | 6          | Test satellites (-) | IR | SEM*IKSC | F |\n",
      "+----------+-----------------+---------+------------+---------------------+----+----------+---+\n",
      "\n"
     ]
    }
   ],
   "source": [
    "%store -r simorgh\n",
    "print(simorgh)"
   ]
  }
 ],
 "metadata": {
  "kernelspec": {
   "display_name": "Python 3 (ipykernel)",
   "language": "python",
   "name": "python3"
  },
  "language_info": {
   "codemirror_mode": {
    "name": "ipython",
    "version": 3
   },
   "file_extension": ".py",
   "mimetype": "text/x-python",
   "name": "python",
   "nbconvert_exporter": "python",
   "pygments_lexer": "ipython3",
   "version": "3.9.13"
  }
 },
 "nbformat": 4,
 "nbformat_minor": 5
}
