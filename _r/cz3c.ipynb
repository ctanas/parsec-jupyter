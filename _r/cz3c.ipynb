{
 "cells": [
  {
   "cell_type": "markdown",
   "id": "927b7680-9b52-4ab9-9c5e-b75f8583f05b",
   "metadata": {},
   "source": [
    "---\n",
    "permalink: \"/r/cz3c\"\n",
    "title: Chang Zheng 3C\n",
    "layout: default\n",
    "---"
   ]
  },
  {
   "cell_type": "code",
   "execution_count": 1,
   "id": "633af11a-448a-4f76-9402-aa7a76506ac4",
   "metadata": {},
   "outputs": [
    {
     "name": "stdout",
     "output_type": "stream",
     "text": [
      "Număr total de lansări Chang Zheng 3C: 18\n",
      "Număr de eșecuri Chang Zheng 3C: 0\n",
      "Rată de succes Chang Zheng 3C: 100.00%\n",
      "\n",
      "Lista lansărilor orbitale pentru racheta Chang Zheng 3C\n",
      "+----------+-----------------+---------------------+--------+-----------------------------------------+----+----------+---+\n",
      "| ID       | Date            | Rocket              | Series | Sat * Mission                           | Or | LSite    | R |\n",
      "+----------+-----------------+---------------------+--------+-----------------------------------------+----+----------+---+\n",
      "| 2008-019 | 2008-04-25 1535 | Chang Zheng 3C      | Y1?    | Tian Lian 1 (tianlian yihao 01 xing)    | CN | XSC*LC2? | S |\n",
      "| 2009-018 | 2009-04-14 1616 | Chang Zheng 3C      | Y3     | Beidou DW2 (er ke beidou daohang wei)   | CN | XSC*LC2? | S |\n",
      "| 2010-001 | 2010-01-16 1612 | Chang Zheng 3C      | Y2     | Beidou DW 3 (di san ke beidou daohang)  | CN | XSC*LC2  | S |\n",
      "| 2010-024 | 2010-06-02 1553 | Chang Zheng 3C      | Y4     | Beidou DW4 (di si ke beidou daohang)    | CN | XSC*LC2  | S |\n",
      "| 2010-050 | 2010-10-01 1059 | Chang Zheng 3C      | Y7     | Chang'e-2 (chang'e erhao weixing)       | CN | XSC*LC2  | S |\n",
      "| 2010-057 | 2010-10-31 1626 | Chang Zheng 3C      | Y5     | Beidou DW6 (di liu ke beidou daohang)   | CN | XSC*LC2  | S |\n",
      "| 2011-032 | 2011-07-11 1541 | Chang Zheng 3C      | Y8     | Tian Lian 1-02 (tianlian yihao 02 xing) | CN | XSC*LC2  | S |\n",
      "| 2012-008 | 2012-02-24 1612 | Chang Zheng 3C      | Y6     | Beidou DW11 (di shiyi ke beidou d.w.)   | CN | XSC*LC2? | S |\n",
      "| 2012-040 | 2012-07-25 1543 | Chang Zheng 3C      | Y9     | Tian Lian-1-03 (tianlian yihao 03 xing) | CN | XSC*LC2  | S |\n",
      "| 2012-059 | 2012-10-25 1533 | Chang Zheng 3C      | Y10    | Beidou DW16 (di 16 ke beidou d.weixin)  | CN | XSC*LC2  | S |\n",
      "| 2014-065 | 2014-10-23 1800 | Chang Zheng 3C      | Y12    | CE-5T1 (CE5-T1)                         | CN | XSC*LC2  | S |\n",
      "| 2015-019 | 2015-03-30 1352 | Chang Zheng 3C/YZ-1 | Y11    | Beidou DW17 (Beidou I1-S)               | CN | XSC*LC2  | S |\n",
      "| 2016-006 | 2016-02-01 0729 | Chang Zheng 3C/YZ-1 | Y14    | Beidou DW21 (Beidou M3-S)               | CN | XSC*LC2? | S |\n",
      "| 2016-037 | 2016-06-12 1530 | Chang Zheng 3C      | Y15    | Beidou DW23 (Beidou G7)                 | CN | XSC*LC3  | S |\n",
      "| 2016-072 | 2016-11-22 1524 | Chang Zheng 3C      | Y13    | Tian Lian-1 04 (tianlian yihao 04 xing) | CN | XSC*LC2  | S |\n",
      "| 2018-110 | 2018-12-24 1653 | Chang Zheng 3C      | Y17    | TJS 3                                   | CN | XSC*LC3  | S |\n",
      "| 2019-027 | 2019-05-17 1548 | Chang Zheng 3C      | Y16    | Beidou DW45 (Beidou-2 G8)               | CN | XSC*LC2  | S |\n",
      "| 2021-063 | 2021-07-06 1553 | Chang Zheng 3C      | Y18    | Tian Lian 1-05 (TL1-05)                 | CN | XSC*LC2  | S |\n",
      "+----------+-----------------+---------------------+--------+-----------------------------------------+----+----------+---+\n",
      "\n"
     ]
    }
   ],
   "source": [
    "%store -r cz3c\n",
    "print(cz3c)"
   ]
  },
  {
   "cell_type": "code",
   "execution_count": null,
   "id": "c1adf7a3-da9b-4c08-b439-23b8b2fe0824",
   "metadata": {},
   "outputs": [],
   "source": []
  },
  {
   "cell_type": "code",
   "execution_count": null,
   "id": "e8d50d07-f8ca-457b-88e1-9a06b4b209b6",
   "metadata": {},
   "outputs": [],
   "source": []
  }
 ],
 "metadata": {
  "kernelspec": {
   "display_name": "Python 3 (ipykernel)",
   "language": "python",
   "name": "python3"
  },
  "language_info": {
   "codemirror_mode": {
    "name": "ipython",
    "version": 3
   },
   "file_extension": ".py",
   "mimetype": "text/x-python",
   "name": "python",
   "nbconvert_exporter": "python",
   "pygments_lexer": "ipython3",
   "version": "3.10.8"
  }
 },
 "nbformat": 4,
 "nbformat_minor": 5
}
