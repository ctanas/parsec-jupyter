{
 "cells": [
  {
   "cell_type": "markdown",
   "id": "14260ca1-146b-47cf-b461-c5e5ce51ae25",
   "metadata": {},
   "source": [
    "---\n",
    "permalink: \"/r/astra\"\n",
    "title: Astra Rocket\n",
    "layout: default\n",
    "---"
   ]
  },
  {
   "cell_type": "code",
   "execution_count": 1,
   "id": "633af11a-448a-4f76-9402-aa7a76506ac4",
   "metadata": {},
   "outputs": [
    {
     "name": "stdout",
     "output_type": "stream",
     "text": [
      "Număr total de lansări Astra: 7\n",
      "Număr de eșecuri Astra: 5\n",
      "Rată de succes Astra: 28.57%\n",
      "Număr de lansări reușite de la ultimul eșec: 0\n",
      "\n",
      "Lista lansărilor orbitale pentru racheta Astra\n",
      "+----------+-----------------+------------------+--------+----------------------------------+----+-------------+---+\n",
      "| ID       | Dată (UTC)      | Lansator         | Serie  | Satelit (misiune)                | Or | Centru      | R |\n",
      "+----------+-----------------+------------------+--------+----------------------------------+----+-------------+---+\n",
      "| 2020-F07 | 2020-09-12 0319 | Astra Rocket 3.1 | LV0004 | Rocket 3.1 (-)                   | US | PSCA*LP3B   | F |\n",
      "| 2020-F09 | 2020-12-15 2055 | Astra Rocket 3.2 | LV0005 | Rocket 3.2 (-)                   | US | PSCA*LP3B   | F |\n",
      "| 2021-F07 | 2021-08-28 2235 | Astra Rocket 3.3 | LV0006 | Rocket 3.3 (STP-27AD1)           | US | PSCA*LP3B   | F |\n",
      "| 2021-108 | 2021-11-20 0616 | Astra Rocket 3.3 | LV0007 | Rocket 3.3 (STP-27AD2)           | US | PSCA*LP3B   | S |\n",
      "| 2022-F01 | 2022-02-10 2000 | Astra Rocket 3.3 | LV0008 | Rocket 3.3 (VCLS Demo 2)         | US | SPFLA*SLC46 | F |\n",
      "| 2022-026 | 2022-03-15 1622 | Astra Rocket 3.3 | LV0009 | Rocket 3.3 (Spaceflight Astra 1) | US | PSCA*LP3B   | S |\n",
      "| 2022-F03 | 2022-06-12 1743 | Astra Rocket 3.3 | LV0010 | Rocket 3.3 (TROPICS 1)           | US | SPFLA*SLC46 | F |\n",
      "+----------+-----------------+------------------+--------+----------------------------------+----+-------------+---+\n",
      "\n"
     ]
    }
   ],
   "source": [
    "%store -r astra\n",
    "print(astra)"
   ]
  },
  {
   "cell_type": "code",
   "execution_count": null,
   "id": "5e465414-39d4-4706-b26e-73c08a3697f0",
   "metadata": {},
   "outputs": [],
   "source": []
  }
 ],
 "metadata": {
  "kernelspec": {
   "display_name": "Python 3 (ipykernel)",
   "language": "python",
   "name": "python3"
  },
  "language_info": {
   "codemirror_mode": {
    "name": "ipython",
    "version": 3
   },
   "file_extension": ".py",
   "mimetype": "text/x-python",
   "name": "python",
   "nbconvert_exporter": "python",
   "pygments_lexer": "ipython3",
   "version": "3.10.8"
  }
 },
 "nbformat": 4,
 "nbformat_minor": 5
}
