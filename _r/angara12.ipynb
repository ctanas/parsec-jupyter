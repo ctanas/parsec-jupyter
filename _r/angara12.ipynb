{
 "cells": [
  {
   "cell_type": "markdown",
   "id": "ed539647-27f6-4781-8888-a12b35713def",
   "metadata": {},
   "source": [
    "---\n",
    "permalink: \"/r/angara12\"\n",
    "title: Angara-1.2\n",
    "layout: default\n",
    "---"
   ]
  },
  {
   "cell_type": "code",
   "execution_count": 2,
   "id": "633af11a-448a-4f76-9402-aa7a76506ac4",
   "metadata": {},
   "outputs": [
    {
     "name": "stdout",
     "output_type": "stream",
     "text": [
      "Număr total de lansări Angara-1.2: 2\n",
      "Număr de eșecuri Angara-1.2: 0\n",
      "Rată de succes Angara-1.2: 100.00%\n",
      "\n",
      "Lista lansărilor orbitale pentru racheta Angara-1.2\n",
      "\n",
      "\n",
      "| ID       | Dată (UTC)       | Lansator   | Serie     | Satelit (misiune)      | Or   | Centru       | R   |\n",
      "|:---------|:-----------------|:-----------|:----------|:-----------------------|:-----|:-------------|:----|\n",
      "| 2022-044 | 2022 Apr 29 1955 | Angara-1.2 | 71602?/1L | Kosmos-2555 (EO MKA-2) | RU   | GIK-1+LC35/1 | S   |\n",
      "| 2022-135 | 2022 Oct 15 1955 | Angara-1.2 | 71603?/2L | Kosmos-2560 (EO MKA-3) | RU   | GIK-1+LC35/1 | S   |\n"
     ]
    }
   ],
   "source": [
    "%store -r angara12\n",
    "print(angara12[0])\n",
    "print(angara12[1])"
   ]
  },
  {
   "cell_type": "code",
   "execution_count": null,
   "id": "78fdd2bd-0e81-482f-bdb5-223145873be6",
   "metadata": {},
   "outputs": [],
   "source": []
  }
 ],
 "metadata": {
  "kernelspec": {
   "display_name": "Python 3 (ipykernel)",
   "language": "python",
   "name": "python3"
  },
  "language_info": {
   "codemirror_mode": {
    "name": "ipython",
    "version": 3
   },
   "file_extension": ".py",
   "mimetype": "text/x-python",
   "name": "python",
   "nbconvert_exporter": "python",
   "pygments_lexer": "ipython3",
   "version": "3.9.13"
  }
 },
 "nbformat": 4,
 "nbformat_minor": 5
}
