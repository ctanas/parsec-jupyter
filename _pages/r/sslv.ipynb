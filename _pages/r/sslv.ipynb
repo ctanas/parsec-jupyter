{
 "cells": [
  {
   "cell_type": "code",
   "execution_count": 1,
   "id": "633af11a-448a-4f76-9402-aa7a76506ac4",
   "metadata": {},
   "outputs": [
    {
     "name": "stdout",
     "output_type": "stream",
     "text": [
      "Număr total de lansări SSLV: 1\n",
      "Număr de eșecuri SSLV: 1\n",
      "Rată de succes SSLV: 0.00%\n",
      "Număr de lansări reușite de la ultimul eșec: 0\n",
      "\n",
      "Lista lansărilor orbitale pentru racheta SSLV\n",
      "+----------+-----------------+----------+---------+-------------------+----+----------+---+\n",
      "| ID       | Dată (UTC)      | Lansator | Serie   | Satelit (misiune) | Or | Centru   | R |\n",
      "+----------+-----------------+----------+---------+-------------------+----+----------+---+\n",
      "| 2022-F0x | 2022-08-07 0348 | SSLV     | SSLV-D1 | EOS-02            | IN | SHAR*FLP | F |\n",
      "+----------+-----------------+----------+---------+-------------------+----+----------+---+\n",
      "\n"
     ]
    }
   ],
   "source": [
    "%store -r sslv\n",
    "print(sslv)"
   ]
  }
 ],
 "metadata": {
  "kernelspec": {
   "display_name": "Python 3 (ipykernel)",
   "language": "python",
   "name": "python3"
  },
  "language_info": {
   "codemirror_mode": {
    "name": "ipython",
    "version": 3
   },
   "file_extension": ".py",
   "mimetype": "text/x-python",
   "name": "python",
   "nbconvert_exporter": "python",
   "pygments_lexer": "ipython3",
   "version": "3.9.13"
  }
 },
 "nbformat": 4,
 "nbformat_minor": 5
}
