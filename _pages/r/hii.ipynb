{
 "cells": [
  {
   "cell_type": "code",
   "execution_count": 1,
   "id": "633af11a-448a-4f76-9402-aa7a76506ac4",
   "metadata": {},
   "outputs": [
    {
     "name": "stdout",
     "output_type": "stream",
     "text": [
      "Număr total de lansări H-II: 61\n",
      "Număr de eșecuri H-II: 2\n",
      "Rată de succes H-II: 96.72%\n",
      "Număr de lansări reușite de la ultimul eșec: 49\n",
      "\n",
      "Lista lansărilor orbitale pentru racheta H-II\n",
      "+----------+-----------------+------------+-----------+-----------------------------------+----+---------+---+\n",
      "| ID       | Date            | Rocket     | Series    | Sat * Mission                     | Or | LSite   | R |\n",
      "+----------+-----------------+------------+-----------+-----------------------------------+----+---------+---+\n",
      "| 1994-007 | 1994-02-03 2220 | H-II       | H-II-1F   | OREX                              | JP | TNSC*Y  | S |\n",
      "| 1994-056 | 1994-08-28 0750 | H-II       | H-II-2F   | ETS-6/LAPS (ETS-6)                | JP | TNSC*Y  | S |\n",
      "| 1995-011 | 1995-03-18 0801 | H-II       | H-II-3F   | SFU/GMS-5 (SFU)                   | JP | TNSC*Y  | S |\n",
      "| 1996-046 | 1996-08-17 0153 | H-II       | H-II-4F   | ADEOS                             | JP | TNSC*Y  | S |\n",
      "| 1997-074 | 1997-11-27 2127 | H-II       | H-II-6F   | TRMM/ETS-7 (TRMM)                 | JP | TNSC*Y  | S |\n",
      "| 1998-011 | 1998-02-21 0755 | H-II       | H-II-5F   | COMETS                            | JP | TNSC*Y  | S |\n",
      "| 1999-F04 | 1999-11-15 0729 | H-II       | H-II-8F   | MTSAT                             | JP | TNSC*Y  | F |\n",
      "| 2001-038 | 2001-08-29 0700 | H-IIA 202  | H-IIA-1F  | VEP-2/LRE (LRE)                   | JP | TNSC*Y  | S |\n",
      "| 2002-003 | 2002-02-04 0245 | H-IIA 2024 | H-IIA-2F  | VEP-3/MDS-1/DASH (MDS-1)          | JP | TNSC*Y  | S |\n",
      "| 2002-042 | 2002-09-10 0820 | H-IIA 2024 | H-IIA-3F  | USERS/DRTS (USERS SEM)            | JP | TNSC*Y  | S |\n",
      "| 2002-056 | 2002-12-14 0131 | H-IIA 202  | H-IIA-4F  | ADEOS-2                           | JP | TNSC*Y  | S |\n",
      "| 2003-009 | 2003-03-28 0127 | H-IIA 2024 | H-IIA-5F  | IGS O-1/IGS R-1 (IGS Optical-1)   | JP | TNSC*Y  | S |\n",
      "| 2003-F02 | 2003-11-29 0433 | H-IIA 2024 | H-IIA-6F  | IGS O-2a/IGS R-2a (IGS Optical-2) | JP | TNSC*Y  | F |\n",
      "| 2005-006 | 2005-02-26 0925 | H-IIA 2022 | H-IIA-7F  | MTSAT-1R                          | JP | TNSC*Y  | S |\n",
      "| 2006-002 | 2006-01-24 0133 | H-IIA 2022 | H-IIA-8F  | ALOS                              | JP | TNSC*Y  | S |\n",
      "| 2006-004 | 2006-02-18 0627 | H-IIA 2024 | H-IIA-9F  | MTSAT-2                           | JP | TNSC*Y  | S |\n",
      "| 2006-037 | 2006-09-11 0435 | H-IIA 202  | H-IIA-10  | IGS O-2 (IGS Optical-2)           | JP | TNSC*Y  | S |\n",
      "| 2006-059 | 2006-12-18 0632 | H-IIA 204  | H-IIA-11  | ETS-8                             | JP | TNSC*Y  | S |\n",
      "| 2007-005 | 2007-02-24 0441 | H-IIA 2024 | H-IIA-12  | IGS R-2/O-3V (IGS Radar-2)        | JP | TNSC*Y  | S |\n",
      "| 2007-039 | 2007-09-14 0131 | H-IIA 2022 | H-IIA-13  | SELENE                            | JP | TNSC*Y  | S |\n",
      "| 2008-007 | 2008-02-23 0855 | H-IIA 2024 | H-IIA-14  | WINDS                             | JP | TNSC*Y  | S |\n",
      "| 2009-002 | 2009-01-23 0354 | H-IIA 202  | H-IIA-15  | GOSAT                             | JP | TNSC*Y  | S |\n",
      "| 2009-048 | 2009-09-10 1701 | H-IIB      | H-IIB-TF1 | HTV-1 (HTV 1 Gijutso jissho-ki)   | JP | TNSC*Y2 | S |\n",
      "| 2009-066 | 2009-11-28 0121 | H-IIA 202  | H-IIA-16  | IGS O-3 (IGS Optical-3)           | JP | TNSC*Y  | S |\n",
      "| 2010-020 | 2010-05-20 2158 | H-IIA 202  | H-IIA-17  | PLANET-C (K-SAT)                  | JP | TNSC*Y  | S |\n",
      "| 2010-045 | 2010-09-11 1117 | H-IIA 202  | H-IIA-18  | QZSS                              | JP | TNSC*Y  | S |\n",
      "| 2011-003 | 2011-01-22 0537 | H-IIB      | H-IIB-F2  | HTV-2 (HTV 2)                     | JP | TNSC*Y2 | S |\n",
      "| 2011-050 | 2011-09-23 0436 | H-IIA 202  | H-IIA-19  | IGS O-4 (IGS Optical-4)           | JP | TNSC*Y  | S |\n",
      "| 2011-075 | 2011-12-12 0121 | H-IIA 202  | H-IIA-20  | IGS R-3 (IGS Radar-3)             | JP | TNSC*Y  | S |\n",
      "| 2012-025 | 2012-05-17 1639 | H-IIA 202  | H-IIA-21  | GCOM-W1/KOMPSAT-3 (GCOM-W1)       | JP | TNSC*Y  | S |\n",
      "| 2012-038 | 2012-07-21 0206 | H-IIB      | H-IIB-F3  | HTV-3 (HTV 3)                     | JP | TNSC*Y2 | S |\n",
      "| 2013-002 | 2013-01-27 0440 | H-IIA 202  | H-IIA-22  | IGS R-4/Demo (IGS Radar-4)        | JP | TNSC*Y  | S |\n",
      "| 2013-040 | 2013-08-03 1948 | H-IIB      | H-IIB-F4  | HTV-4 (HTV 4)                     | JP | TNSC*Y2 | S |\n",
      "| 2014-009 | 2014-02-27 1837 | H-IIA 202  | H-IIA-23  | GPM-C                             | JP | TNSC*Y  | S |\n",
      "| 2014-029 | 2014-05-24 0305 | H-IIA 202  | H-IIA-24  | ALOS-2                            | JP | TNSC*Y  | S |\n",
      "| 2014-060 | 2014-10-07 0516 | H-IIA 202  | H-IIA-25  | Himawari 8                        | JP | TNSC*Y  | S |\n",
      "| 2014-076 | 2014-12-03 0422 | H-IIA 202  | H-IIA-26  | Hayabusa-2                        | JP | TNSC*Y  | S |\n",
      "| 2015-004 | 2015-02-01 0121 | H-IIA 202  | H-IIA-27  | IGS R-Spare (IGS Radar-Spare)     | JP | TNSC*Y  | S |\n",
      "| 2015-015 | 2015-03-26 0121 | H-IIA 202  | H-IIA-28  | IGS O-5 (IGS Optical-5)           | JP | TNSC*Y  | S |\n",
      "| 2015-038 | 2015-08-19 1150 | H-IIB      | H-IIB-F5  | HTV-5 (HTV 5)                     | JP | TNSC*Y2 | S |\n",
      "| 2015-068 | 2015-11-24 0650 | H-IIA 204  | H-IIA-29  | Telstar 12V                       | JP | TNSC*Y  | S |\n",
      "| 2016-012 | 2016-02-17 0845 | H-IIA 202  | H-IIA-30  | Hitomi (ASTRO-H)                  | JP | TNSC*Y  | S |\n",
      "| 2016-064 | 2016-11-02 0620 | H-IIA 202  | H-IIA-31  | Himawari 9                        | JP | TNSC*Y  | S |\n",
      "| 2016-076 | 2016-12-09 1326 | H-IIB      | H-IIB-F6  | HTV-6 (HTV 6)                     | JP | TNSC*Y2 | S |\n",
      "| 2017-005 | 2017-01-24 0744 | H-IIA 204  | H-IIA-32  | DSN 2                             | JP | TNSC*Y  | S |\n",
      "| 2017-015 | 2017-03-17 0120 | H-IIA 202  | H-IIA-33  | IGS R-5                           | JP | TNSC*Y  | S |\n",
      "| 2017-028 | 2017-06-01 0017 | H-IIA 202  | H-IIA-34  | Michibiki 2 (QZSS 2)              | JP | TNSC*Y  | S |\n",
      "| 2017-048 | 2017-08-19 0529 | H-IIA 204  | H-IIA-35  | Michibiki 3 (QZSS 3)              | JP | TNSC*Y  | S |\n",
      "| 2017-062 | 2017-10-09 2201 | H-IIA 202  | H-IIA-36  | Michibiki 4 (QZSS 4)              | JP | TNSC*Y  | S |\n",
      "| 2017-082 | 2017-12-23 0126 | H-IIA 202  | H-IIA-37  | Shikisai/Tsubame (GCOM-C/SLATGS)  | JP | TNSC*Y  | S |\n",
      "| 2018-021 | 2018-02-27 0434 | H-IIA 202  | H-IIA-38  | IGS O-6                           | JP | TNSC*Y  | S |\n",
      "| 2018-052 | 2018-06-12 0420 | H-IIA 202  | H-IIA-39  | IGS R-6                           | JP | TNSC*Y  | S |\n",
      "| 2018-073 | 2018-09-22 1752 | H-IIB      | H-IIB-F7  | HTV-7 (HTV 7)                     | JP | TNSC*Y2 | S |\n",
      "| 2018-084 | 2018-10-29 0408 | H-IIA 202  | H-IIA-40  | GOSAT-2/Khalifasat                | JP | TNSC*Y  | S |\n",
      "| 2019-062 | 2019-09-24 1605 | H-IIB      | H-IIB-F8  | HTV-8 (HTV 8)                     | JP | TNSC*Y2 | S |\n",
      "| 2020-009 | 2020-02-09 0134 | H-IIA 202  | H-IIA-41  | IGS O-7                           | JP | TNSC*Y  | S |\n",
      "| 2020-030 | 2020-05-20 1731 | H-IIB      | H-IIB-F9  | HTV-9 (HTV 9)                     | JP | TNSC*Y2 | S |\n",
      "| 2020-047 | 2020-07-19 2158 | H-IIA 202  | H-IIA-42  | Al'amal (Hope Probe)              | JP | TNSC*Y  | S |\n",
      "| 2020-089 | 2020-11-29 0725 | H-IIA 202  | H-IIA-43  | DRS-1/ODRS (Deta Chukei Eisei 1)  | JP | TNSC*Y  | S |\n",
      "| 2021-096 | 2021-10-26 0219 | H-IIA 202  | H-IIA-44  | QZS-1R (QZSS 1R)                  | JP | TNSC*Y  | S |\n",
      "| 2021-128 | 2021-12-22 1532 | H-IIA 204  | H-IIA-45  | Inmarsat 6F1                      | JP | TNSC*Y  | S |\n",
      "+----------+-----------------+------------+-----------+-----------------------------------+----+---------+---+\n",
      "\n"
     ]
    }
   ],
   "source": [
    "%store -r hii\n",
    "print(hii)"
   ]
  }
 ],
 "metadata": {
  "kernelspec": {
   "display_name": "Python 3 (ipykernel)",
   "language": "python",
   "name": "python3"
  },
  "language_info": {
   "codemirror_mode": {
    "name": "ipython",
    "version": 3
   },
   "file_extension": ".py",
   "mimetype": "text/x-python",
   "name": "python",
   "nbconvert_exporter": "python",
   "pygments_lexer": "ipython3",
   "version": "3.9.13"
  }
 },
 "nbformat": 4,
 "nbformat_minor": 5
}
