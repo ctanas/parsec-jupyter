{
 "cells": [
  {
   "cell_type": "markdown",
   "id": "ecb026d7-a05a-40b5-8007-47614e881675",
   "metadata": {},
   "source": [
    "---\n",
    "permalink: \"/r/launcherone\"\n",
    "title: Launcher One\n",
    "layout: default\n",
    "---"
   ]
  },
  {
   "cell_type": "code",
   "execution_count": 1,
   "id": "633af11a-448a-4f76-9402-aa7a76506ac4",
   "metadata": {},
   "outputs": [
    {
     "name": "stdout",
     "output_type": "stream",
     "text": [
      "Număr total de lansări LauncherOne: 5\n",
      "Număr de eșecuri LauncherOne: 1\n",
      "Rată de succes LauncherOne: 80.00%\n",
      "Număr de lansări reușite de la ultimul eșec: 4\n",
      "\n",
      "Lista lansărilor orbitale pentru racheta LauncherOne\n",
      "+----------+-----------------+-------------+-------+------------------------------+----+-------------+---+\n",
      "| ID       | Dată (UTC)      | Lansator    | Serie | Satelit (misiune)            | Or | Centru      | R |\n",
      "+----------+-----------------+-------------+-------+------------------------------+----+-------------+---+\n",
      "| 2020-F04 | 2020-05-25 1950 | LauncherOne | R02   | Starshine 4? (-)             | US | MHV*RW12/30 | F |\n",
      "| 2021-002 | 2021-01-17 1938 | LauncherOne | R03   | Elana XX (-)                 | US | MHV*RW12/30 | S |\n",
      "| 2021-058 | 2021-06-30 1447 | LauncherOne | R04   | STP-27VPA (Tubular Bells I)  | US | MHV*RW12/30 | S |\n",
      "| 2022-003 | 2022-01-13 2252 | LauncherOne | R05   | STP-27VPB (Above The Clouds) | US | MHV*RW12/30 | S |\n",
      "| 2022-074 | 2022-07-02 0653 | LauncherOne | R06   | STP-S28A (Straight Up)       | US | MHV*RW12/30 | S |\n",
      "+----------+-----------------+-------------+-------+------------------------------+----+-------------+---+\n",
      "\n"
     ]
    }
   ],
   "source": [
    "%store -r launcherone\n",
    "print(launcherone[0])\n",
    "print(launcherone[1])"
   ]
  },
  {
   "cell_type": "code",
   "execution_count": null,
   "id": "5ebe2c54-2ad6-46a5-902e-38a24cab1b2a",
   "metadata": {},
   "outputs": [],
   "source": []
  }
 ],
 "metadata": {
  "kernelspec": {
   "display_name": "Python 3 (ipykernel)",
   "language": "python",
   "name": "python3"
  },
  "language_info": {
   "codemirror_mode": {
    "name": "ipython",
    "version": 3
   },
   "file_extension": ".py",
   "mimetype": "text/x-python",
   "name": "python",
   "nbconvert_exporter": "python",
   "pygments_lexer": "ipython3",
   "version": "3.9.13"
  }
 },
 "nbformat": 4,
 "nbformat_minor": 5
}
