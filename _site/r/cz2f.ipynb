{
 "cells": [
  {
   "cell_type": "markdown",
   "id": "f0090103-985d-4216-84f3-99458f6d96bf",
   "metadata": {},
   "source": [
    "---\n",
    "permalink: \"/r/cz2f\"\n",
    "title: Chang Zheng 2F\n",
    "layout: default\n",
    "---"
   ]
  },
  {
   "cell_type": "code",
   "execution_count": 1,
   "id": "633af11a-448a-4f76-9402-aa7a76506ac4",
   "metadata": {},
   "outputs": [
    {
     "name": "stdout",
     "output_type": "stream",
     "text": [
      "Număr total de lansări Chang Zheng 2F: 18\n",
      "Număr de eșecuri Chang Zheng 2F: 0\n",
      "Rată de succes Chang Zheng 2F: 100.00%\n",
      "\n",
      "Lista lansărilor orbitale pentru racheta Chang Zheng 2F\n",
      "\n",
      "\n",
      "| ID       | Dată (UTC)        | Lansator         | Serie   | Satelit (misiune)                     | Or   | Centru     | R   |\n",
      "|:---------|:------------------|:-----------------|:--------|:--------------------------------------|:-----|:-----------|:----|\n",
      "| 1999-061 | 1999 Nov 19 2230  | Chang Zheng 2F   | Y1      | Shenzhou (Shenzhou 1 Fanhui Cang)     | CN   | JQ+LC921   | S   |\n",
      "| 2001-001 | 2001 Jan  9 1700  | Chang Zheng 2F   | Y2      | Shenzhou 2 (Shenzhou 2 Fanhui Cang)   | CN   | JQ+LC921   | S   |\n",
      "| 2002-014 | 2002 Mar 25 1415  | Chang Zheng 2F   | Y3      | Shenzhou 3 (Shenzhou 3 Fanhui Cang)   | CN   | JQ+LC921   | S   |\n",
      "| 2002-061 | 2002 Dec 29 1640  | Chang Zheng 2F   | Y4      | Shenzhou 4 (Shenzhou 4 Fanhui Cang)   | CN   | JQ+LC921   | S   |\n",
      "| 2003-045 | 2003 Oct 15 0100  | Chang Zheng 2F   | Y5      | Shenzhou 5 (Shenzhou 5 Fanhui Cang)   | CN   | JQ+LC921   | S   |\n",
      "| 2005-040 | 2005 Oct 12 0100  | Chang Zheng 2F   | Y6      | Shenzhou 6 (Shenzhou 6 Fanhui Cang)   | CN   | JQ+LC921   | S   |\n",
      "| 2008-047 | 2008 Sep 25 1310  | Chang Zheng 2F   | Y7      | Shenzhou 7 (shenzhou qihao fanhui ca) | CN   | JQ+LC921   | S   |\n",
      "| 2011-053 | 2011 Sep 29 1316  | Chang Zheng 2FT1 | Y1?     | Tiangong 1                            | CN   | JQ+LC921   | S   |\n",
      "| 2011-063 | 2011 Oct 31 2158  | Chang Zheng 2F   | Y8      | Shenzhou 8 (shenzhou ba fanhui cang)  | CN   | JQ+LC921   | S   |\n",
      "| 2012-032 | 2012 Jun 16 1037  | Chang Zheng 2F   | Y9      | Shenzhou 9 (shenzhou jiu fanhui cang) | CN   | JQ+LC921   | S   |\n",
      "| 2013-029 | 2013 Jun 11 0938  | Chang Zheng 2F   | Y10     | Shenzhou 10 (-)                       | CN   | JQ+LC921   | S   |\n",
      "| 2016-057 | 2016 Sep 15 1404  | Chang Zheng 2F   | T2      | Tiangong 2                            | CN   | JQ+LC921   | S   |\n",
      "| 2016-061 | 2016 Oct 16 2330  | Chang Zheng 2F   | Y11     | Shenzhou 11                           | CN   | JQ+LC921   | S   |\n",
      "| 2020-063 | 2020 Sep  4 0730? | Chang Zheng 2F   | T3      | CSSHQ                                 | CN   | JQ+LC43/91 | S   |\n",
      "| 2021-053 | 2021 Jun 17 0122  | Chang Zheng 2F   | Y12     | Shenzhou 12                           | CN   | JQ+LC43/91 | S   |\n",
      "| 2021-092 | 2021 Oct 15 1623  | Chang Zheng 2F   | Y13     | Shenzhou 13                           | CN   | JQ+LC43/91 | S   |\n",
      "| 2022-060 | 2022 Jun  5 0244  | Chang Zheng 2F   | Y14     | Shenzhou 14                           | CN   | JQ+LC43/91 | S   |\n",
      "| 2022-093 | 2022 Aug  4 1600? | Chang Zheng 2F   | Y13     | CSSHQ                                 | CN   | JQ+LC43/91 | S   |\n"
     ]
    }
   ],
   "source": [
    "%store -r cz2f\n",
    "print(cz2f[0])\n",
    "print(cz2f[1])"
   ]
  },
  {
   "cell_type": "code",
   "execution_count": null,
   "id": "c1adf7a3-da9b-4c08-b439-23b8b2fe0824",
   "metadata": {},
   "outputs": [],
   "source": []
  },
  {
   "cell_type": "code",
   "execution_count": null,
   "id": "e8d50d07-f8ca-457b-88e1-9a06b4b209b6",
   "metadata": {},
   "outputs": [],
   "source": []
  }
 ],
 "metadata": {
  "kernelspec": {
   "display_name": "Python 3 (ipykernel)",
   "language": "python",
   "name": "python3"
  },
  "language_info": {
   "codemirror_mode": {
    "name": "ipython",
    "version": 3
   },
   "file_extension": ".py",
   "mimetype": "text/x-python",
   "name": "python",
   "nbconvert_exporter": "python",
   "pygments_lexer": "ipython3",
   "version": "3.10.8"
  }
 },
 "nbformat": 4,
 "nbformat_minor": 5
}
