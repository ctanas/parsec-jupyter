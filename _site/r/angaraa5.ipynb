{
 "cells": [
  {
   "cell_type": "markdown",
   "id": "73ab4115-b5e3-4356-bb9c-8290a55298f1",
   "metadata": {},
   "source": [
    "---\n",
    "permalink: \"/r/angaraa5\"\n",
    "title: Angara A5\n",
    "layout: default\n",
    "---"
   ]
  },
  {
   "cell_type": "code",
   "execution_count": 1,
   "id": "633af11a-448a-4f76-9402-aa7a76506ac4",
   "metadata": {},
   "outputs": [
    {
     "name": "stdout",
     "output_type": "stream",
     "text": [
      "Număr total de lansări Angara A5: 3\n",
      "Număr de eșecuri Angara A5: 0\n",
      "Rată de succes Angara A5: 100.00%\n",
      "\n",
      "Lista lansărilor orbitale pentru racheta Angara A5\n",
      "\n",
      "\n",
      "| ID       | Dată (UTC)       | Lansator         | Serie             | Satelit (misiune)   | Or   | Centru       | R   |\n",
      "|:---------|:-----------------|:-----------------|:------------------|:--------------------|:-----|:-------------|:----|\n",
      "| 2014-085 | 2014 Dec 23 0557 | Angara A5        | 71751 (1LM)/88801 | IPM (5A4PP)         | RU   | GIK-1+LC35/1 | S   |\n",
      "| 2020-097 | 2020 Dec 14 0550 | Angara A5        | 71752 (2LM)/88802 | IPM (5A4PP?)        | RU   | GIK-1+LC35/1 | S   |\n",
      "| 2021-133 | 2021 Dec 27 1900 | Angara A5/Persei | 71753 (3L)/1L     | IPN (-)             | RU   | GIK-1+LC35/1 | S   |\n"
     ]
    }
   ],
   "source": [
    "%store -r angaraa5\n",
    "print(angaraa5[0])\n",
    "print(angaraa5[1])"
   ]
  },
  {
   "cell_type": "code",
   "execution_count": null,
   "id": "78fdd2bd-0e81-482f-bdb5-223145873be6",
   "metadata": {},
   "outputs": [],
   "source": []
  }
 ],
 "metadata": {
  "kernelspec": {
   "display_name": "Python 3 (ipykernel)",
   "language": "python",
   "name": "python3"
  },
  "language_info": {
   "codemirror_mode": {
    "name": "ipython",
    "version": 3
   },
   "file_extension": ".py",
   "mimetype": "text/x-python",
   "name": "python",
   "nbconvert_exporter": "python",
   "pygments_lexer": "ipython3",
   "version": "3.9.13"
  }
 },
 "nbformat": 4,
 "nbformat_minor": 5
}
