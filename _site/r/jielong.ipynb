{
 "cells": [
  {
   "cell_type": "markdown",
   "id": "dcaae846-88a4-4a47-8055-2f9a395b1120",
   "metadata": {},
   "source": [
    "---\n",
    "permalink: \"/r/jielong\"\n",
    "title: Jielong\n",
    "layout: default\n",
    "---"
   ]
  },
  {
   "cell_type": "code",
   "execution_count": 1,
   "id": "633af11a-448a-4f76-9402-aa7a76506ac4",
   "metadata": {},
   "outputs": [
    {
     "name": "stdout",
     "output_type": "stream",
     "text": [
      "Număr total de lansări Jielong: 1\n",
      "Număr de eșecuri Jielong: 0\n",
      "Rată de succes Jielong: 100.00%\n",
      "\n",
      "Lista lansărilor orbitale pentru racheta Jielong\n",
      "+----------+-----------------+-----------+--------+---------------+----+-------+---+\n",
      "| ID       | Date            | Rocket    | Series | Sat * Mission | Or | LSite | R |\n",
      "+----------+-----------------+-----------+--------+---------------+----+-------+---+\n",
      "| 2019-052 | 2019-08-17 0411 | Jielong-1 | Y1     | QS1-01 (-)    | CN | JQ*-  | S |\n",
      "+----------+-----------------+-----------+--------+---------------+----+-------+---+\n",
      "\n"
     ]
    }
   ],
   "source": [
    "%store -r jielong\n",
    "print(jielong[0])\n",
    "print(jielong[1])"
   ]
  },
  {
   "cell_type": "code",
   "execution_count": null,
   "id": "c1adf7a3-da9b-4c08-b439-23b8b2fe0824",
   "metadata": {},
   "outputs": [],
   "source": []
  },
  {
   "cell_type": "code",
   "execution_count": null,
   "id": "e8d50d07-f8ca-457b-88e1-9a06b4b209b6",
   "metadata": {},
   "outputs": [],
   "source": []
  }
 ],
 "metadata": {
  "kernelspec": {
   "display_name": "Python 3 (ipykernel)",
   "language": "python",
   "name": "python3"
  },
  "language_info": {
   "codemirror_mode": {
    "name": "ipython",
    "version": 3
   },
   "file_extension": ".py",
   "mimetype": "text/x-python",
   "name": "python",
   "nbconvert_exporter": "python",
   "pygments_lexer": "ipython3",
   "version": "3.9.13"
  }
 },
 "nbformat": 4,
 "nbformat_minor": 5
}
