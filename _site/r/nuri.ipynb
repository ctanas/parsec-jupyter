{
 "cells": [
  {
   "cell_type": "markdown",
   "id": "0a0330e0-7de9-4c6c-b66b-e3ce87b571ef",
   "metadata": {},
   "source": [
    "---\n",
    "permalink: \"/r/nuri\"\n",
    "title: Nuri\n",
    "layout: default\n",
    "---"
   ]
  },
  {
   "cell_type": "code",
   "execution_count": 1,
   "id": "633af11a-448a-4f76-9402-aa7a76506ac4",
   "metadata": {},
   "outputs": [
    {
     "name": "stdout",
     "output_type": "stream",
     "text": [
      "Număr total de lansări Nuri: 2\n",
      "Număr de eșecuri Nuri: 1\n",
      "Rată de succes Nuri: 50.00%\n",
      "Număr de lansări reușite de la ultimul eșec: 1\n",
      "\n",
      "Lista lansărilor orbitale pentru racheta Nuri\n",
      "+----------+-----------------+--------+--------+---------------------+----+----------+---+\n",
      "| ID       | Date            | Rocket | Series | Sat * Mission       | Or | LSite    | R |\n",
      "+----------+-----------------+--------+--------+---------------------+----+----------+---+\n",
      "| 2021-F09 | 2021-10-21 0800 | Nuri   | 1      | Dummy satellite (-) | KR | NARO*LC2 | F |\n",
      "| 2022-065 | 2022-06-21 0700 | Nuri   | 2      | PVSAT (-)           | KR | NARO*LC2 | S |\n",
      "+----------+-----------------+--------+--------+---------------------+----+----------+---+\n",
      "\n"
     ]
    }
   ],
   "source": [
    "%store -r nuri\n",
    "print(nuri[0])\n",
    "print(nuri[1])"
   ]
  }
 ],
 "metadata": {
  "kernelspec": {
   "display_name": "Python 3 (ipykernel)",
   "language": "python",
   "name": "python3"
  },
  "language_info": {
   "codemirror_mode": {
    "name": "ipython",
    "version": 3
   },
   "file_extension": ".py",
   "mimetype": "text/x-python",
   "name": "python",
   "nbconvert_exporter": "python",
   "pygments_lexer": "ipython3",
   "version": "3.9.13"
  }
 },
 "nbformat": 4,
 "nbformat_minor": 5
}
