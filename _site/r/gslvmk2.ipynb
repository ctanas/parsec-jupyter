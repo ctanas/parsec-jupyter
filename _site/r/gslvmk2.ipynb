{
 "cells": [
  {
   "cell_type": "markdown",
   "id": "512dff2b-ffee-4e73-9636-d6aeae6d18cc",
   "metadata": {},
   "source": [
    "---\n",
    "permalink: \"/r/gslvmk2\"\n",
    "title: GSLV Mk. 2\n",
    "layout: default\n",
    "---"
   ]
  },
  {
   "cell_type": "code",
   "execution_count": 2,
   "id": "633af11a-448a-4f76-9402-aa7a76506ac4",
   "metadata": {},
   "outputs": [
    {
     "name": "stdout",
     "output_type": "stream",
     "text": [
      "Număr total de lansări GSLV Mk. II: 0\n",
      "Număr de eșecuri GSLV Mk. II: 0\n",
      "Rată de succes GSLV Mk. II: 100.00%\n",
      "\n",
      "Lista lansărilor orbitale pentru racheta GSLV Mk. II\n",
      "\n",
      "\n",
      "| ID   | Dată (UTC)   | Lansator   | Serie   | Satelit (misiune)   | Or   | Centru   | R   |\n",
      "|------|--------------|------------|---------|---------------------|------|----------|-----|\n"
     ]
    }
   ],
   "source": [
    "%store -r gslvmk2\n",
    "print(gslvmk2[0])\n",
    "print(gslvmk2[1])"
   ]
  },
  {
   "cell_type": "code",
   "execution_count": null,
   "id": "c1adf7a3-da9b-4c08-b439-23b8b2fe0824",
   "metadata": {},
   "outputs": [],
   "source": []
  },
  {
   "cell_type": "code",
   "execution_count": null,
   "id": "e8d50d07-f8ca-457b-88e1-9a06b4b209b6",
   "metadata": {},
   "outputs": [],
   "source": []
  }
 ],
 "metadata": {
  "kernelspec": {
   "display_name": "Python 3 (ipykernel)",
   "language": "python",
   "name": "python3"
  },
  "language_info": {
   "codemirror_mode": {
    "name": "ipython",
    "version": 3
   },
   "file_extension": ".py",
   "mimetype": "text/x-python",
   "name": "python",
   "nbconvert_exporter": "python",
   "pygments_lexer": "ipython3",
   "version": "3.10.8"
  }
 },
 "nbformat": 4,
 "nbformat_minor": 5
}
