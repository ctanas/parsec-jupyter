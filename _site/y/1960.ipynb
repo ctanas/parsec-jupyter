{
 "cells": [
  {
   "cell_type": "markdown",
   "id": "bd1e98e5-2123-460e-a083-07f798fee6bf",
   "metadata": {},
   "source": [
    "---\n",
    "permalink: \"/y/1960\"\n",
    "title: Lansări orbitale în 1960\n",
    "layout: default\n",
    "---"
   ]
  },
  {
   "cell_type": "code",
   "execution_count": 2,
   "id": "1a1d0634-7809-4d32-990f-32b553478485",
   "metadata": {},
   "outputs": [
    {
     "name": "stdout",
     "output_type": "stream",
     "text": [
      "În anul 1960 au avut loc un total de 38 tentative de lansări orbitale, din care 18 eșecuri.\n",
      "+-------+-----------+---------+---------+\n",
      "| Țara  | Tentative | Reușite | Eșecuri |\n",
      "+-------+-----------+---------+---------+\n",
      "| SUA   | 29        | 16      | 13      |\n",
      "| Rusia | 9         | 4       | 5       |\n",
      "+-------+-----------+---------+---------+\n",
      "+----------+-----------------+-------------------+-----------+-------------------------------------+----+---------------+---+\n",
      "| ID       | Dată (UTC)      | Lansator          | Serie     | Satelit (misiune)                   | Or | Centru        | R |\n",
      "+----------+-----------------+-------------------+-----------+-------------------------------------+----+---------------+---+\n",
      "| 1960-F01 | 1960-02-04 1851 | Thor Agena A      | 218/1052  | Discoverer 9 (CORONA C-6)           | US | V+75-3-4      | F |\n",
      "| 1960-F02 | 1960-02-19 2015 | Thor Agena A      | 223/1054  | Discoverer 10 (CORONA C-7)          | US | V+75-3-5      | F |\n",
      "| 1960-F03 | 1960-02-26 1725 | Atlas Agena A     | 29D/1008  | Midas 1 (Midas ETS-I F1)            | US | CC+LC14       | F |\n",
      "| 1960 ALP | 1960-03-11 1300 | Thor Able IV      | 219       | Pioneer 5 (P-2)                     | US | CC+LC17A      | S |\n",
      "| 1960-F04 | 1960-03-23 1335 | Juno II           | AM-19C    | NASA S-46                           | US | CC+LC26B      | F |\n",
      "| 1960 BET | 1960-04-01 1140 | Thor Able II / M1 | 148       | Tiros 1 (A-1)                       | US | CC+LC17A      | S |\n",
      "| 1960 GAM | 1960-04-13 1202 | Thor Ablestar     | 257/AB002 | Transit 1B                          | US | CC+LC17B      | S |\n",
      "| 1960 DEL | 1960-04-15 2030 | Thor Agena A      | 234/1055  | Discoverer 11 (CORONA C-8)          | US | V+75-3-5      | S |\n",
      "| 1960-F06 | 1960-04-16 1607 | Vostok-L 8K72     | L1-9A     | - (E-3 No. 2)                       | RU | NIIP-5+LC1    | F |\n",
      "| 1960-F07 | 1960-05-13 0916 | Thor Delta        | 144/D001  | Echo (A-10 Echo)                    | US | CC+LC17A      | F |\n",
      "| 1960 EPS | 1960-05-15 0000 | Vostok 8K72       | L1-11     | Korabl'-Sputnik (Vostok-1P)         | RU | NIIP-5+LC1    | S |\n",
      "| 1960 ZET | 1960-05-24 1736 | Atlas Agena A     | 45D/1007  | Midas 2 (Midas ETS-I F2)            | US | CC+LC14       | S |\n",
      "| 1960 ETA | 1960-06-22 0554 | Thor Ablestar     | 281/AB003 | Transit 2A/GRAB (Transit 2A)        | US | CC+LC17B      | S |\n",
      "| 1960-F08 | 1960-06-29 2200 | Thor Agena A      | 160/1053  | Discoverer 12 (CORONA Diagnostic 1) | US | V+75-3-4      | F |\n",
      "| 1960-F09 | 1960-07-28 0931 | Vostok 8K72       | L1-10     | - (Vostok-1 No. 1)                  | RU | NIIP-5+LC1    | F |\n",
      "| 1960 THE | 1960-08-10 2037 | Thor Agena A      | 231/1057  | Discoverer 13 (CORONA Diagnostic 2) | US | V+75-3-5      | S |\n",
      "| 1960 IOT | 1960-08-12 0939 | Thor Delta        | 270/D002  | Echo 1 (A-11)                       | US | CC+LC17A      | S |\n",
      "| 1960 KAP | 1960-08-18 1957 | Thor Agena A      | 237/1056  | Discoverer 14 (CORONA C-9)          | US | V+75-3-4      | S |\n",
      "| 1960-F10 | 1960-08-18 1958 | Thor Ablestar     | 262/AB004 | Courier 1A                          | US | CC+LC17B      | F |\n",
      "| 1960 LAM | 1960-08-19 0844 | Vostok 8K72       | L1-12     | Korabl'-Sputnik-2 (Vostok-1 No. 2)  | RU | NIIP-5+LC1    | S |\n",
      "| 1960 MU  | 1960-09-13 2213 | Thor Agena A      | 246/1058  | Discoverer 15 (CORONA C-10)         | US | V+75-3-5      | S |\n",
      "| 1960-F11 | 1960-09-25 1513 | Atlas Able        | 80D       | Able VA                             | US | CC+LC12       | F |\n",
      "| 1960 NU  | 1960-10-04 1750 | Thor Ablestar     | 293/AB005 | Courier 1B                          | US | CC+LC17B      | S |\n",
      "| 1960-F12 | 1960-10-10 1427 | Molniya 8K78      | L1-4M     | - (1M No. 1)                        | RU | NIIP-5+LC1    | F |\n",
      "| 1960-F13 | 1960-10-11 2033 | Atlas Agena A     | 57D/2101  | Samos 1 (SAMOS E-1)                 | US | PA+LC1-1      | F |\n",
      "| 1960-F14 | 1960-10-14 1351 | Molniya 8K78      | L1-5M     | - (1M No. 2)                        | RU | NIIP-5+LC1    | F |\n",
      "| 1960-E01 | 1960-10-24 1545 | R-16              | LD1-3T    | 8K64 LKI (MGCh 8F17)                | RU | NIIP-5+LC41/3 | S |\n",
      "| 1960-F15 | 1960-10-26 2026 | Thor Agena B      | 253/1061  | Discoverer 16 (CORONA C'-1)         | US | V+75-3-4      | F |\n",
      "| 1960 XI  | 1960-11-03 0523 | Juno II           | AM-19D    | Explorer 8 (NASA S-30)              | US | CC+LC26B      | S |\n",
      "| 1960 OMI | 1960-11-12 2042 | Thor Agena B      | 297/1062  | Discoverer 17 (CORONA C'-2)         | US | V+75-3-5      | S |\n",
      "| 1960 PI  | 1960-11-23 1113 | Thor Delta        | 245/D003  | Tiros 2 (NASA A-2)                  | US | CC+LC17A      | S |\n",
      "| 1960-F16 | 1960-11-30 1950 | Thor Ablestar     | 283/AB006 | Transit 3A/GRAB (Transit 3A)        | US | CC+LC17B      | F |\n",
      "| 1960 RHO | 1960-12-01 0730 | Vostok 8K72       | L1-13     | Korabl'-Sputnik-3 (Vostok-1 No. 3)  | RU | NIIP-5+LC1    | S |\n",
      "| 1960-F17 | 1960-12-04 2114 | Scout X-1         | ST-3      | S-56 (NASA S-56)                    | US | WI+LA3        | F |\n",
      "| 1960 SIG | 1960-12-07 2020 | Thor Agena B      | 296/1103  | Discoverer 18 (CORONA C'-3)         | US | V+75-3-4      | S |\n",
      "| 1960-F18 | 1960-12-15 0910 | Atlas Able        | 91D       | Able VB                             | US | CC+LC12       | F |\n",
      "| 1960 TAU | 1960-12-20 2032 | Thor Agena B      | 258/1101  | Discoverer 19 (CORONA RM-1)         | US | V+75-3-5      | S |\n",
      "| 1960-F19 | 1960-12-22 0745 | Vostok 8K72       | L1-13A    | - (Vostok-1 No. 4)                  | RU | NIIP-5+LC1    | F |\n",
      "+----------+-----------------+-------------------+-----------+-------------------------------------+----+---------------+---+\n"
     ]
    }
   ],
   "source": [
    "%store -r ylaunch\n",
    "%store -r zlaunch\n",
    "%store -r mlaunch\n",
    "\n",
    "toprint = 1960-1957\n",
    "\n",
    "print(mlaunch[toprint])\n",
    "print(\"\\n\")\n",
    "print(zlaunch[toprint])\n",
    "print(\"\\n\")\n",
    "print(ylaunch[toprint])"
   ]
  },
  {
   "cell_type": "code",
   "execution_count": null,
   "id": "c370a041-ea36-4e13-9905-1208b21dc089",
   "metadata": {},
   "outputs": [],
   "source": []
  }
 ],
 "metadata": {
  "kernelspec": {
   "display_name": "Python 3 (ipykernel)",
   "language": "python",
   "name": "python3"
  },
  "language_info": {
   "codemirror_mode": {
    "name": "ipython",
    "version": 3
   },
   "file_extension": ".py",
   "mimetype": "text/x-python",
   "name": "python",
   "nbconvert_exporter": "python",
   "pygments_lexer": "ipython3",
   "version": "3.9.13"
  }
 },
 "nbformat": 4,
 "nbformat_minor": 5
}
