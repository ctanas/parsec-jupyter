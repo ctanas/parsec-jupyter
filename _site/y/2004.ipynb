{
 "cells": [
  {
   "cell_type": "markdown",
   "id": "bd1e98e5-2123-460e-a083-07f798fee6bf",
   "metadata": {},
   "source": [
    "---\n",
    "permalink: \"/y/2004\"\n",
    "title: Lansări orbitale în 2004\n",
    "layout: default\n",
    "---"
   ]
  },
  {
   "cell_type": "code",
   "execution_count": 1,
   "id": "1a1d0634-7809-4d32-990f-32b553478485",
   "metadata": {},
   "outputs": [
    {
     "name": "stdout",
     "output_type": "stream",
     "text": [
      "În anul 2004 au avut loc un total de 54 tentative de lansări orbitale, din care 1 eșecuri.\n",
      "+--------+-----------+---------+---------+\n",
      "| Țara   | Tentative | Reușite | Eșecuri |\n",
      "+--------+-----------+---------+---------+\n",
      "| SUA    | 16        | 16      | 0       |\n",
      "| Rusia  | 25        | 25      | 0       |\n",
      "| China  | 8         | 8       | 0       |\n",
      "| Europa | 3         | 3       | 0       |\n",
      "| India  | 1         | 1       | 0       |\n",
      "| Israel | 1         | 0       | 1       |\n",
      "+--------+-----------+---------+---------+\n",
      "+----------+-----------------+------------------------+------------------+-------------------------------------------+----+----------------+---+\n",
      "| ID       | Dată (UTC)      | Lansator               | Serie            | Satelit (misiune)                         | Or | Centru         | R |\n",
      "+----------+-----------------+------------------------+------------------+-------------------------------------------+----+----------------+---+\n",
      "| 2004-001 | 2004-01-11 0412 | Zenit-3SL              | SL12/DM-SL-9L    | SL12 Telstar 14 (Telstar 14)              | RU | KLA+-          | S |\n",
      "| 2004-002 | 2004-01-29 1158 | Soyuz-U-PVB            | D 15000-683      | Progress M1-11 (Progress M1 No. 260)      | RU | GIK-5+LC1      | S |\n",
      "| 2004-003 | 2004-02-05 2346 | Atlas IIAS             | AC-165           | AMC-10                                    | US | CC+SLC36A      | S |\n",
      "| 2004-004 | 2004-02-14 1850 | Titan 402B/IUS         | 4B-39            | USA 176      [DSP22] (DSP F22)            | US | CC+SLC40       | S |\n",
      "| 2004-005 | 2004-02-18 0705 | Molniya 8K78M / ML     | 76092  -690 047  | Molniya-1T (Molniya-1T?)                  | RU | GIK-1+LC16/2   | S |\n",
      "| 2004-006 | 2004-03-02 0717 | Ariane 5G+             | V158 (518)       | Rosetta                                   | EU | CSG+ELA3       | S |\n",
      "| 2004-007 | 2004-03-13 0540 | Atlas 3A               | AC-202           | MBSAT                                     | US | CC+SLC36B      | S |\n",
      "| 2004-008 | 2004-03-15 2306 | Proton-M/Briz-M        | 535-03/88507     | Eutelsat W3A                              | RU | GIK-5+LC81/24  | S |\n",
      "| 2004-009 | 2004-03-20 1753 | Delta 7925-9.5         | D303             | USA 177 (GPS IIR-11) (Navstar GPS SVN 59) | US | CC+SLC17B      | S |\n",
      "| 2004-010 | 2004-03-27 0330 | Proton-K/DM-2          | 410-05           | Raduga-1 (Globus No. 17L)                 | RU | GIK-5+LC81/23  | S |\n",
      "| 2004-011 | 2004-04-16 0045 | Atlas IIAS             | AC-163           | Superbird 6                               | US | CC+SLC36A      | S |\n",
      "| 2004-012 | 2004-04-18 1559 | Chang Zheng 2C         | Y14              | Shiyan-1/NX-1 (Shiyan 1)                  | CN | XSC+LC3        | S |\n",
      "| 2004-013 | 2004-04-19 0319 | Soyuz-FG               | Zh15000-009      | Soyuz TMA-4 (Soyuz 11F732 No. 214)        | RU | GIK-5+LC1      | S |\n",
      "| 2004-014 | 2004-04-20 1657 | Delta 7920-10C         | D304             | GP-B                                      | US | V+SLC2W        | S |\n",
      "| 2004-015 | 2004-04-26 2037 | Proton-K/DM-2M / DM-2M | 410-06           | Ekspress AM-11                            | RU | GIK-5+LC200/39 | S |\n",
      "| 2004-016 | 2004-05-04 1242 | Zenit-3SL              | SL14/DM-SL-16L   | SL13 DirecTV 7S (DirecTV 7S)              | RU | KLA+-          | S |\n",
      "| 2004-017 | 2004-05-19 2222 | Atlas IIAS             | AC-166           | AMC-11 (Americom 11)                      | US | CC+SLC36B      | S |\n",
      "| 2004-018 | 2004-05-20 1747 | Taurus 3210            | T7 (XL)          | ROCSAT-2                                  | US | V+576E         | S |\n",
      "| 2004-019 | 2004-05-25 1234 | Soyuz-U-PVB            | D 15000-684      | Progress M-49 (Progress M No. 249)        | RU | GIK-5+LC1      | S |\n",
      "| 2004-020 | 2004-05-28 0600 | Tsiklon-2              | 670-92-  803     | Kosmos-2405 (US-PU)                       | RU | GIK-5+LC90/20  | S |\n",
      "| 2004-021 | 2004-06-10 0128 | Zenit-2                | 70121-402/1-95   | Kosmos-2406 (Tselina-2 No. 16L)           | RU | GIK-5+LC45/1   | S |\n",
      "| 2004-022 | 2004-06-16 2227 | Proton-M/Briz-M        | 535-06/88509     | Intelsat 10-02 (INTELSAT 10-02)           | RU | GIK-5+LC200/39 | S |\n",
      "| 2004-023 | 2004-06-23 2254 | Delta 7925-9.5         | D305             | USA 178 (GPS IIR-12) (Navstar GPS SVN 60) | US | CC+SLC17B      | S |\n",
      "| 2004-024 | 2004-06-29 0358 | Zenit-3SL              | SL11/DM-SL-11L   | SL20 Telstar 18 (Apstar 5)                | RU | KLA+-          | S |\n",
      "| 2004-025 | 2004-06-29 0630 | Dnepr                  | 450-3341-631     | Demeter/Latinsat/ (Latinsat D)            | RU | GIK-5+LC109/95 | S |\n",
      "| 2004-026 | 2004-07-15 1001 | Delta 7920-10L         | D306             | Aura (EOS Chem-1)                         | US | V+SLC2W        | S |\n",
      "| 2004-027 | 2004-07-18 0044 | Ariane 5G+             | V163 (519f)      | Anik F2                                   | EU | CSG+ELA3       | S |\n",
      "| 2004-028 | 2004-07-22 1746 | Kosmos 11K65M          | 53779-805        | Kosmos-2407 (Parus)                       | RU | GIK-1+LC132/1  | S |\n",
      "| 2004-029 | 2004-07-25 0705 | Chang Zheng 2C / SM    | Y2               | TC-2 (Double Star DSP-P)                  | CN | TYSC+LC7       | S |\n",
      "| 2004-030 | 2004-08-03 0615 | Delta 7925H            | D307             | Messenger (MESSENGER)                     | US | CC+SLC17B      | S |\n",
      "| 2004-031 | 2004-08-04 2232 | Proton-M/Briz-M        | 535-07/88508     | Amazonas                                  | RU | GIK-5+LC200/39 | S |\n",
      "| 2004-032 | 2004-08-11 0503 | Soyuz-U                | D 15000-685      | Progress M-50 (Progress 7K-TGM No. 350)   | RU | GIK-5+LC1      | S |\n",
      "| 2004-033 | 2004-08-29 0750 | Chang Zheng 2C         | Y12              | FSW 19 (FSW-3?)                           | CN | JQ+LC603       | S |\n",
      "| 2004-034 | 2004-08-31 2317 | Atlas IIAS             | AC-167           | USA 179      [SDS15] (QUASAR 15?)         | US | CC+SLC36A      | S |\n",
      "| 2004-F01 | 2004-09-06 1053 | Shavit 1               | 6                | 'Ofeq-6                                   | IL | PALB+-         | F |\n",
      "| 2004-035 | 2004-09-08 2314 | Chang Zheng 4B         | Y7               | SJ-6A/SJ-6B (shijian liuhao B xing)       | CN | TYSC+LC7       | S |\n",
      "| 2004-036 | 2004-09-20 1031 | GSLV Mk I              | GSLV-F01         | GSAT-3                                    | IN | SHAR+FLP       | S |\n",
      "| 2004-037 | 2004-09-23 1507 | Kosmos 11K65M          | 53779-811        | Kosmos-2408/2409 (Strela-3)               | RU | GIK-1+LC132/1  | S |\n",
      "| 2004-038 | 2004-09-24 1650 | Soyuz-U-PVB            | 78036  -844 087  | Kosmos-2410 (Kobal't-M)                   | RU | GIK-1+LC16/2   | S |\n",
      "| 2004-039 | 2004-09-27 0800 | Chang Zheng 2D         | Y5               | FSW 20 (FSW-3?)                           | CN | JQ+LC603       | S |\n",
      "| 2004-040 | 2004-10-14 0306 | Soyuz-FG               | Zh15000-012      | Soyuz TMA-5 (Soyuz 11F732 No. 215)        | RU | GIK-5+LC1      | S |\n",
      "| 2004-041 | 2004-10-14 2123 | Proton-M/Briz-M        | 535-08/88510     | AMC-15                                    | RU | GIK-5+LC200/39 | S |\n",
      "| 2004-042 | 2004-10-19 0120 | Chang Zheng 3A         | Y9               | FY-2C (FY-2 O4)                           | CN | XSC+LC2        | S |\n",
      "| 2004-043 | 2004-10-29 2211 | Proton-K/DM-2M / DM-2M | 410-08           | Ekspress AM-1                             | RU | GIK-5+LC200/39 | S |\n",
      "| 2004-044 | 2004-11-06 0310 | Chang Zheng 4B         | Y8               | ZY-2C (ziyuan erhao 03 xing)              | CN | TYSC+LC7       | S |\n",
      "| 2004-045 | 2004-11-06 0539 | Delta 7925-9.5         | D308             | USA 180 (GPS IIR-13) (Navstar GPS SVN 61) | US | CC+SLC17B      | S |\n",
      "| 2004-046 | 2004-11-18 1045 | Chang Zheng 2C         | Y15              | SW-2 (Shiyan 2)                           | CN | XSC+LC3        | S |\n",
      "| 2004-047 | 2004-11-20 1716 | Delta 7320-10C         | D309             | Swift (Swift GRB Explorer)                | US | CC+SLC17A      | S |\n",
      "| 2004-048 | 2004-12-17 1207 | Atlas V 521            | AV-005           | AMC 16                                    | US | CC+SLC41       | S |\n",
      "| 2004-049 | 2004-12-18 1626 | Ariane 5G+             | V165 (520g)      | Helios-2A/ASAP (Helios 2A)                | EU | CSG+ELA3       | S |\n",
      "| 2004-050 | 2004-12-21 2150 | Delta 4 Heavy          | D4-4/D310        | Demosat (HLV-OLDSP)                       | US | CC+SLC37B      | S |\n",
      "| 2004-051 | 2004-12-23 2219 | Soyuz-U-PVB            | Zh15000-092      | Progress M-51 (Progress 7K-TGM No. 351)   | RU | GIK-5+LC1      | S |\n",
      "| 2004-052 | 2004-12-24 1120 | Tsiklon-3              | 450-43-  701 40L | Sich-1M (Okean-O1 No. 9)                  | RU | GIK-1+LC32/2   | S |\n",
      "| 2004-053 | 2004-12-26 1353 | Proton-K/DM-2          | 410-09           | Kosmos-2411/2413 (Uragan No. 796)         | RU | GIK-5+LC200/39 | S |\n",
      "+----------+-----------------+------------------------+------------------+-------------------------------------------+----+----------------+---+\n"
     ]
    }
   ],
   "source": [
    "%store -r ylaunch\n",
    "%store -r zlaunch\n",
    "%store -r mlaunch\n",
    "\n",
    "toprint = 2004-1957\n",
    "\n",
    "print(mlaunch[toprint])\n",
    "print(\"\\n\")\n",
    "print(zlaunch[toprint])\n",
    "print(\"\\n\")\n",
    "print(ylaunch[toprint])"
   ]
  },
  {
   "cell_type": "code",
   "execution_count": null,
   "id": "c370a041-ea36-4e13-9905-1208b21dc089",
   "metadata": {},
   "outputs": [],
   "source": []
  }
 ],
 "metadata": {
  "kernelspec": {
   "display_name": "Python 3 (ipykernel)",
   "language": "python",
   "name": "python3"
  },
  "language_info": {
   "codemirror_mode": {
    "name": "ipython",
    "version": 3
   },
   "file_extension": ".py",
   "mimetype": "text/x-python",
   "name": "python",
   "nbconvert_exporter": "python",
   "pygments_lexer": "ipython3",
   "version": "3.9.13"
  }
 },
 "nbformat": 4,
 "nbformat_minor": 5
}
