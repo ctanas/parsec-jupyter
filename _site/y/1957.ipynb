{
 "cells": [
  {
   "cell_type": "markdown",
   "id": "bd1e98e5-2123-460e-a083-07f798fee6bf",
   "metadata": {},
   "source": [
    "---\n",
    "permalink: \"/y/1957\"\n",
    "title: Lansări orbitale în 1957\n",
    "layout: default\n",
    "---"
   ]
  },
  {
   "cell_type": "code",
   "execution_count": 1,
   "id": "1a1d0634-7809-4d32-990f-32b553478485",
   "metadata": {},
   "outputs": [
    {
     "name": "stdout",
     "output_type": "stream",
     "text": [
      "În anul 1957 au avut loc un total de 3 tentative de lansări orbitale, din care 1 eșecuri.\n",
      "\n",
      "\n",
      "| Țara   |   Tentative |   Reușite |   Eșecuri |\n",
      "|:-------|------------:|----------:|----------:|\n",
      "| SUA    |           1 |         0 |         1 |\n",
      "| Rusia  |           2 |         2 |         0 |\n",
      "\n",
      "\n",
      "| ID       | Dată (UTC)       | Lansator       | Serie   | Satelit (misiune)                      | Or   | Centru     | R   |\n",
      "|:---------|:-----------------|:---------------|:--------|:---------------------------------------|:-----|:-----------|:----|\n",
      "| 1957 ALP | 1957 Oct  4 1928 | Sputnik 8K71PS | M1-PS   | PS-1                                   | RU   | NIIP-5+LC1 | S   |\n",
      "| 1957 BET | 1957 Nov  3 0230 | Sputnik 8K71PS | M1-2PS  | PS-2                                   | RU   | NIIP-5+LC1 | S   |\n",
      "| 1957-F01 | 1957 Dec  6 1644 | Vanguard       | TV-3    | Vanguard TV3 (Vanguard Test Satellite) | US   | CC+LC18A   | F   |\n"
     ]
    }
   ],
   "source": [
    "%store -r ylaunch\n",
    "%store -r zlaunch\n",
    "%store -r mlaunch\n",
    "\n",
    "toprint = 1957-1957\n",
    "\n",
    "print(mlaunch[toprint])\n",
    "print(\"\\n\")\n",
    "print(zlaunch[toprint])\n",
    "print(\"\\n\")\n",
    "print(ylaunch[toprint])"
   ]
  },
  {
   "cell_type": "code",
   "execution_count": null,
   "id": "c370a041-ea36-4e13-9905-1208b21dc089",
   "metadata": {},
   "outputs": [],
   "source": []
  }
 ],
 "metadata": {
  "kernelspec": {
   "display_name": "Python 3 (ipykernel)",
   "language": "python",
   "name": "python3"
  },
  "language_info": {
   "codemirror_mode": {
    "name": "ipython",
    "version": 3
   },
   "file_extension": ".py",
   "mimetype": "text/x-python",
   "name": "python",
   "nbconvert_exporter": "python",
   "pygments_lexer": "ipython3",
   "version": "3.9.13"
  }
 },
 "nbformat": 4,
 "nbformat_minor": 5
}
