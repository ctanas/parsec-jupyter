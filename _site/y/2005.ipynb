{
 "cells": [
  {
   "cell_type": "markdown",
   "id": "bd1e98e5-2123-460e-a083-07f798fee6bf",
   "metadata": {},
   "source": [
    "---\n",
    "permalink: \"/y/2005\"\n",
    "title: Lansări orbitale în 2005\n",
    "layout: default\n",
    "---"
   ]
  },
  {
   "cell_type": "code",
   "execution_count": 1,
   "id": "1a1d0634-7809-4d32-990f-32b553478485",
   "metadata": {},
   "outputs": [
    {
     "name": "stdout",
     "output_type": "stream",
     "text": [
      "În anul 2005 au avut loc un total de 56 tentative de lansări orbitale, din care 4 eșecuri.\n",
      "+---------+-----------+---------+---------+\n",
      "| Țara    | Tentative | Reușite | Eșecuri |\n",
      "+---------+-----------+---------+---------+\n",
      "| SUA     | 12        | 12      | 0       |\n",
      "| Rusia   | 30        | 27      | 3       |\n",
      "| China   | 6         | 5       | 1       |\n",
      "| Europa  | 5         | 5       | 0       |\n",
      "| Japonia | 2         | 2       | 0       |\n",
      "| India   | 1         | 1       | 0       |\n",
      "+---------+-----------+---------+---------+\n",
      "+----------+-----------------+------------------------+--------------------+---------------------------------------------+----+----------------+---+\n",
      "| ID       | Dată (UTC)      | Lansator               | Serie              | Satelit (misiune)                           | Or | Centru         | R |\n",
      "+----------+-----------------+------------------------+--------------------+---------------------------------------------+----+----------------+---+\n",
      "| 2005-001 | 2005-01-12 1847 | Delta 7925-9.5         | D311               | Deep Impact                                 | US | CC+SLC17B      | S |\n",
      "| 2005-002 | 2005-01-20 0300 | Kosmos 11K65M          | 47106-411          | Kosmos-2414 (Parus?)                        | RU | GIK-1+LC132/1  | S |\n",
      "| 2005-003 | 2005-02-03 0227 | Proton-M/Briz-M        | 535-09/88511       | AMC-12 (Americom 12)                        | RU | GIK-5+LC81/24  | S |\n",
      "| 2005-004 | 2005-02-03 0741 | Atlas 3B / SEC         | AC-206 MLV-15      | USA 181     [NOSS16] (INTRUDER 7)           | US | CC+SLC36B      | S |\n",
      "| 2005-005 | 2005-02-12 2103 | Ariane 5ECA            | V164 (521)         | XTAR-EUR/Maqsat-B2 (XTAR-EUR)               | EU | CSG+ELA3       | S |\n",
      "| 2005-006 | 2005-02-26 0925 | H-IIA 2022             | H-IIA-7F           | MTSAT-1R                                    | JP | TNSC+Y         | S |\n",
      "| 2005-007 | 2005-02-28 1909 | Soyuz-U-PVB            | Zh15000-093        | Progress M-52 (Progress 7K-TGM No. 352)     | RU | GIK-5+LC1      | S |\n",
      "| 2005-008 | 2005-03-01 0350 | Zenit-3SL              | SL17/DM-SL-17L     | SL18 XM Radio-3 (XM Radio-3)                | RU | KLA+-          | S |\n",
      "| 2005-009 | 2005-03-11 2142 | Atlas V 431            | AV-004             | Inmarsat 4 F-1 (INMARSAT 4 F1)              | US | CC+SLC41       | S |\n",
      "| 2005-010 | 2005-03-29 2131 | Proton-K/DM-2M / DM-2M | 410-10             | Ekspress AM-2                               | RU | GIK-5+LC200/39 | S |\n",
      "| 2005-011 | 2005-04-11 1335 | Minotaur I             | 3                  | XSS-11 (USA 165 (XSS-11))                   | US | VS+SLC8        | S |\n",
      "| 2005-012 | 2005-04-12 1200 | Chang Zheng 3B         | Y6                 | Apstar 6                                    | CN | XSC+LC2        | S |\n",
      "| 2005-013 | 2005-04-15 0046 | Soyuz-FG               | Zh15000-014        | Soyuz TMA-6 (Soyuz 11F732 No. 216)          | RU | GIK-5+LC1      | S |\n",
      "| 2005-014 | 2005-04-15 1726 | Pegasus XL/HAPS        | F36                | DART (DART/HAPS)                            | US | V+RW30/12      | S |\n",
      "| 2005-015 | 2005-04-26 0731 | Zenit-3SL              | SL18/DM-SL-19L     | SL15 Spaceway 1 (Spaceway 1)                | RU | KLA+-          | S |\n",
      "| 2005-016 | 2005-04-30 0050 | Titan 405B             | 4B-30              | USA 182      [LAC5] (ONYX 5)                | US | CC+SLC40       | S |\n",
      "| 2005-017 | 2005-05-05 0445 | PSLV                   | PSLV-C6            | Cartosat (Cartosat-1)                       | IN | SHAR+SLP       | S |\n",
      "| 2005-018 | 2005-05-20 1022 | Delta 7320-10C         | D312               | NOAA N                                      | US | V+SLC2W        | S |\n",
      "| 2005-019 | 2005-05-22 1759 | Proton-M/Briz-M        | 535-10/88512       | DirecTV-8                                   | RU | GIK-5+LC200/39 | S |\n",
      "| 2005-020 | 2005-05-31 1200 | Soyuz-U-PVB            | Zh15000-091        | Foton-M No. 2                               | RU | GIK-5+LC1      | S |\n",
      "| 2005-F04 | 2005-06-09      | KT-1                   | UNCONFIRMED        | MS-1?                                       | CN | TYSC+-         | F |\n",
      "| 2005-021 | 2005-06-16 2309 | Soyuz-U-PVB            | Zh15000-094        | Progress M-53 (Progress 7K-TGM No. 353)     | RU | GIK-5+LC1      | S |\n",
      "| 2005-F01 | 2005-06-21 0048 | Molniya 8K78M / ML     | 77046  -694 051    | Molniya-3K (Molniya-3K No. 12L)             | RU | GIK-1+LC16/2   | F |\n",
      "| 2005-F02 | 2005-06-21 1946 | Volna                  | M-1491-035         | Cosmos-1/Dem-2R (TPS Solar Sail)            | RU | BLA+-          | F |\n",
      "| 2005-022 | 2005-06-23 1403 | Zenit-3SL              | SL4/DM-SL-13L      | SL14 IA-8 (Intelsat Americas 8)             | RU | KLA+-          | S |\n",
      "| 2005-023 | 2005-06-24 1941 | Proton-K/DM-2          | 410-07             | Ekspress AM-3                               | RU | GIK-5+LC200/39 | S |\n",
      "| 2005-024 | 2005-07-05 2240 | Chang Zheng 2D         | Y6                 | SJ-7 (Tansuo-2)                             | CN | JQ+LC603       | S |\n",
      "| 2005-025 | 2005-07-10 0330 | M-V                    | M-V-6              | ASTRO E2 (ASTRO-E2)                         | JP | KASC+M-V       | S |\n",
      "| 2005-026 | 2005-07-26 1439 | Space Shuttle          | STS-114            | ISS LF-1 (OV-103 ISS)                       | US | KSC+LC39B      | S |\n",
      "| 2005-027 | 2005-08-02 0730 | Chang Zheng 2C         | Y13                | FSW 21 (FSW-3?)                             | CN | JQ+LC603       | S |\n",
      "| 2005-028 | 2005-08-11 0820 | Ariane 5GS             | V166 (523g)        | Thaicom 4 (iPSTAR 1)                        | EU | CSG+ELA3       | S |\n",
      "| 2005-029 | 2005-08-12 1143 | Atlas V 401            | AV-007             | MRO                                         | US | CC+SLC41       | S |\n",
      "| 2005-030 | 2005-08-13 2328 | Soyuz-FG / Fregat      | Zh15000-011/1007   | Galaxy 14                                   | RU | GIK-5+LC31     | S |\n",
      "| 2005-031 | 2005-08-23 2109 | Dnepr                  | 510-3342-621       | OICETS/INDEX (OICETS)                       | RU | GIK-5+LC109/95 | S |\n",
      "| 2005-032 | 2005-08-26 1834 | Rokot                  | 630-7823-115/72507 | Monitor-E (98M)                             | RU | GIK-1+LC133/3  | S |\n",
      "| 2005-033 | 2005-08-29 0845 | Chang Zheng 2D         | Y7                 | FSW 22 (FSW-3?)                             | CN | JQ+LC603       | S |\n",
      "| 2005-034 | 2005-09-02 0950 | Soyuz-U-PVB            | 78036  -576 086    | Kosmos-2415 (Kometa No. 21L)                | RU | GIK-5+LC31     | S |\n",
      "| 2005-035 | 2005-09-08 1307 | Soyuz-U-PVB            | P 15000-095        | Progress M-54 (Progress 7K-TGM No. 354)     | RU | GIK-5+LC1      | S |\n",
      "| 2005-036 | 2005-09-08 2153 | Proton-M/Briz-M        | 535-12/88513       | Anik F1R                                    | RU | GIK-5+LC200/39 | S |\n",
      "| 2005-037 | 2005-09-23 0224 | Minotaur I             | 4                  | Streak (Streak (STP-R1))                    | US | VS+SLC8        | S |\n",
      "| 2005-038 | 2005-09-26 0337 | Delta 7925-9.5         | D313               | USA 183 (GPS IIRM-1) (Navstar GPS SVN 53)   | US | CC+SLC17A      | S |\n",
      "| 2005-039 | 2005-10-01 0354 | Soyuz-FG               | Zh15000-017        | Soyuz TMA-7 (Soyuz 11F732 No. 217)          | RU | GIK-5+LC1      | S |\n",
      "| 2005-F03 | 2005-10-08 1502 | Rokot                  | 492-5882-030/72508 | Cryosat                                     | RU | GIK-1+LC133/3  | F |\n",
      "| 2005-040 | 2005-10-12 0100 | Chang Zheng 2F         | Y6                 | Shenzhou 6 (Shenzhou 6 Fanhui Cang)         | CN | JQ+LC921       | S |\n",
      "| 2005-041 | 2005-10-13 2232 | Ariane 5GS             | V168 (524g)        | Syracuse 3A/Gal. 15 (Galaxy 15)             | EU | CSG+ELA3       | S |\n",
      "| 2005-042 | 2005-10-19 1805 | Titan 404B             | 4B-26              | USA 186      [IC8] (Improved CRYSTAL 2108?) | US | VS+SLC4E       | S |\n",
      "| 2005-043 | 2005-10-27 0652 | Kosmos 11K65M          | 47152-104          | Topsat/DMC-3/Mozh. (China-DMC)              | RU | GIK-1+LC132/1  | S |\n",
      "| 2005-044 | 2005-11-08 1406 | Zenit-3SL              | SL19/DM-SL-20L     | SL23 Inmarsat 4F2 (INMARSAT 4 F2)           | RU | KLA+-          | S |\n",
      "| 2005-045 | 2005-11-09 0333 | Soyuz-FG / Fregat      | Zh15000-010/1010   | Venus Express                               | RU | GIK-5+LC31     | S |\n",
      "| 2005-046 | 2005-11-16 2346 | Ariane 5ECA            | V167 (522a)        | Spaceway 2/Telkom 2 (Telkom 2)              | EU | CSG+ELA3       | S |\n",
      "| 2005-047 | 2005-12-21 1838 | Soyuz-U-PVB            | F 15000-080        | Progress M-55 (Progress 7K-TGM No. 355)     | RU | GIK-5+LC1      | S |\n",
      "| 2005-048 | 2005-12-21 1934 | Kosmos 11K65M          | 53727-232          | Gonets/Kosmos-2416 (Gonets-M No. 11/Rodnik) | RU | GIK-1+LC132/1  | S |\n",
      "| 2005-049 | 2005-12-21 2233 | Ariane 5GS             | V169 (525)         | Insat 4A/MSG 2 (Insat 4A)                   | EU | CSG+ELA3       | S |\n",
      "| 2005-050 | 2005-12-25 0507 | Proton-K/DM-2          | 410-11             | Kosmos-2417/2419 (Uragan No. 798)           | RU | GIK-5+LC81/24  | S |\n",
      "| 2005-051 | 2005-12-28 0519 | Soyuz-FG / Fregat      | P 15000-015/1009   | GIOVE A (GSTB-v2/A)                         | RU | GIK-5+LC31     | S |\n",
      "| 2005-052 | 2005-12-29 0228 | Proton-M/Briz-M        | 535-13/88514       | AMC-23 (Americom 23)                        | RU | GIK-5+LC200/39 | S |\n",
      "+----------+-----------------+------------------------+--------------------+---------------------------------------------+----+----------------+---+\n"
     ]
    }
   ],
   "source": [
    "%store -r ylaunch\n",
    "%store -r zlaunch\n",
    "%store -r mlaunch\n",
    "\n",
    "toprint = 2005-1957\n",
    "\n",
    "print(mlaunch[toprint])\n",
    "print(\"\\n\")\n",
    "print(zlaunch[toprint])\n",
    "print(\"\\n\")\n",
    "print(ylaunch[toprint])"
   ]
  },
  {
   "cell_type": "code",
   "execution_count": null,
   "id": "c370a041-ea36-4e13-9905-1208b21dc089",
   "metadata": {},
   "outputs": [],
   "source": []
  }
 ],
 "metadata": {
  "kernelspec": {
   "display_name": "Python 3 (ipykernel)",
   "language": "python",
   "name": "python3"
  },
  "language_info": {
   "codemirror_mode": {
    "name": "ipython",
    "version": 3
   },
   "file_extension": ".py",
   "mimetype": "text/x-python",
   "name": "python",
   "nbconvert_exporter": "python",
   "pygments_lexer": "ipython3",
   "version": "3.9.13"
  }
 },
 "nbformat": 4,
 "nbformat_minor": 5
}
