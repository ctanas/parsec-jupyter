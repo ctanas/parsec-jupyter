{
 "cells": [
  {
   "cell_type": "markdown",
   "id": "bd1e98e5-2123-460e-a083-07f798fee6bf",
   "metadata": {},
   "source": [
    "---\n",
    "permalink: \"/y/2001\"\n",
    "title: Lansări orbitale în 2001\n",
    "layout: default\n",
    "---"
   ]
  },
  {
   "cell_type": "code",
   "execution_count": 1,
   "id": "1a1d0634-7809-4d32-990f-32b553478485",
   "metadata": {},
   "outputs": [
    {
     "name": "stdout",
     "output_type": "stream",
     "text": [
      "În anul 2001 au avut loc un total de 58 tentative de lansări orbitale, din care 0 eșecuri.\n",
      "+---------+-----------+---------+---------+\n",
      "| Țara    | Tentative | Reușite | Eșecuri |\n",
      "+---------+-----------+---------+---------+\n",
      "| SUA     | 21        | 21      | 0       |\n",
      "| Rusia   | 25        | 25      | 0       |\n",
      "| China   | 1         | 1       | 0       |\n",
      "| Europa  | 8         | 8       | 0       |\n",
      "| Japonia | 1         | 1       | 0       |\n",
      "| India   | 2         | 2       | 0       |\n",
      "+---------+-----------+---------+---------+\n",
      "+----------+-----------------+----------------------+--------------------+---------------------------------------------+----+---------------+---+\n",
      "| ID       | Dată (UTC)      | Lansator             | Serie              | Satelit (misiune)                           | Or | Centru        | R |\n",
      "+----------+-----------------+----------------------+--------------------+---------------------------------------------+----+---------------+---+\n",
      "| 2001-001 | 2001-01-09 1700 | Chang Zheng 2F       | Y2                 | Shenzhou 2 (Shenzhou 2 Fanhui Cang)         | CN | JQ+LC921      | S |\n",
      "| 2001-002 | 2001-01-10 2209 | Ariane 44P / 44P-3   | V137 L4101         | Turksat 2A (Eurasiasat 1)                   | EU | CSG+ELA2      | S |\n",
      "| 2001-003 | 2001-01-24 0428 | Soyuz-U-PVB          | K 15000-673        | Progress M1-5 (Progress M1 No. 254)         | RU | GIK-5+LC1     | S |\n",
      "| 2001-004 | 2001-01-30 0755 | Delta 7925-9.5       | D283               | USA 156 (GPS IIR-7) (Navstar GPS SVN 54)    | US | CC+SLC17A     | S |\n",
      "| 2001-005 | 2001-02-07 2305 | Ariane 44L / 44L-3   | V139 L4103         | Sicral/Skynet 4F (SICRAL 1A)                | EU | CSG+ELA2      | S |\n",
      "| 2001-006 | 2001-02-07 2313 | Space Shuttle        | STS-98             | ISS 5A (OV-104 ISS)                         | US | KSC+LC39A     | S |\n",
      "| 2001-007 | 2001-02-20 0848 | Start-1              | 168                | Odin                                        | RU | GIK-2+LC5     | S |\n",
      "| 2001-008 | 2001-02-26 0809 | Soyuz-U-PVB          | K 15000-670        | Progress M-44 (Progress 7K-TGM No. 244)     | RU | GIK-5+LC1     | S |\n",
      "| 2001-009 | 2001-02-27 2120 | Titan 401B/Centaur   | 4B-41/TC-22 (K-30) | USA 157 (Milstar 4) (Milstar DFS-4)         | US | CC+SLC40      | S |\n",
      "| 2001-010 | 2001-03-08 1142 | Space Shuttle        | STS-102            | ISS 5A.1 (OV-103 ISS)                       | US | KSC+LC39B     | S |\n",
      "| 2001-011 | 2001-03-08 2251 | Ariane 5G            | V140 (509)         | Eurobird/BSAT-2a (Eurobird)                 | EU | CSG+ELA3      | S |\n",
      "| 2001-012 | 2001-03-18 2233 | Zenit-3SL            | 7?/DM-SL-5L        | SL7 XM Radio-2 (XM Radio-2)                 | RU | KLA+-         | S |\n",
      "| 2001-014 | 2001-04-07 0347 | Proton-M/Briz-M      | 535-01/88503       | Ekran-M No. 18 (Ekran-M No. 18L)            | RU | GIK-5+LC81/24 | S |\n",
      "| 2001-013 | 2001-04-07 1502 | Delta 7925-9.5       | D284               | 2001 Mars Odyssey                           | US | CC+SLC17A     | S |\n",
      "| 2001-015 | 2001-04-18 1013 | GSLV Mk I            | GSLV-D1            | GSAT-1                                      | IN | SHAR+FLP      | S |\n",
      "| 2001-016 | 2001-04-19 1840 | Space Shuttle        | STS-100            | ISS 6A (OV-105 ISS)                         | US | KSC+LC39A     | S |\n",
      "| 2001-017 | 2001-04-28 0737 | Soyuz-U-PVB          | K 15000-674        | Soyuz TM-32 (Soyuz 7K-STM No. 206)          | RU | GIK-5+LC1     | S |\n",
      "| 2001-018 | 2001-05-08 2210 | Zenit-3SL            | 9?/DM-SL-7L        | SL6 XM Radio-1 (XM Radio-1)                 | RU | KLA+-         | S |\n",
      "| 2001-019 | 2001-05-15 0111 | Proton-K/DM-2M / DM3 | 403-01             | PAS 10                                      | RU | GIK-5+LC81/23 | S |\n",
      "| 2001-020 | 2001-05-18 1745 | Delta 7925-9.5       | D285               | USA 158 (GeoLITE) (GeoLITE)                 | US | CC+SLC17B     | S |\n",
      "| 2001-021 | 2001-05-20 2232 | Soyuz-FG             | K 15000-001        | Progress M1-6 (Progress M1 No. 255)         | RU | GIK-5+LC1     | S |\n",
      "| 2001-022 | 2001-05-29 1755 | Soyuz-U-PVB          | 77023  -841 076    | Kosmos-2377 (Kobal't)                       | RU | GIK-1+LC43/4  | S |\n",
      "| 2001-023 | 2001-06-08 1508 | Kosmos 11K65M        | 53706-412          | Kosmos-2378 (Parus)                         | RU | GIK-1+LC132/1 | S |\n",
      "| 2001-024 | 2001-06-09 0645 | Ariane 44L / 44L-3   | V141 L4104         | Intelsat 901 (IS-901)                       | EU | CSG+ELA2      | S |\n",
      "| 2001-025 | 2001-06-16 0149 | Proton-K/DM-2M / DM3 | 403-02             | Astra 2C                                    | RU | GIK-5+LC81/23 | S |\n",
      "| 2001-026 | 2001-06-19 0441 | Atlas IIAS           | AC-156             | ICO 2                                       | US | CC+SLC36B     | S |\n",
      "| 2001-027 | 2001-06-30 1946 | Delta 7425-10        | D286               | MAP (Microwave Anisotropy Pro)              | US | CC+SLC17B     | S |\n",
      "| 2001-028 | 2001-07-12 0903 | Space Shuttle        | STS-104            | ISS 7A (OV-104 ISS)                         | US | KSC+LC39B     | S |\n",
      "| 2001-029 | 2001-07-12 2158 | Ariane 5G            | V142 (510)         | Artemis/BSAT-2b (Artemis)                   | EU | CSG+ELA3      | S |\n",
      "| 2001-030 | 2001-07-20 0017 | Molniya 8K78M / ML   | 77045  -686 043    | Molniya-3 (Molniya-3K No. 11?)              | RU | GIK-1+LC43/4  | S |\n",
      "| 2001-031 | 2001-07-23 0723 | Atlas IIA            | AC-142             | GOES M                                      | US | CC+SLC36A     | S |\n",
      "| 2001-032 | 2001-07-31 0800 | Tsiklon-3            | 510-25-  802       | Koronas-F (AUOS-SM-KF)                      | RU | GIK-1+LC32/2  | S |\n",
      "| 2001-033 | 2001-08-06 0728 | Titan 402B/IUS       | 4B-31              | USA 159      [DSP21] (DSP)                  | US | CC+SLC40      | S |\n",
      "| 2001-034 | 2001-08-08 1613 | Delta 7326-9.5       | D287               | Genesis                                     | US | CC+SLC17A     | S |\n",
      "| 2001-035 | 2001-08-10 2110 | Space Shuttle        | STS-105            | ISS 7A.1 (OV-103 ISS)                       | US | KSC+LC39A     | S |\n",
      "| 2001-036 | 2001-08-21 0923 | Soyuz-U-PVB          | M 15000-065        | Progress M-45 (Progress M No. 245)          | RU | GIK-5+LC1     | S |\n",
      "| 2001-037 | 2001-08-24 2034 | Proton-K/DM-2        | 404-01             | Kosmos-2379 (Oko-1 No. 7124)                | RU | GIK-5+LC81/24 | S |\n",
      "| 2001-038 | 2001-08-29 0700 | H-IIA 202            | H-IIA-1F           | VEP-2/LRE (LRE)                             | JP | TNSC+Y        | S |\n",
      "| 2001-039 | 2001-08-30 0646 | Ariane 44L / 44L-3   | V143 L4105         | Intelsat 902 (INTELSAT 902)                 | EU | CSG+ELA2      | S |\n",
      "| 2001-040 | 2001-09-08 1525 | Atlas IIAS           | AC-160 MLV-10      | USA 160     [NOSS14] (INTRUDER 5?)          | US | VS+SLC3E      | S |\n",
      "| 2001-041 | 2001-09-14 2334 | Soyuz-U-PVB          | F 15000-677        | Pirs (Progress No. 301)                     | RU | GIK-5+LC1     | S |\n",
      "| 2001-042 | 2001-09-25 2321 | Ariane 44P / 44P-3   | V144 L4106         | Atlantic Bird 2                             | EU | CSG+ELA2      | S |\n",
      "| 2001-043 | 2001-09-30 0240 | Athena-1             | LM-001             | Kodiak Star (Starshine 3)                   | US | KLC+LP1       | S |\n",
      "| 2001-044 | 2001-10-05 2121 | Titan 404B           | 4B-34              | USA 161      [IC7] (Improved CRYSTAL 2107?) | US | VS+SLC4E      | S |\n",
      "| 2001-045 | 2001-10-06 1645 | Proton-K/DM-2        | 405-01             | Raduga-1 (Globus No. 14L)                   | RU | GIK-5+LC81/24 | S |\n",
      "| 2001-046 | 2001-10-11 0232 | Atlas IIAS           | AC-162 MLV-12      | USA 162      [SDS14] (QUASAR 14?)           | US | CC+SLC36B     | S |\n",
      "| 2001-047 | 2001-10-18 1851 | Delta 7320-10        | D288               | QuickBird 2 (QuickBird)                     | US | V+SLC2W       | S |\n",
      "| 2001-048 | 2001-10-21 0859 | Soyuz-U-PVB          | F 15000-672        | Soyuz TM-33 (Soyuz TM No. 207)              | RU | GIK-5+LC1     | S |\n",
      "| 2001-049 | 2001-10-22 0453 | PSLV                 | PSLV-C3            | TES                                         | IN | SHAR+FLP      | S |\n",
      "| 2001-050 | 2001-10-25 1134 | Molniya 8K78M / ML   | 77013  -687 044    | Molniya-3 (Molniya-3 No. 64)                | RU | GIK-1+LC43/3  | S |\n",
      "| 2001-051 | 2001-11-26 1824 | Soyuz-FG             | F 15000-002        | Progress M1-7 (Progress M1 No. 256)         | RU | GIK-5+LC1     | S |\n",
      "| 2001-052 | 2001-11-27 0035 | Ariane 44LP / 44LP-3 | V146 L4107         | DirecTV-4S                                  | EU | CSG+ELA2      | S |\n",
      "| 2001-053 | 2001-12-01 1804 | Proton-K/DM-2        | 405-02             | Kosmos-2380/2382 (Uragan-M No. 711)         | RU | GIK-5+LC81/24 | S |\n",
      "| 2001-054 | 2001-12-05 2219 | Space Shuttle        | STS-108            | ISS UF-1 (OV-105 ISS)                       | US | KSC+LC39B     | S |\n",
      "| 2001-055 | 2001-12-07 1507 | Delta 7920-10        | D289               | Jason/TIMED (Jason)                         | US | V+SLC2W       | S |\n",
      "| 2001-056 | 2001-12-10 1718 | Zenit-2              | 45021-101/19L      | Meteor-3M (Meteor-3M 17F45 No. 101)         | RU | GIK-5+LC45/1  | S |\n",
      "| 2001-057 | 2001-12-21 0400 | Tsiklon-2            | 510-82-  802       | Kosmos-2383 (US-PU No. 9L)                  | RU | GIK-5+LC90/20 | S |\n",
      "| 2001-058 | 2001-12-28 0324 | Tsiklon-3            | 670-21-  803       | Gonets/Kosmos (Gonets-D1 No. 22/23/24)      | RU | GIK-1+LC32/1  | S |\n",
      "+----------+-----------------+----------------------+--------------------+---------------------------------------------+----+---------------+---+\n"
     ]
    }
   ],
   "source": [
    "%store -r ylaunch\n",
    "print(ylaunch[2001-1957])"
   ]
  },
  {
   "cell_type": "code",
   "execution_count": null,
   "id": "c370a041-ea36-4e13-9905-1208b21dc089",
   "metadata": {},
   "outputs": [],
   "source": []
  }
 ],
 "metadata": {
  "kernelspec": {
   "display_name": "Python 3 (ipykernel)",
   "language": "python",
   "name": "python3"
  },
  "language_info": {
   "codemirror_mode": {
    "name": "ipython",
    "version": 3
   },
   "file_extension": ".py",
   "mimetype": "text/x-python",
   "name": "python",
   "nbconvert_exporter": "python",
   "pygments_lexer": "ipython3",
   "version": "3.10.8"
  }
 },
 "nbformat": 4,
 "nbformat_minor": 5
}
