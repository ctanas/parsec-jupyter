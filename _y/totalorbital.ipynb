{
 "cells": [
  {
   "cell_type": "markdown",
   "id": "afe10935-7e9b-412e-a143-6195cfabbc6c",
   "metadata": {},
   "source": [
    "---\n",
    "permalink: \"/y/totalorbital\"\n",
    "title: Lansări orbitale\n",
    "layout: default\n",
    "---"
   ]
  },
  {
   "cell_type": "code",
   "execution_count": 1,
   "id": "1a1d0634-7809-4d32-990f-32b553478485",
   "metadata": {},
   "outputs": [],
   "source": [
    "%store -r total_launches\n",
    "%store -r total_failed\n",
    "%store -r total_succ\n",
    "%store -r curr_year\n",
    "%store -r table_all_succ\n",
    "%store -r ex_total_tot_country\n",
    "%store -r ex_total_succ_country\n",
    "%store -r ex_total_fail_country\n",
    "%store -r country\n",
    "from IPython.display import Markdown as md\n",
    "import pandas as pd"
   ]
  },
  {
   "cell_type": "code",
   "execution_count": 2,
   "id": "20634aa2-ebec-474a-93ce-bc60460c706f",
   "metadata": {},
   "outputs": [
    {
     "data": {
      "image/png": "[encoded data removed]",
      "text/plain": [
       "<Figure size 1400x500 with 1 Axes>"
      ]
     },
     "metadata": {},
     "output_type": "display_data"
    }
   ],
   "source": [
    "%matplotlib inline\n",
    "import matplotlib.pyplot as plt\n",
    "x = list(range(1957, int(curr_year)+1))\n",
    "\n",
    "t = 0\n",
    "s = 0\n",
    "i = 0\n",
    "while i < len(total_launches):\n",
    "    t = t + total_launches[i]\n",
    "    s = s + total_succ[i]\n",
    "    i+=1\n",
    "\n",
    "plt.figure(figsize=(14, 5))\n",
    "plt.bar(x, total_launches, color=\"r\", label=\"Lansări eșuate\")\n",
    "plt.bar(x, total_succ, color=\"b\", label=\"Lansări reușite\")\n",
    "plt.title(\"Lansări orbitale 1957-%s\" % str(curr_year))\n",
    "plt.legend()\n",
    "plt.show()\n",
    "plt.close()"
   ]
  },
  {
   "cell_type": "code",
   "execution_count": 3,
   "id": "823dd107-b4e7-4565-b91a-eea72b5ee6fc",
   "metadata": {},
   "outputs": [
    {
     "data": {
      "text/markdown": [
       "Din 1957 și până în prezent au avut loc 6308 tentative de lansări orbitale, din care 5939 lansări reușite și 369 eșecuri (încărcătura primară nu a ajuns pe orbită)."
      ],
      "text/plain": [
       "<IPython.core.display.Markdown object>"
      ]
     },
     "execution_count": 3,
     "metadata": {},
     "output_type": "execute_result"
    }
   ],
   "source": [
    "md(\"Din 1957 și până în prezent au avut loc {} tentative de lansări orbitale, din care {} lansări reușite și {} eșecuri (încărcătura primară nu a ajuns pe orbită).\".format(t, s, t-s))"
   ]
  },
  {
   "cell_type": "markdown",
   "id": "e7465746-9270-4e2c-934c-bf4b0db27d7f",
   "metadata": {},
   "source": [
    "Un clasament general al lansărilor orbitale, începând cu 1957, în funcție de statele care au efectuat tentativa. Lansările URSS și ale Rusiei nu sunt numărate separat, iar lansările statelor europene, fie prin Arianespace sau separat, sunt catalogate drept lansări europene, indiferent de locul de unde este lansată racheta."
   ]
  },
  {
   "cell_type": "code",
   "execution_count": 4,
   "id": "f5062304-17c4-4dd8-98bb-6b29fa8be89b",
   "metadata": {},
   "outputs": [
    {
     "name": "stdout",
     "output_type": "stream",
     "text": [
      "| Țară           |   Tentative |   Reușite |   Eșecuri |\n",
      "|:---------------|------------:|----------:|----------:|\n",
      "| SUA            |        1899 |      1761 |       138 |\n",
      "| Rusia          |        3354 |      3196 |       158 |\n",
      "| China          |         489 |       465 |        24 |\n",
      "| Europa         |         321 |       306 |        15 |\n",
      "| Japonia        |         126 |       116 |        10 |\n",
      "| India          |          82 |        73 |         9 |\n",
      "| Iran           |          15 |         7 |         8 |\n",
      "| Israel         |          11 |         9 |         2 |\n",
      "| Coreea de Sud  |           5 |         2 |         3 |\n",
      "| Coreea de Nord |           8 |         2 |         6 |\n",
      "| Brazilia       |           4 |         2 |         2 |\n"
     ]
    }
   ],
   "source": [
    "field_names_totalorbital = [\"Țară\", \"Tentative\", \"Reușite\", \"Eșecuri\"]\n",
    "data_totalorbital = []\n",
    "i = 0\n",
    "while i<11:\n",
    "    data_totalorbital.append([country[i], ex_total_tot_country[i], ex_total_succ_country[i], ex_total_fail_country[i]])\n",
    "    i+=1\n",
    "df_total_orbital = pd.DataFrame(data_totalorbital, columns=field_names_totalorbital)\n",
    "print(df_total_orbital.to_markdown(index=False)) "
   ]
  },
  {
   "cell_type": "code",
   "execution_count": 5,
   "id": "cc03110e-b6dc-42ab-aa57-ec2b302dc311",
   "metadata": {},
   "outputs": [
    {
     "name": "stdout",
     "output_type": "stream",
     "text": [
      "|   An |   Total |   SUA |   RU |   CN |   EU |   JP |   IN |   IR |   IL |   KP |   KR |   BR |\n",
      "|-----:|--------:|------:|-----:|-----:|-----:|-----:|-----:|-----:|-----:|-----:|-----:|-----:|\n",
      "| 2022 |     147 |    72 |   19 |   47 |    4 |    0 |    3 |    1 |    0 |    1 |    0 |    0 |\n",
      "| 2021 |     135 |    48 |   24 |   52 |    7 |    3 |    1 |    0 |    0 |    0 |    0 |    0 |\n",
      "| 2020 |     104 |    40 |   15 |   35 |    6 |    4 |    2 |    1 |    1 |    0 |    0 |    0 |\n",
      "| 2019 |      98 |    27 |   22 |   32 |    8 |    2 |    6 |    1 |    0 |    0 |    0 |    0 |\n",
      "| 2018 |     112 |    34 |   16 |   38 |   11 |    6 |    7 |    0 |    0 |    0 |    0 |    0 |\n",
      "| 2017 |      86 |    29 |   18 |   17 |   11 |    6 |    5 |    0 |    0 |    0 |    0 |    0 |\n",
      "| 2016 |      84 |    23 |   16 |   21 |   11 |    4 |    7 |    0 |    1 |    0 |    1 |    0 |\n",
      "| 2015 |      84 |    18 |   25 |   19 |   11 |    4 |    5 |    1 |    0 |    0 |    0 |    1 |\n",
      "| 2014 |      90 |    22 |   32 |   16 |   11 |    4 |    4 |    0 |    1 |    0 |    0 |    0 |\n",
      "| 2013 |      78 |    19 |   31 |   14 |    7 |    3 |    3 |    0 |    0 |    1 |    0 |    0 |\n",
      "| 2012 |      75 |    13 |   27 |   19 |   10 |    2 |    2 |    1 |    0 |    0 |    1 |    0 |\n",
      "| 2011 |      80 |    17 |   31 |   18 |    7 |    3 |    3 |    1 |    0 |    0 |    0 |    0 |\n",
      "| 2010 |      70 |    15 |   30 |   15 |    6 |    2 |    1 |    0 |    1 |    0 |    0 |    0 |\n",
      "| 2009 |      75 |    23 |   33 |    6 |    7 |    3 |    2 |    1 |    0 |    0 |    0 |    0 |\n",
      "| 2008 |      67 |    14 |   32 |   11 |    6 |    1 |    3 |    0 |    0 |    0 |    0 |    0 |\n",
      "| 2007 |      65 |    18 |   25 |   10 |    6 |    2 |    3 |    0 |    1 |    0 |    0 |    0 |\n",
      "| 2006 |      63 |    17 |   29 |    6 |    5 |    6 |    0 |    0 |    0 |    0 |    0 |    0 |\n",
      "| 2005 |      52 |    12 |   27 |    5 |    5 |    2 |    1 |    0 |    0 |    0 |    0 |    0 |\n",
      "| 2004 |      53 |    16 |   25 |    8 |    3 |    0 |    1 |    0 |    0 |    0 |    0 |    0 |\n",
      "| 2003 |      62 |    23 |   24 |    6 |    4 |    2 |    2 |    0 |    0 |    0 |    0 |    1 |\n",
      "| 2002 |      62 |    17 |   25 |    4 |   11 |    3 |    1 |    0 |    1 |    0 |    0 |    0 |\n",
      "| 2001 |      58 |    21 |   25 |    1 |    8 |    1 |    2 |    0 |    0 |    0 |    0 |    0 |\n",
      "| 2000 |      82 |    28 |   37 |    5 |   12 |    0 |    0 |    0 |    0 |    0 |    0 |    0 |\n",
      "| 1999 |      73 |    30 |   28 |    4 |   10 |    0 |    1 |    0 |    0 |    0 |    0 |    0 |\n",
      "| 1998 |      77 |    34 |   24 |    6 |   11 |    2 |    0 |    0 |    0 |    0 |    0 |    0 |\n",
      "| 1997 |      86 |    37 |   28 |    6 |   12 |    2 |    1 |    0 |    0 |    0 |    0 |    0 |\n",
      "| 1996 |      73 |    33 |   25 |    3 |   10 |    1 |    1 |    0 |    0 |    0 |    0 |    0 |\n",
      "| 1995 |      74 |    27 |   32 |    2 |   11 |    1 |    0 |    0 |    1 |    0 |    0 |    0 |\n",
      "| 1994 |      89 |    26 |   48 |    5 |    6 |    2 |    2 |    0 |    0 |    0 |    0 |    0 |\n",
      "| 1993 |      79 |    23 |   47 |    1 |    7 |    1 |    0 |    0 |    0 |    0 |    0 |    0 |\n",
      "| 1992 |      95 |    28 |   54 |    4 |    7 |    1 |    1 |    0 |    0 |    0 |    0 |    0 |\n",
      "| 1991 |      88 |    18 |   59 |    1 |    8 |    2 |    0 |    0 |    0 |    0 |    0 |    0 |\n",
      "| 1990 |     116 |    27 |   75 |    5 |    5 |    3 |    0 |    0 |    1 |    0 |    0 |    0 |\n",
      "| 1989 |     101 |    18 |   74 |    0 |    7 |    2 |    0 |    0 |    0 |    0 |    0 |    0 |\n",
      "| 1988 |     116 |    12 |   90 |    4 |    7 |    2 |    0 |    0 |    1 |    0 |    0 |    0 |\n",
      "| 1987 |     110 |     8 |   95 |    2 |    2 |    3 |    0 |    0 |    0 |    0 |    0 |    0 |\n",
      "| 1986 |     103 |     6 |   91 |    2 |    2 |    2 |    0 |    0 |    0 |    0 |    0 |    0 |\n",
      "| 1985 |     121 |    17 |   98 |    1 |    3 |    2 |    0 |    0 |    0 |    0 |    0 |    0 |\n",
      "| 1984 |     129 |    22 |   97 |    3 |    4 |    3 |    0 |    0 |    0 |    0 |    0 |    0 |\n",
      "| 1983 |     127 |    22 |   98 |    1 |    2 |    3 |    1 |    0 |    0 |    0 |    0 |    0 |\n",
      "| 1982 |     121 |    18 |  101 |    1 |    0 |    1 |    0 |    0 |    0 |    0 |    0 |    0 |\n",
      "| 1981 |     123 |    18 |   98 |    1 |    2 |    3 |    1 |    0 |    0 |    0 |    0 |    0 |\n",
      "| 1980 |     107 |    14 |   90 |    0 |    0 |    2 |    1 |    0 |    0 |    0 |    0 |    0 |\n",
      "| 1979 |     106 |    16 |   87 |    0 |    1 |    2 |    0 |    0 |    0 |    0 |    0 |    0 |\n",
      "| 1978 |     124 |    32 |   88 |    1 |    0 |    3 |    0 |    0 |    0 |    0 |    0 |    0 |\n",
      "| 1977 |     124 |    24 |   98 |    0 |    0 |    2 |    0 |    0 |    0 |    0 |    0 |    0 |\n",
      "| 1976 |     128 |    26 |   99 |    2 |    0 |    1 |    0 |    0 |    0 |    0 |    0 |    0 |\n",
      "| 1975 |     125 |    28 |   89 |    3 |    3 |    2 |    0 |    0 |    0 |    0 |    0 |    0 |\n",
      "| 1974 |     106 |    24 |   81 |    0 |    0 |    1 |    0 |    0 |    0 |    0 |    0 |    0 |\n",
      "| 1973 |     110 |    23 |   87 |    0 |    0 |    0 |    0 |    0 |    0 |    0 |    0 |    0 |\n",
      "| 1972 |     106 |    31 |   74 |    0 |    0 |    1 |    0 |    0 |    0 |    0 |    0 |    0 |\n",
      "| 1971 |     121 |    33 |   83 |    1 |    2 |    2 |    0 |    0 |    0 |    0 |    0 |    0 |\n",
      "| 1970 |     114 |    29 |   81 |    1 |    2 |    1 |    0 |    0 |    0 |    0 |    0 |    0 |\n",
      "| 1969 |     110 |    40 |   70 |    0 |    0 |    0 |    0 |    0 |    0 |    0 |    0 |    0 |\n",
      "| 1968 |     120 |    45 |   75 |    0 |    0 |    0 |    0 |    0 |    0 |    0 |    0 |    0 |\n",
      "| 1967 |     127 |    58 |   66 |    0 |    3 |    0 |    0 |    0 |    0 |    0 |    0 |    0 |\n",
      "| 1966 |     119 |    73 |   45 |    0 |    1 |    0 |    0 |    0 |    0 |    0 |    0 |    0 |\n",
      "| 1965 |     112 |    63 |   48 |    0 |    1 |    0 |    0 |    0 |    0 |    0 |    0 |    0 |\n",
      "| 1964 |      87 |    57 |   30 |    0 |    0 |    0 |    0 |    0 |    0 |    0 |    0 |    0 |\n",
      "| 1963 |      57 |    38 |   19 |    0 |    0 |    0 |    0 |    0 |    0 |    0 |    0 |    0 |\n",
      "| 1962 |      72 |    52 |   20 |    0 |    0 |    0 |    0 |    0 |    0 |    0 |    0 |    0 |\n",
      "| 1961 |      35 |    29 |    6 |    0 |    0 |    0 |    0 |    0 |    0 |    0 |    0 |    0 |\n",
      "| 1960 |      20 |    16 |    4 |    0 |    0 |    0 |    0 |    0 |    0 |    0 |    0 |    0 |\n",
      "| 1959 |      16 |    13 |    3 |    0 |    0 |    0 |    0 |    0 |    0 |    0 |    0 |    0 |\n",
      "| 1958 |       8 |     7 |    1 |    0 |    0 |    0 |    0 |    0 |    0 |    0 |    0 |    0 |\n",
      "| 1957 |       2 |     0 |    2 |    0 |    0 |    0 |    0 |    0 |    0 |    0 |    0 |    0 |\n"
     ]
    }
   ],
   "source": [
    "print(table_all_succ)"
   ]
  }
 ],
 "metadata": {
  "kernelspec": {
   "display_name": "Python 3 (ipykernel)",
   "language": "python",
   "name": "python3"
  },
  "language_info": {
   "codemirror_mode": {
    "name": "ipython",
    "version": 3
   },
   "file_extension": ".py",
   "mimetype": "text/x-python",
   "name": "python",
   "nbconvert_exporter": "python",
   "pygments_lexer": "ipython3",
   "version": "3.10.8"
  }
 },
 "nbformat": 4,
 "nbformat_minor": 5
}
