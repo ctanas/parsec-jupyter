{
 "cells": [
  {
   "cell_type": "markdown",
   "id": "bd1e98e5-2123-460e-a083-07f798fee6bf",
   "metadata": {},
   "source": [
    "---\n",
    "permalink: \"/y/2007\"\n",
    "title: Lansări orbitale în 2007\n",
    "layout: default\n",
    "---"
   ]
  },
  {
   "cell_type": "code",
   "execution_count": 1,
   "id": "1a1d0634-7809-4d32-990f-32b553478485",
   "metadata": {},
   "outputs": [
    {
     "name": "stdout",
     "output_type": "stream",
     "text": [
      "În anul 2007 au avut loc un total de 68 tentative de lansări orbitale, din care 3 eșecuri.\n",
      "+---------+-----------+---------+---------+\n",
      "| Țara    | Tentative | Reușite | Eșecuri |\n",
      "+---------+-----------+---------+---------+\n",
      "| SUA     | 19        | 18      | 1       |\n",
      "| Rusia   | 27        | 25      | 2       |\n",
      "| China   | 10        | 10      | 0       |\n",
      "| Europa  | 6         | 6       | 0       |\n",
      "| Japonia | 2         | 2       | 0       |\n",
      "| India   | 3         | 3       | 0       |\n",
      "| Israel  | 1         | 1       | 0       |\n",
      "+---------+-----------+---------+---------+\n",
      "+----------+-----------------+---------------------+--------------------+-----------------------------------------------+----+----------------+---+\n",
      "| ID       | Dată (UTC)      | Lansator            | Serie              | Satelit (misiune)                             | Or | Centru         | R |\n",
      "+----------+-----------------+---------------------+--------------------+-----------------------------------------------+----+----------------+---+\n",
      "| 2007-001 | 2007-01-10 0354 | PSLV                | PSLV-C7            | Cartosat-2/SRE (LAPAN-TUBSAT)                 | IN | SHAR+FLP       | S |\n",
      "| 2007-002 | 2007-01-18 0212 | Soyuz-U-PVB         | Ts15000-107        | Progress M-59 (Progress 7K-TGM No. 359)       | RU | GIK-5+LC1      | S |\n",
      "| 2007-F01 | 2007-01-30 2322 | Zenit-3SL           | SL24/DM-SL-25L     | SL16 NSS 8 (NSS 8)                            | RU | KLA+-          | F |\n",
      "| 2007-003 | 2007-02-02 1628 | Chang Zheng 3A      | Y12                | Beidou 4 (di si ke beidou daohang)            | CN | XSC+LC2        | S |\n",
      "| 2007-004 | 2007-02-17 2301 | Delta 7925-10C      | D323               | THEMIS (THEMIS P5)                            | US | CC+SLC17B      | S |\n",
      "| 2007-005 | 2007-02-24 0441 | H-IIA 2024          | H-IIA-12           | IGS R-2/O-3V (IGS Radar-2)                    | JP | TNSC+Y         | S |\n",
      "| 2007-006 | 2007-03-09 0310 | Atlas V 401         | AV-013             | STP-1 (Orbital Express)                       | US | CC+SLC41       | S |\n",
      "| 2007-007 | 2007-03-11 2203 | Ariane 5ECA         | V175 (535)         | Skynet 5A/Insat 4B (Insat 4B)                 | EU | CSG+ELA3       | S |\n",
      "| 2007-F02 | 2007-03-21 0110 | Falcon 1            | F002               | Demosat (AFSS/LCT2)                           | US | KMR+OM         | F |\n",
      "| 2007-008 | 2007-04-07 1731 | Soyuz-FG            | Ts15000-019        | Soyuz TMA-10 (Soyuz 11F732 No. 220)           | RU | GIK-5+LC1      | S |\n",
      "| 2007-009 | 2007-04-09 2254 | Proton-M/Briz-M     | 535-16/88521       | Anik F3                                       | RU | GIK-5+LC200/39 | S |\n",
      "| 2007-010 | 2007-04-11 0327 | Chang Zheng 2C      | Y18                | HY-1B (haiyang yihao B)                       | CN | TYSC+LC7       | S |\n",
      "| 2007-011 | 2007-04-13 2011 | Chang Zheng 3A      | Y13                | Beidou 2A (yi ke beidou daohang wei)          | CN | XSC+LC3        | S |\n",
      "| 2007-012 | 2007-04-17 0646 | Dnepr               | 510-9971-806       | Misr/Saudisat-3/ (Egyptsat 1)                 | RU | GIK-5+LC109/95 | S |\n",
      "| 2007-013 | 2007-04-23 1000 | PSLV / CA           | PSLV-C8            | AGILE/AAM (AGILE)                             | IN | SHAR+SLP       | S |\n",
      "| 2007-014 | 2007-04-24 0648 | Minotaur I          | 7                  | NFIRE                                         | US | MARS+Pad 0B    | S |\n",
      "| 2007-015 | 2007-04-25 2026 | Pegasus XL          | F38                | AIM                                           | US | V+RW30/12      | S |\n",
      "| 2007-016 | 2007-05-04 2229 | Ariane 5ECA         | V176 (536)         | Astra 1L/Galaxy 17 (Astra 1L)                 | EU | CSG+ELA3       | S |\n",
      "| 2007-017 | 2007-05-12 0325 | Soyuz-U-PVB         | Ts15000-104        | Progress M-60 (Progress 7K-TGM No. 360)       | RU | GIK-5+LC1      | S |\n",
      "| 2007-018 | 2007-05-13 1601 | Chang Zheng 3B / G2 | Y9                 | Nigcomsat 1                                   | CN | XSC+LC2?       | S |\n",
      "| 2007-019 | 2007-05-25 0712 | Chang Zheng 2D      | Y8                 | Yaogan 2 (yaogan weixing erhao)               | CN | JQ+LC603       | S |\n",
      "| 2007-020 | 2007-05-29 2031 | Soyuz-FG / Fregat   | Ts15000-021/1016   | Globalstar                                    | RU | GIK-5+LC31     | S |\n",
      "| 2007-021 | 2007-05-31 1608 | Chang Zheng 3A      | Y15                | Xinnuo 3 (xinnuo sanhao)                      | CN | XSC+LC3?       | S |\n",
      "| 2007-022 | 2007-06-07 1800 | Soyuz-U-PVB         | 76033  -137 099    | Kosmos-2427 (Kobal't-M)                       | RU | GIK-1+LC16/2   | S |\n",
      "| 2007-023 | 2007-06-08 0234 | Delta 7420-10C      | D324               | COSMO 1 (COSMO-Skymed)                        | US | V+SLC2W        | S |\n",
      "| 2007-024 | 2007-06-08 2338 | Space Shuttle       | STS-117            | ISS 13A (OV-104 ISS)                          | US | KSC+LC39A      | S |\n",
      "| 2007-025 | 2007-06-10 2340 | Shavit 2            | 7                  | 'Ofeq-7                                       | IL | PALB+-         | S |\n",
      "| 2007-026 | 2007-06-15 0214 | Dnepr               | 670-8343-630       | TerraSAR-X                                    | RU | GIK-5+LC109/95 | S |\n",
      "| 2007-027 | 2007-06-15 1512 | Atlas V 401         | AV-009             | USA 194     [NOSS17] (INTRUDER 8?)            | US | CC+SLC41       | S |\n",
      "| 2007-028 | 2007-06-28 1502 | Dnepr               | 670-8343-634       | Genesis-2 (Bigelow Genesis-2)                 | RU | YAS+Sh370/11   | S |\n",
      "| 2007-029 | 2007-06-29 1000 | Zenit-2M            | 70141-301/1-2005   | Kosmos-2428 (Tselina-2 No. 17L)               | RU | GIK-5+LC45/1   | S |\n",
      "| 2007-030 | 2007-07-02 1938 | Kosmos 11K65M       | 47163-313 SL       | SAR-Lupe 2                                    | RU | GIK-1+LC132/1  | S |\n",
      "| 2007-031 | 2007-07-05 1208 | Chang Zheng 3B      | Y10                | Zhongxing 6B (zhongxing liu B weixing)        | CN | XSC+LC2        | S |\n",
      "| 2007-032 | 2007-07-07 0116 | Proton-M/Briz-M     | 535-20/88520       | DirecTV-10 (DirecTV 10)                       | RU | GIK-5+LC200/39 | S |\n",
      "| 2007-033 | 2007-08-02 1733 | Soyuz-U-PVB         | Ts15000-108        | Progress M-61 (Progress 7K-TGM No. 361)       | RU | GIK-5+LC1      | S |\n",
      "| 2007-034 | 2007-08-04 0926 | Delta 7925-9.5      | D325               | Mars Phoenix (Phoenix Lander)                 | US | CC+SLC17A      | S |\n",
      "| 2007-035 | 2007-08-08 2236 | Space Shuttle       | STS-118            | ISS 13A.1 (OV-105 ISS)                        | US | KSC+LC39A      | S |\n",
      "| 2007-036 | 2007-08-14 2344 | Ariane 5ECA         | V177 (537)         | Spaceway 3/BSat 3A (Spaceway 3)               | EU | CSG+ELA3       | S |\n",
      "| 2007-037 | 2007-09-02 1251 | GSLV Mk I           | GSLV-F04           | Insat 4CR (INSAT 4CR)                         | IN | SHAR+SLP       | S |\n",
      "| 2007-F03 | 2007-09-05 2243 | Proton-M/Briz-M     | 535-22/88522       | JCSAT 11                                      | RU | GIK-5+LC200/39 | F |\n",
      "| 2007-038 | 2007-09-11 1305 | Kosmos 11K65M       | 53752-108          | Kosmos-2429 (Parus?)                          | RU | GIK-1+LC132/1  | S |\n",
      "| 2007-039 | 2007-09-14 0131 | H-IIA 2022          | H-IIA-13           | SELENE                                        | JP | TNSC+Y         | S |\n",
      "| 2007-040 | 2007-09-14 1100 | Soyuz-U-PVB         | Ts15000-098        | Foton-M No. 3                                 | RU | GIK-5+LC1      | S |\n",
      "| 2007-041 | 2007-09-18 1835 | Delta 7920-10C      | D326               | WorldView-1                                   | US | V+SLC2W        | S |\n",
      "| 2007-042 | 2007-09-19 0326 | Chang Zheng 4B      | Y17                | CBERS-2B (ziyuan yihao 02B weixing)           | CN | TYSC+LC7       | S |\n",
      "| 2007-043 | 2007-09-27 1134 | Delta 7925H         | D327               | Dawn                                          | US | CC+SLC17B      | S |\n",
      "| 2007-044 | 2007-10-05 2202 | Ariane 5GS          | V178 (526)         | IS-11/Optus D2 (Optus D2)                     | EU | CSG+ELA3       | S |\n",
      "| 2007-045 | 2007-10-10 1322 | Soyuz-FG            | Ts15000-020        | Soyuz TMA-11 (Soyuz 11F732 No. 221)           | RU | GIK-5+LC1      | S |\n",
      "| 2007-046 | 2007-10-11 0022 | Atlas V 421         | AV-011             | USA 195 (WGS SV-1) (Wideband Global Satcom 1) | US | CC+SLC41       | S |\n",
      "| 2007-047 | 2007-10-17 1223 | Delta 7925-9.5      | D328               | USA 196 (GPS IIRM-4) (Navstar GPS SVN 55)     | US | CC+SLC17A      | S |\n",
      "| 2007-048 | 2007-10-20 2012 | Soyuz-FG / Fregat   | Ts15000-022/1015   | Globalstar                                    | RU | GIK-5+LC31     | S |\n",
      "| 2007-049 | 2007-10-23 0439 | Molniya 8K78M / 2BL | 77046  -692 049    | Kosmos-2430 (Oko US-KS)                       | RU | GIK-1+LC16/2   | S |\n",
      "| 2007-050 | 2007-10-23 1538 | Space Shuttle       | STS-120            | ISS 10A (OV-103 ISS)                          | US | KSC+LC39A      | S |\n",
      "| 2007-051 | 2007-10-24 1005 | Chang Zheng 3A      | Y14                | Chang'e-1 (chang'e yihao weixing)             | CN | XSC+LC3        | S |\n",
      "| 2007-052 | 2007-10-26 0735 | Proton-K/DM-2       | 410-17             | Kosmos-2431/2433 (Uragan-M No. 718)           | RU | GIK-5+LC81/24  | S |\n",
      "| 2007-053 | 2007-11-01 0051 | Kosmos 11K65M       | 53765-632 SL       | SAR-Lupe 3                                    | RU | GIK-1+LC132/1  | S |\n",
      "| 2007-054 | 2007-11-11 0150 | Delta 4 Heavy       | D4-8/D329          | USA 197 (DSP 23) (DSP F23)                    | US | CC+SLC37B      | S |\n",
      "| 2007-055 | 2007-11-11 2248 | Chang Zheng 4C      | Y3                 | Yaogan 3 (yaogan weixing sanhao)              | CN | TYSC+LC7       | S |\n",
      "| 2007-056 | 2007-11-14 2206 | Ariane 5ECA         | V179 (538)         | Skynet 5B/StarOne C1 (Star One C1)            | EU | CSG+ELA3       | S |\n",
      "| 2007-057 | 2007-11-17 2239 | Proton-M/Briz-M     | 535-23/88523       | Sirius 4                                      | RU | GIK-5+LC200/39 | S |\n",
      "| 2007-058 | 2007-12-09 0016 | Proton-M/Briz-M     | 535-26/88526       | Raduga-1M  (Globus) (Globus-1M No. 11L)       | RU | GIK-5+LC81/24  | S |\n",
      "| 2007-059 | 2007-12-09 0231 | Delta 7420-10C      | D330               | COSMO 2 (COSMO-Skymed 2)                      | US | V+SLC2W        | S |\n",
      "| 2007-060 | 2007-12-10 2205 | Atlas V 401         | AV-015             | USA 198      [SDS16] (QUASAR 15?)             | US | CC+SLC41       | S |\n",
      "| 2007-061 | 2007-12-14 1317 | Soyuz-FG / Fregat   | Ts15000-025/1015-2 | Radarsat-2                                    | RU | GIK-5+LC31     | S |\n",
      "| 2007-062 | 2007-12-20 2004 | Delta 7925-9.5      | D331               | USA 199 (GPS IIRM-5) (Navstar GPS SVN 57)     | US | CC+SLC17A      | S |\n",
      "| 2007-063 | 2007-12-21 2141 | Ariane 5GS          | V180 (530)         | Rascom 1/Horizons 2 (Rascom 1)                | EU | CSG+ELA3       | S |\n",
      "| 2007-064 | 2007-12-23 0712 | Soyuz-U-PVB         | Sh15000-109        | Progress M-62 (Progress 7K-TGM No.362)        | RU | GIK-5+LC1      | S |\n",
      "| 2007-065 | 2007-12-25 1932 | Proton-M/DM-2       | 535-28             | Kosmos-2434/2436 (Uragan-M No. 721)           | RU | GIK-5+LC81/24  | S |\n",
      "+----------+-----------------+---------------------+--------------------+-----------------------------------------------+----+----------------+---+\n"
     ]
    }
   ],
   "source": [
    "%store -r ylaunch\n",
    "print(ylaunch[2007-1957])"
   ]
  },
  {
   "cell_type": "code",
   "execution_count": null,
   "id": "c370a041-ea36-4e13-9905-1208b21dc089",
   "metadata": {},
   "outputs": [],
   "source": []
  }
 ],
 "metadata": {
  "kernelspec": {
   "display_name": "Python 3 (ipykernel)",
   "language": "python",
   "name": "python3"
  },
  "language_info": {
   "codemirror_mode": {
    "name": "ipython",
    "version": 3
   },
   "file_extension": ".py",
   "mimetype": "text/x-python",
   "name": "python",
   "nbconvert_exporter": "python",
   "pygments_lexer": "ipython3",
   "version": "3.10.8"
  }
 },
 "nbformat": 4,
 "nbformat_minor": 5
}
