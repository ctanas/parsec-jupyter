{
 "cells": [
  {
   "cell_type": "markdown",
   "id": "bd1e98e5-2123-460e-a083-07f798fee6bf",
   "metadata": {},
   "source": [
    "---\n",
    "permalink: \"/y/1959\"\n",
    "title: Lansări orbitale în 1959\n",
    "layout: default\n",
    "---"
   ]
  },
  {
   "cell_type": "code",
   "execution_count": 2,
   "id": "1a1d0634-7809-4d32-990f-32b553478485",
   "metadata": {},
   "outputs": [
    {
     "name": "stdout",
     "output_type": "stream",
     "text": [
      "În anul 1959 au avut loc un total de 24 tentative de lansări orbitale, din care 8 eșecuri.\n",
      "+-------+-----------+---------+---------+\n",
      "| Țara  | Tentative | Reușite | Eșecuri |\n",
      "+-------+-----------+---------+---------+\n",
      "| SUA   | 20        | 13      | 7       |\n",
      "| Rusia | 4         | 3       | 1       |\n",
      "+-------+-----------+---------+---------+\n",
      "+----------+-----------------+-------------------+----------+----------------------------------------+----+------------+---+\n",
      "| ID       | Dată (UTC)      | Lansator          | Serie    | Satelit (misiune)                      | Or | Centru     | R |\n",
      "+----------+-----------------+-------------------+----------+----------------------------------------+----+------------+---+\n",
      "| 1959 MU  | 1959-01-02 1641 | Vostok-L 8K72     | B1-6     | Luna-1 (E-1 No. 4)                     | RU | NIIP-5+LC1 | S |\n",
      "| 1959-E01 | 1959-01-21      | Thor Agena A      | 160/1019 | Discoverer 0 (-)                       | US | V+75-3-4   | S |\n",
      "| 1959 ALP | 1959-02-17 1555 | Vanguard          | SLV-4    | Vanguard II (Cloud cover satellite)    | US | CC+LC18A   | S |\n",
      "| 1959 BET | 1959-02-28 2149 | Thor Agena A      | 163/1022 | Discoverer 1 (CORONA Test Vehicle 2)   | US | V+75-3-4   | S |\n",
      "| 1959 NU  | 1959-03-03 0510 | Juno II           | AM-14    | Pioneer 4                              | US | CC+LC5     | S |\n",
      "| 1959 GAM | 1959-04-13 2118 | Thor Agena A      | 170/1018 | Discoverer 2 (CORONA BIO 1)            | US | V+75-3-4   | S |\n",
      "| 1959-F01 | 1959-04-14 0249 | Vanguard          | SLV-5    | Vanguard SLV5 (Magnetometer satellite) | US | CC+LC18A   | F |\n",
      "| 1959-F02 | 1959-06-03 2009 | Thor Agena A      | 174/1020 | Discoverer 3 (CORONA BIO 2)            | US | V+75-3-4   | F |\n",
      "| 1959-F06 | 1959-06-18 0808 | Vostok-L 8K72     | I1-7     | Luna (E-1 No. 5)                       | RU | NIIP-5+LC1 | F |\n",
      "| 1959-F03 | 1959-06-22 2016 | Vanguard          | SLV-6    | Vanguard SLV6 (Radiation Balance sat)  | US | CC+LC18A   | F |\n",
      "| 1959-F05 | 1959-07-16 1737 | Juno II           | AM-16    | NASA S-1                               | US | CC+LC5     | F |\n",
      "| 1959 DEL | 1959-08-07 1424 | Thor Able III     | 134      | Explorer 6 (NASA S-2)                  | US | CC+LC17A   | S |\n",
      "| 1959 EPS | 1959-08-13 1900 | Thor Agena A      | 192/1029 | Discoverer 5 (CORONA C-2)              | US | V+75-3-4   | S |\n",
      "| 1959-F07 | 1959-08-15 0031 | Juno II / (3)     | AM-19B   | Beacon 2 (Beacon)                      | US | CC+LC26B   | F |\n",
      "| 1959 ZET | 1959-08-19 1924 | Thor Agena A      | 200/1028 | Discoverer 6 (CORONA C-3)              | US | V+75-3-5   | S |\n",
      "| 1959 XI  | 1959-09-12 0639 | Vostok-L 8K72     | I1-7B    | Luna-2 (E-1 No. 6)                     | RU | NIIP-5+LC1 | S |\n",
      "| 1959-F08 | 1959-09-17 1434 | Thor Able II / M1 | 136      | Transit 1A                             | US | CC+LC17A   | F |\n",
      "| 1959 ETA | 1959-09-18 0520 | Vanguard / X-248  | SLV-7    | Vanguard III (Magne-Ray satellite)     | US | CC+LC18A   | S |\n",
      "| 1959-E02 | 1959-09-24 1512 | Atlas C Able      | 9C       | Static Test (Able IVA)                 | US | CC+LC12    | S |\n",
      "| 1959 THE | 1959-10-04 0043 | Vostok-L 8K72     | I1-8     | Luna-3 (E-2A)                          | RU | NIIP-5+LC1 | S |\n",
      "| 1959 IOT | 1959-10-13 1530 | Juno II           | AM-19A   | Explorer 7 (NASA S-1A)                 | US | CC+LC5     | S |\n",
      "| 1959 KAP | 1959-11-07 2028 | Thor Agena A      | 206/1051 | Discoverer 7 (CORONA C-4)              | US | V+75-3-4   | S |\n",
      "| 1959 LAM | 1959-11-20 1925 | Thor Agena A      | 212/1050 | Discoverer 8 (CORONA C-5)              | US | V+75-3-5   | S |\n",
      "| 1959-F09 | 1959-11-26 0726 | Atlas Able        | 20D      | Able IVB                               | US | CC+LC14    | F |\n",
      "+----------+-----------------+-------------------+----------+----------------------------------------+----+------------+---+\n"
     ]
    }
   ],
   "source": [
    "%store -r ylaunch\n",
    "print(ylaunch[1959-1957])"
   ]
  },
  {
   "cell_type": "code",
   "execution_count": null,
   "id": "c370a041-ea36-4e13-9905-1208b21dc089",
   "metadata": {},
   "outputs": [],
   "source": []
  }
 ],
 "metadata": {
  "kernelspec": {
   "display_name": "Python 3 (ipykernel)",
   "language": "python",
   "name": "python3"
  },
  "language_info": {
   "codemirror_mode": {
    "name": "ipython",
    "version": 3
   },
   "file_extension": ".py",
   "mimetype": "text/x-python",
   "name": "python",
   "nbconvert_exporter": "python",
   "pygments_lexer": "ipython3",
   "version": "3.10.8"
  }
 },
 "nbformat": 4,
 "nbformat_minor": 5
}
