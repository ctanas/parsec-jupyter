{
 "cells": [
  {
   "cell_type": "markdown",
   "id": "e4c04450-750c-44ec-86e9-3f2a9d469043",
   "metadata": {},
   "source": [
    "---\n",
    "layout: default\n",
    "title: About\n",
    "---"
   ]
  },
  {
   "cell_type": "markdown",
   "id": "242a8c7a-d427-476a-b214-1c0f1158929d",
   "metadata": {
    "tags": []
   },
   "source": [
    "## About section"
   ]
  },
  {
   "cell_type": "code",
   "execution_count": null,
   "id": "d9c3b40f-1336-4bf8-832e-5ff46c3c4c7e",
   "metadata": {},
   "outputs": [],
   "source": []
  }
 ],
 "metadata": {
  "kernelspec": {
   "display_name": "Python 3 (ipykernel)",
   "language": "python",
   "name": "python3"
  },
  "language_info": {
   "codemirror_mode": {
    "name": "ipython",
    "version": 3
   },
   "file_extension": ".py",
   "mimetype": "text/x-python",
   "name": "python",
   "nbconvert_exporter": "python",
   "pygments_lexer": "ipython3",
   "version": "3.9.13"
  }
 },
 "nbformat": 4,
 "nbformat_minor": 5
}
